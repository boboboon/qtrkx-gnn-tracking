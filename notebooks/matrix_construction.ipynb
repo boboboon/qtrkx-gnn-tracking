{
 "cells": [
  {
   "cell_type": "code",
   "execution_count": 35,
   "metadata": {},
   "outputs": [],
   "source": [
    "import sys, os, time, datetime, csv\n",
    "sys.path.insert(1, '/Users/lucascurtin/Desktop/QGNN Repos/qtrkx-gnn-tracking/tools')\n",
    "from tools import *\n",
    "import numpy as np\n",
    "import math\n",
    "import matplotlib\n",
    "import matplotlib.pyplot as plt\n",
    "from matplotlib.animation import FuncAnimation\n",
    "from mpl_toolkits.mplot3d import Axes3D\n",
    "\n",
    "from tqdm import tqdm\n",
    "from matplotlib.lines import Line2D\n",
    "\n",
    "import trackml.dataset\n",
    "\n",
    "import pandas as pd\n",
    "\n",
    "from mpl_toolkits import mplot3d\n",
    "\n",
    "\n",
    "from collections import namedtuple\n",
    "\n",
    "import numpy as np\n",
    "\n",
    "# A Graph is a namedtuple of matrices (X, Ri, Ro, y)\n",
    "Graph = namedtuple('Graph', ['X', 'Ri', 'Ro', 'y'])\n",
    "\n",
    "def graph_to_sparse(graph):\n",
    "    Ri_rows, Ri_cols = graph.Ri.nonzero()\n",
    "    Ro_rows, Ro_cols = graph.Ro.nonzero()\n",
    "    return dict(X=graph.X, y=graph.y,\n",
    "                Ri_rows=Ri_rows, Ri_cols=Ri_cols,\n",
    "                Ro_rows=Ro_rows, Ro_cols=Ro_cols)\n",
    "\n",
    "def sparse_to_graph(X, Ri_rows, Ri_cols, Ro_rows, Ro_cols, y, dtype=np.uint8):\n",
    "    n_nodes, n_edges = X.shape[0], Ri_rows.shape[0]\n",
    "    Ri = np.zeros((n_nodes, n_edges), dtype=dtype)\n",
    "    Ro = np.zeros((n_nodes, n_edges), dtype=dtype)\n",
    "    Ri[Ri_rows, Ri_cols] = 1\n",
    "    Ro[Ro_rows, Ro_cols] = 1\n",
    "    return Graph(X, Ri, Ro, y)\n",
    "\n",
    "def save_graph(graph, filename):\n",
    "    \"\"\"Write a single graph to an NPZ file archive\"\"\"\n",
    "    np.savez(filename, **graph_to_sparse(graph))\n",
    "\n",
    "def save_graphs(graphs, filenames):\n",
    "    for graph, filename in zip(graphs, filenames):\n",
    "        save_graph(graph, filename)\n",
    "\n",
    "def load_graph(filename):\n",
    "    \"\"\"Reade a single graph NPZ\"\"\"\n",
    "    with np.load(filename) as f:\n",
    "        return sparse_to_graph(**dict(f.items()))\n",
    "\n",
    "def load_graphs(filenames, graph_type=Graph):\n",
    "    return [load_graph(f, graph_type) for f in filenames]\n",
    "\n",
    "\n",
    "def sparse_to_graph(X, Ri_rows, Ri_cols, Ro_rows, Ro_cols, y, dtype=np.float32):\n",
    "    n_nodes, n_edges = X.shape[0], Ri_rows.shape[0]\n",
    "    Ri = np.zeros((n_nodes, n_edges), dtype=dtype)\n",
    "    Ro = np.zeros((n_nodes, n_edges), dtype=dtype)\n",
    "    Ri[Ri_rows, Ri_cols] = 1\n",
    "    Ro[Ro_rows, Ro_cols] = 1\n",
    "    return Graph(X, Ri, Ro, y)\n",
    "\n"
   ]
  },
  {
   "cell_type": "code",
   "execution_count": 36,
   "metadata": {},
   "outputs": [],
   "source": [
    "cols = [ 'edge', 'label', 'eta', 'phi', 'true_pt', 'layer', 'track_length', 'hit1_id', 'hit2_id', 'particle_num'] #suggested column names\n",
    "event = pd.DataFrame(np.load('/Users/lucascurtin/Desktop/edge_data/preprocessed_edges_1000_1099/edges_preprocessed_000001000.npy',allow_pickle = True), columns = cols)\n",
    "\n",
    "true_events=event.loc[event['label'] == 1]\n",
    "\n",
    "fake_events=event.loc[event['label'] == 0]\n"
   ]
  },
  {
   "cell_type": "code",
   "execution_count": 37,
   "metadata": {},
   "outputs": [
    {
     "data": {
      "text/html": [
       "<div>\n",
       "<style scoped>\n",
       "    .dataframe tbody tr th:only-of-type {\n",
       "        vertical-align: middle;\n",
       "    }\n",
       "\n",
       "    .dataframe tbody tr th {\n",
       "        vertical-align: top;\n",
       "    }\n",
       "\n",
       "    .dataframe thead th {\n",
       "        text-align: right;\n",
       "    }\n",
       "</style>\n",
       "<table border=\"1\" class=\"dataframe\">\n",
       "  <thead>\n",
       "    <tr style=\"text-align: right;\">\n",
       "      <th></th>\n",
       "      <th>edge</th>\n",
       "      <th>label</th>\n",
       "      <th>eta</th>\n",
       "      <th>phi</th>\n",
       "      <th>true_pt</th>\n",
       "      <th>layer</th>\n",
       "      <th>track_length</th>\n",
       "      <th>hit1_id</th>\n",
       "      <th>hit2_id</th>\n",
       "      <th>particle_num</th>\n",
       "    </tr>\n",
       "  </thead>\n",
       "  <tbody>\n",
       "    <tr>\n",
       "      <th>0</th>\n",
       "      <td>[31.496714, -1.2947888, 44.7477, 72.56859, -1....</td>\n",
       "      <td>1</td>\n",
       "      <td>1.11799</td>\n",
       "      <td>[-1.2947888, -1.3045837]</td>\n",
       "      <td>[1.4319831132888794, 1.4319831132888794]</td>\n",
       "      <td>82</td>\n",
       "      <td>[7, 7]</td>\n",
       "      <td>00000100010017</td>\n",
       "      <td>00000100010017</td>\n",
       "      <td>1095</td>\n",
       "    </tr>\n",
       "    <tr>\n",
       "      <th>1</th>\n",
       "      <td>[31.496714, -1.2947888, 44.7477, 72.45377, -1....</td>\n",
       "      <td>0</td>\n",
       "      <td>-1.049843</td>\n",
       "      <td>[-1.2947888, -1.2949874]</td>\n",
       "      <td>[1.4319831132888794, 1.157448649406433]</td>\n",
       "      <td>82</td>\n",
       "      <td>[7, 9]</td>\n",
       "      <td>00000100010017</td>\n",
       "      <td>0000010003481</td>\n",
       "      <td>1095</td>\n",
       "    </tr>\n",
       "    <tr>\n",
       "      <th>2</th>\n",
       "      <td>[31.496714, -1.2947888, 44.7477, 72.3823, -1.2...</td>\n",
       "      <td>0</td>\n",
       "      <td>1.095215</td>\n",
       "      <td>[-1.2947888, -1.2886992]</td>\n",
       "      <td>[1.4319831132888794, 1.5366206169128418]</td>\n",
       "      <td>82</td>\n",
       "      <td>[7, 8]</td>\n",
       "      <td>00000100010017</td>\n",
       "      <td>0000010004332</td>\n",
       "      <td>1095</td>\n",
       "    </tr>\n",
       "    <tr>\n",
       "      <th>3</th>\n",
       "      <td>[31.496714, -1.2947888, 44.7477, 71.79107, -1....</td>\n",
       "      <td>0</td>\n",
       "      <td>2.065377</td>\n",
       "      <td>[-1.2947888, -1.2802732]</td>\n",
       "      <td>[1.4319831132888794, 1.389689326286316]</td>\n",
       "      <td>82</td>\n",
       "      <td>[7, 6]</td>\n",
       "      <td>00000100010017</td>\n",
       "      <td>0000010004753</td>\n",
       "      <td>1095</td>\n",
       "    </tr>\n",
       "    <tr>\n",
       "      <th>4</th>\n",
       "      <td>[31.935396, -2.7976387, -24.3397, 71.77119, -2...</td>\n",
       "      <td>1</td>\n",
       "      <td>-0.745732</td>\n",
       "      <td>[-2.7976387, -2.7868211]</td>\n",
       "      <td>[1.1499686241149902, 1.1499686241149902]</td>\n",
       "      <td>82</td>\n",
       "      <td>[7, 7]</td>\n",
       "      <td>00000100010026</td>\n",
       "      <td>00000100010026</td>\n",
       "      <td>1095</td>\n",
       "    </tr>\n",
       "    <tr>\n",
       "      <th>...</th>\n",
       "      <td>...</td>\n",
       "      <td>...</td>\n",
       "      <td>...</td>\n",
       "      <td>...</td>\n",
       "      <td>...</td>\n",
       "      <td>...</td>\n",
       "      <td>...</td>\n",
       "      <td>...</td>\n",
       "      <td>...</td>\n",
       "      <td>...</td>\n",
       "    </tr>\n",
       "    <tr>\n",
       "      <th>10668</th>\n",
       "      <td>[820.3942, -1.5300422, 151.6, 1023.5756, -1.49...</td>\n",
       "      <td>1</td>\n",
       "      <td>0.186919</td>\n",
       "      <td>[-1.5300422, -1.4959512]</td>\n",
       "      <td>[1.8084810972213745, 1.8084810972213745]</td>\n",
       "      <td>172</td>\n",
       "      <td>[10, 10]</td>\n",
       "      <td>0000010009880</td>\n",
       "      <td>0000010009880</td>\n",
       "      <td>1095</td>\n",
       "    </tr>\n",
       "    <tr>\n",
       "      <th>10669</th>\n",
       "      <td>[817.7667, -0.81763387, -130.0, 1021.2284, -0....</td>\n",
       "      <td>1</td>\n",
       "      <td>-0.134265</td>\n",
       "      <td>[-0.81763387, -0.8491727]</td>\n",
       "      <td>[1.973840594291687, 1.973840594291687]</td>\n",
       "      <td>172</td>\n",
       "      <td>[10, 10]</td>\n",
       "      <td>0000010009881</td>\n",
       "      <td>0000010009881</td>\n",
       "      <td>1095</td>\n",
       "    </tr>\n",
       "    <tr>\n",
       "      <th>10670</th>\n",
       "      <td>[819.30994, -0.9875191, -623.4, 1022.1961, -1....</td>\n",
       "      <td>1</td>\n",
       "      <td>-0.692498</td>\n",
       "      <td>[-0.9875191, -1.049645]</td>\n",
       "      <td>[1.0365803241729736, 1.0365803241729736]</td>\n",
       "      <td>172</td>\n",
       "      <td>[9, 9]</td>\n",
       "      <td>0000010009927</td>\n",
       "      <td>0000010009927</td>\n",
       "      <td>1095</td>\n",
       "    </tr>\n",
       "    <tr>\n",
       "      <th>10671</th>\n",
       "      <td>[820.3252, -1.8162135, 179.0, 1019.38654, -1.7...</td>\n",
       "      <td>1</td>\n",
       "      <td>0.21535</td>\n",
       "      <td>[-1.8162135, -1.7712139]</td>\n",
       "      <td>[1.3330026865005493, 1.3330026865005493]</td>\n",
       "      <td>172</td>\n",
       "      <td>[5, 5]</td>\n",
       "      <td>0000010009929</td>\n",
       "      <td>0000010009929</td>\n",
       "      <td>1095</td>\n",
       "    </tr>\n",
       "    <tr>\n",
       "      <th>10672</th>\n",
       "      <td>[818.0706, -0.8674522, 694.0, 1023.43524, -0.8...</td>\n",
       "      <td>1</td>\n",
       "      <td>0.786154</td>\n",
       "      <td>[-0.8674522, -0.8353728]</td>\n",
       "      <td>[1.9257758855819702, 1.9257758855819702]</td>\n",
       "      <td>172</td>\n",
       "      <td>[10, 10]</td>\n",
       "      <td>0000010009997</td>\n",
       "      <td>0000010009997</td>\n",
       "      <td>1095</td>\n",
       "    </tr>\n",
       "  </tbody>\n",
       "</table>\n",
       "<p>10673 rows × 10 columns</p>\n",
       "</div>"
      ],
      "text/plain": [
       "                                                    edge label       eta  \\\n",
       "0      [31.496714, -1.2947888, 44.7477, 72.56859, -1....     1   1.11799   \n",
       "1      [31.496714, -1.2947888, 44.7477, 72.45377, -1....     0 -1.049843   \n",
       "2      [31.496714, -1.2947888, 44.7477, 72.3823, -1.2...     0  1.095215   \n",
       "3      [31.496714, -1.2947888, 44.7477, 71.79107, -1....     0  2.065377   \n",
       "4      [31.935396, -2.7976387, -24.3397, 71.77119, -2...     1 -0.745732   \n",
       "...                                                  ...   ...       ...   \n",
       "10668  [820.3942, -1.5300422, 151.6, 1023.5756, -1.49...     1  0.186919   \n",
       "10669  [817.7667, -0.81763387, -130.0, 1021.2284, -0....     1 -0.134265   \n",
       "10670  [819.30994, -0.9875191, -623.4, 1022.1961, -1....     1 -0.692498   \n",
       "10671  [820.3252, -1.8162135, 179.0, 1019.38654, -1.7...     1   0.21535   \n",
       "10672  [818.0706, -0.8674522, 694.0, 1023.43524, -0.8...     1  0.786154   \n",
       "\n",
       "                             phi                                   true_pt  \\\n",
       "0       [-1.2947888, -1.3045837]  [1.4319831132888794, 1.4319831132888794]   \n",
       "1       [-1.2947888, -1.2949874]   [1.4319831132888794, 1.157448649406433]   \n",
       "2       [-1.2947888, -1.2886992]  [1.4319831132888794, 1.5366206169128418]   \n",
       "3       [-1.2947888, -1.2802732]   [1.4319831132888794, 1.389689326286316]   \n",
       "4       [-2.7976387, -2.7868211]  [1.1499686241149902, 1.1499686241149902]   \n",
       "...                          ...                                       ...   \n",
       "10668   [-1.5300422, -1.4959512]  [1.8084810972213745, 1.8084810972213745]   \n",
       "10669  [-0.81763387, -0.8491727]    [1.973840594291687, 1.973840594291687]   \n",
       "10670    [-0.9875191, -1.049645]  [1.0365803241729736, 1.0365803241729736]   \n",
       "10671   [-1.8162135, -1.7712139]  [1.3330026865005493, 1.3330026865005493]   \n",
       "10672   [-0.8674522, -0.8353728]  [1.9257758855819702, 1.9257758855819702]   \n",
       "\n",
       "      layer track_length         hit1_id         hit2_id particle_num  \n",
       "0        82       [7, 7]  00000100010017  00000100010017         1095  \n",
       "1        82       [7, 9]  00000100010017   0000010003481         1095  \n",
       "2        82       [7, 8]  00000100010017   0000010004332         1095  \n",
       "3        82       [7, 6]  00000100010017   0000010004753         1095  \n",
       "4        82       [7, 7]  00000100010026  00000100010026         1095  \n",
       "...     ...          ...             ...             ...          ...  \n",
       "10668   172     [10, 10]   0000010009880   0000010009880         1095  \n",
       "10669   172     [10, 10]   0000010009881   0000010009881         1095  \n",
       "10670   172       [9, 9]   0000010009927   0000010009927         1095  \n",
       "10671   172       [5, 5]   0000010009929   0000010009929         1095  \n",
       "10672   172     [10, 10]   0000010009997   0000010009997         1095  \n",
       "\n",
       "[10673 rows x 10 columns]"
      ]
     },
     "execution_count": 37,
     "metadata": {},
     "output_type": "execute_result"
    }
   ],
   "source": [
    "event"
   ]
  },
  {
   "cell_type": "code",
   "execution_count": 40,
   "metadata": {},
   "outputs": [],
   "source": [
    "n_section=1\n",
    "theta_counter = np.pi/n_section # start 45 degree rotated\n",
    "\n",
    "X, Ri, Ro, y = load_graph('/Users/lucascurtin/Desktop/QGNN Repos/qtrkx-gnn-tracking/data_personal/tuysuz_original/train/event000001000_g000.npz')\n",
    "X[:,1] = X[:,1] * np.pi/n_section\n",
    "theta = (X[:,1] + theta_counter)%(np.pi*2)\n",
    "    \n",
    "\n",
    "\n",
    "feats_o = X[np.where(Ri.T)[1]]\n",
    "feats_i = X[np.where(Ro.T)[1]]\n",
    "\n",
    "x_o = 1000*feats_o[:,0]*np.cos(feats_o[:,1])\n",
    "x_i = 1000*feats_i[:,0]*np.cos(feats_i[:,1])\n",
    "y_o = 1000*feats_o[:,0]*np.sin(feats_o[:,1])\n",
    "y_i = 1000*feats_i[:,0]*np.sin(feats_i[:,1])\n",
    "z_o = 1000*feats_o[:,2]\n",
    "z_i = 1000*feats_i[:,2]\n",
    "    \n"
   ]
  },
  {
   "attachments": {},
   "cell_type": "markdown",
   "metadata": {},
   "source": [
    "First thing we're going to do, is get the unique coordinates - index them and construct the X matrix."
   ]
  },
  {
   "cell_type": "code",
   "execution_count": 41,
   "metadata": {},
   "outputs": [],
   "source": [
    "input_coords=[]\n",
    "output_coords=[]\n",
    "\n",
    "for i in range(len(event)):\n",
    "    input_i=event['edge'].iloc[i][0:3]\n",
    "    input_coords.append(input_i)\n",
    "\n",
    "input_coords=np.array(input_coords)\n",
    "\n",
    "for i in range(len(event)):\n",
    "    output_i=event['edge'].iloc[i][3:6]\n",
    "    output_coords.append(output_i)\n",
    "\n",
    "output_coords=np.array(output_coords)"
   ]
  },
  {
   "cell_type": "code",
   "execution_count": 42,
   "metadata": {},
   "outputs": [],
   "source": [
    "IO = np.concatenate((input_coords,output_coords),axis=0)"
   ]
  },
  {
   "cell_type": "code",
   "execution_count": 43,
   "metadata": {},
   "outputs": [],
   "source": [
    "\n",
    "# create a set of tuples representing the rows of the matrix\n",
    "unique_rows = set(tuple(row) for row in IO)\n",
    "\n",
    "# convert the set of tuples back to a list of lists\n",
    "unique_matrix = [list(row) for row in unique_rows]\n",
    "\n",
    "\n",
    "unique_matrix = []\n",
    "\n",
    "# iterate over each unique row and append it to the new matrix\n",
    "for row in unique_rows:\n",
    "    unique_matrix.append(list(row))\n"
   ]
  },
  {
   "cell_type": "code",
   "execution_count": 44,
   "metadata": {},
   "outputs": [],
   "source": [
    "X_new=unique_matrix\n",
    "#So now we go through each row of our X matrix, grab the coordinates and see where they crop up in the input part of the edge coordinates. \n",
    "n_hits=len(X_new)\n",
    "n_edges=len(event)\n",
    "Ri = np.zeros((n_hits, n_edges), dtype=np.uint8)\n",
    "Ro = np.zeros((n_hits, n_edges), dtype=np.uint8)\n",
    "\n"
   ]
  },
  {
   "cell_type": "code",
   "execution_count": 45,
   "metadata": {},
   "outputs": [],
   "source": [
    "#So now we go through each row of our X matrix, grab the coordinates and see where they crop up in the input part of the edge coordinates. \n",
    "n_hits=len(X_new)\n",
    "n_edges=len(event)\n",
    "Ri = np.zeros((n_hits, n_edges), dtype=np.uint8)\n",
    "Ro = np.zeros((n_hits, n_edges), dtype=np.uint8)\n",
    "\n",
    "for i in range(len(X_new)):\n",
    "\n",
    "    #Load our unique hit\n",
    "    input=X_new[i]\n",
    "\n",
    "    #Find out where our hit is in our edge dataframe (shows up in the first 3, we've done this with the input_coords cell)\n",
    "    index_R=[]\n",
    "    index = np.where(input_coords == input)\n",
    "    unique_index=np.unique(index[0])\n",
    "    index_list=index[0].tolist()\n",
    "\n",
    "    for v in range(len(unique_index)):\n",
    "        count_n=index_list.count(unique_index[v])\n",
    "        if count_n==3:\n",
    "            index_R.append(unique_index[v])\n",
    "\n",
    "    #Now we need to set the row of Ri corresponding to this hit with the corresponding input information\n",
    "    row=Ri[i]\n",
    "    column_vals=index_R\n",
    "\n",
    "    for c in range(len(column_vals)):\n",
    "        Ri[i,column_vals[c]]=1"
   ]
  },
  {
   "cell_type": "code",
   "execution_count": 46,
   "metadata": {},
   "outputs": [
    {
     "name": "stdout",
     "output_type": "stream",
     "text": [
      "[171.32341, 3.0397093, 470.649]\n",
      "(array([7023]),)\n",
      "[1]\n",
      "[[171.32341     3.0397093 470.649    ]]\n",
      "edge            [171.32341, 3.0397093, 470.649, 258.18744, 3.0...\n",
      "label                                                           1\n",
      "eta                                                       1.73893\n",
      "phi                                        [3.0397093, 3.0548184]\n",
      "true_pt                  [1.7365044355392456, 1.7365044355392456]\n",
      "layer                                                          88\n",
      "track_length                                               [6, 6]\n",
      "hit1_id                                             0000010007914\n",
      "hit2_id                                             0000010007914\n",
      "particle_num                                                 1095\n",
      "Name: 7023, dtype: object\n"
     ]
    }
   ],
   "source": [
    "#Ri Tests\n",
    "\n",
    "#So we can grab a random value from our X_new matrix\n",
    "\n",
    "test_val=X_new[123]\n",
    "\n",
    "print(test_val)\n",
    "\n",
    "#This corresponds to the 123rd row in the Ri matrix, we can find where the 1 values crop up in it.\n",
    "\n",
    "test_indices=np.where(Ri[123])\n",
    "\n",
    "print(test_indices)\n",
    "\n",
    "#In this case we just get 1 in the 7023rd column of this row\n",
    "\n",
    "Ri_val=Ri[123][test_indices[0]]\n",
    "\n",
    "print(Ri_val)\n",
    "\n",
    "#We then want to check if the 7023rd edge does correspond to having this test value as an input coordinate\n",
    "\n",
    "input_test=input_coords[test_indices[0]]\n",
    "\n",
    "print(input_test)\n",
    "\n",
    "#Hopefully you see that they match!! Also works directly with the edge df as seen below\n",
    "\n",
    "print(event.iloc[7023])\n",
    "\n"
   ]
  },
  {
   "cell_type": "code",
   "execution_count": 47,
   "metadata": {},
   "outputs": [],
   "source": [
    "#Ro now\n",
    "\n",
    "for i in range(len(X_new)):\n",
    "\n",
    "    #Load our unique hit\n",
    "    input=X_new[i]\n",
    "\n",
    "    #Find out where our hit is in our edge dataframe (shows up in the first 3, we've done this with the input_coords cell)\n",
    "    index_R=[]\n",
    "    index = np.where(output_coords == input)\n",
    "    unique_index=np.unique(index[0])\n",
    "    index_list=index[0].tolist()\n",
    "\n",
    "    for v in range(len(unique_index)):\n",
    "        count_n=index_list.count(unique_index[v])\n",
    "        if count_n==3:\n",
    "            index_R.append(unique_index[v])\n",
    "\n",
    "    #Now we need to set the row of Ri corresponding to this hit with the corresponding input information\n",
    "    row=Ro[i]\n",
    "    column_vals=index_R\n",
    "\n",
    "    for c in range(len(column_vals)):\n",
    "        Ro[i,column_vals[c]]=1"
   ]
  },
  {
   "cell_type": "code",
   "execution_count": 48,
   "metadata": {},
   "outputs": [],
   "source": [
    "#Finally, each column in these matrices represents an edge, so the y values we can pluck directly from the edge df\n",
    "\n",
    "y=np.array(event['label'])"
   ]
  },
  {
   "cell_type": "code",
   "execution_count": 49,
   "metadata": {},
   "outputs": [
    {
     "data": {
      "text/plain": [
       "array([1, 0, 0, ..., 1, 1, 1], dtype=object)"
      ]
     },
     "execution_count": 49,
     "metadata": {},
     "output_type": "execute_result"
    }
   ],
   "source": [
    "y"
   ]
  },
  {
   "cell_type": "code",
   "execution_count": 50,
   "metadata": {},
   "outputs": [
    {
     "name": "stdout",
     "output_type": "stream",
     "text": [
      "The index of 1 in the first column of Ri is: 4057\n",
      "The index of 1 in the first column of Ro is: 5777\n"
     ]
    }
   ],
   "source": [
    "# We can do a test to see if this works. We can see that the first edge should be true, so we can see where in the first column(the first edge) we've got our 1 value\n",
    "\n",
    "for i in range(len(Ri)):\n",
    "    if Ri[i][0] == 1:\n",
    "        print(\"The index of 1 in the first column of Ri is:\", i)\n",
    "\n",
    "\n",
    "for i in range(len(Ro)):\n",
    "    if Ro[i][0] == 1:\n",
    "        print(\"The index of 1 in the first column of Ro is:\", i)\n",
    "        "
   ]
  },
  {
   "cell_type": "code",
   "execution_count": 51,
   "metadata": {},
   "outputs": [
    {
     "name": "stdout",
     "output_type": "stream",
     "text": [
      "[31.496714, -1.2947888, 44.7477]\n",
      "[72.56859, -1.3045837, 100.847]\n"
     ]
    },
    {
     "data": {
      "text/plain": [
       "[31.496714, -1.2947888, 44.7477, 72.56859, -1.3045837, 100.847]"
      ]
     },
     "execution_count": 51,
     "metadata": {},
     "output_type": "execute_result"
    }
   ],
   "source": [
    "#We can see what the spatial input coordinate is for this value and if it corresponds to our edge df\n",
    "print(X_new[4057])\n",
    "print(X_new[5777])\n",
    "event.iloc[0][0]"
   ]
  },
  {
   "cell_type": "code",
   "execution_count": 52,
   "metadata": {},
   "outputs": [
    {
     "name": "stdout",
     "output_type": "stream",
     "text": [
      "(array([    0,     1,     2, ..., 10670, 10671, 10672]), array([4057, 4057, 4057, ..., 4077,  141, 5813]))\n"
     ]
    }
   ],
   "source": [
    "#If we transpose our R matrices, we can ask questions like:\n",
    "\n",
    "print(np.where(Ri.T))\n",
    "\n",
    "#This will tell us where the input coordinate for each edge is. If we just did Ri, it would tell us the edge for the input coordinate we put in but they're easy to swap"
   ]
  },
  {
   "cell_type": "code",
   "execution_count": 53,
   "metadata": {},
   "outputs": [],
   "source": [
    "def graph_to_sparse(graph):\n",
    "    Ri_rows, Ri_cols = graph.Ri.nonzero()\n",
    "    Ro_rows, Ro_cols = graph.Ro.nonzero()\n",
    "    return dict(X=graph.X, y=graph.y,\n",
    "                Ri_rows=Ri_rows, Ri_cols=Ri_cols,\n",
    "                Ro_rows=Ro_rows, Ro_cols=Ro_cols)\n",
    "\n",
    "def sparse_to_graph(X, Ri_rows, Ri_cols, Ro_rows, Ro_cols, y, dtype=np.uint8):\n",
    "    n_nodes, n_edges = X.shape[0], Ri_rows.shape[0]\n",
    "    Ri = np.zeros((n_nodes, n_edges), dtype=dtype)\n",
    "    Ro = np.zeros((n_nodes, n_edges), dtype=dtype)\n",
    "    Ri[Ri_rows, Ri_cols] = 1\n",
    "    Ro[Ro_rows, Ro_cols] = 1\n",
    "    return Graph(X, Ri, Ro, y)\n",
    "\n",
    "def save_graph(graph, filename):\n",
    "    \"\"\"Write a single graph to an NPZ file archive\"\"\"\n",
    "    np.savez(filename, **graph_to_sparse(graph))\n",
    "\n",
    "def save_graphs(graphs, filenames):\n",
    "    for graph, filename in zip(graphs, filenames):\n",
    "        save_graph(graph, filename)\n",
    "\n",
    "def load_graph(filename):\n",
    "    \"\"\"Reade a single graph NPZ\"\"\"\n",
    "    with np.load(filename) as f:\n",
    "        return sparse_to_graph(**dict(f.items()))\n",
    "\n",
    "def load_graphs(filenames, graph_type=Graph):\n",
    "    return [load_graph(f, graph_type) for f in filenames]\n",
    "\n",
    "\n",
    "def sparse_to_graph(X, Ri_rows, Ri_cols, Ro_rows, Ro_cols, y, dtype=np.float32):\n",
    "    n_nodes, n_edges = X.shape[0], Ri_rows.shape[0]\n",
    "    Ri = np.zeros((n_nodes, n_edges), dtype=dtype)\n",
    "    Ro = np.zeros((n_nodes, n_edges), dtype=dtype)\n",
    "    Ri[Ri_rows, Ri_cols] = 1\n",
    "    Ro[Ro_rows, Ro_cols] = 1"
   ]
  },
  {
   "cell_type": "code",
   "execution_count": 61,
   "metadata": {},
   "outputs": [],
   "source": [
    "X_input=np.array(X_new)\n",
    "Ri_input=Ri.astype('float32')\n",
    "Ro_input=Ro.astype('float32')\n",
    "y_input=y.astype('float32')"
   ]
  },
  {
   "cell_type": "code",
   "execution_count": 62,
   "metadata": {},
   "outputs": [],
   "source": [
    "X_input[:,0]=X_input[:,0]/1000\n",
    "X_input[:,1]=X_input[:,1]/np.pi\n",
    "X_input[:,2]=X_input[:,2]/1000"
   ]
  },
  {
   "cell_type": "code",
   "execution_count": 65,
   "metadata": {},
   "outputs": [
    {
     "data": {
      "text/plain": [
       "array([-0.1682    ,  0.3312    , -0.1911    , ...,  0.27127802,\n",
       "        0.0414532 ,  0.033078  ], dtype=float32)"
      ]
     },
     "execution_count": 65,
     "metadata": {},
     "output_type": "execute_result"
    }
   ],
   "source": [
    "X_input[:,2]"
   ]
  },
  {
   "cell_type": "code",
   "execution_count": 66,
   "metadata": {},
   "outputs": [],
   "source": [
    "graph_0001=Graph(X_input,Ri_input,Ro_input,y_input)"
   ]
  },
  {
   "cell_type": "code",
   "execution_count": 67,
   "metadata": {},
   "outputs": [],
   "source": [
    "save_graph(graph_0001,'/Users/lucascurtin/Desktop/edge_data/graphs_marcin/graph0001')"
   ]
  },
  {
   "cell_type": "code",
   "execution_count": null,
   "metadata": {},
   "outputs": [],
   "source": [
    "X_test, Ri_test, Ro_test, y_test = load_graph('/Users/lucascurtin/Desktop/edge_data/graphs_marcin/graph0001.npz')"
   ]
  },
  {
   "cell_type": "code",
   "execution_count": 68,
   "metadata": {},
   "outputs": [],
   "source": [
    "string='edges_preprocessed_000001011.npy'"
   ]
  },
  {
   "cell_type": "code",
   "execution_count": 79,
   "metadata": {},
   "outputs": [],
   "source": [
    "hit_number=string[-13:-4]"
   ]
  },
  {
   "cell_type": "code",
   "execution_count": 80,
   "metadata": {},
   "outputs": [
    {
     "name": "stdout",
     "output_type": "stream",
     "text": [
      "event000001011_g000.npz\n"
     ]
    }
   ],
   "source": [
    "file_save='event{}_g000.npz'.format(hit_number)\n",
    "print(file_save)"
   ]
  },
  {
   "cell_type": "code",
   "execution_count": null,
   "metadata": {},
   "outputs": [],
   "source": []
  }
 ],
 "metadata": {
  "kernelspec": {
   "display_name": "qtrkx",
   "language": "python",
   "name": "python3"
  },
  "language_info": {
   "codemirror_mode": {
    "name": "ipython",
    "version": 3
   },
   "file_extension": ".py",
   "mimetype": "text/x-python",
   "name": "python",
   "nbconvert_exporter": "python",
   "pygments_lexer": "ipython3",
   "version": "3.8.5"
  },
  "orig_nbformat": 4,
  "vscode": {
   "interpreter": {
    "hash": "1a1f025ae0fd6678ab5af02de2366f5b3f871a900d87aa48ee8f6eb90e420573"
   }
  }
 },
 "nbformat": 4,
 "nbformat_minor": 2
}
