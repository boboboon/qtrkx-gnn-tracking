{
 "cells": [
  {
   "cell_type": "code",
   "execution_count": 1,
   "metadata": {},
   "outputs": [],
   "source": [
    "import os\n",
    "\n",
    "import numpy as np\n",
    "\n",
    "import random\n",
    "\n",
    "from math import floor\n",
    "\n",
    "import shutil\n",
    "\n",
    "#https://pynative.com/python-copy-files-and-directories/\n",
    "#https://stackoverflow.com/questions/42471570/how-to-split-documents-into-training-set-and-test-set"
   ]
  },
  {
   "cell_type": "code",
   "execution_count": 3,
   "metadata": {},
   "outputs": [],
   "source": [
    "\n",
    "def get_file_list_from_dir(datadir,prefix):\n",
    "    all_files = os.listdir(os.path.abspath(datadir))\n",
    "    data_files = list(filter(lambda file: file.endswith('.npz'), all_files))\n",
    "    event_files = list(filter(lambda file: file.startswith(prefix), data_files))\n",
    "    return event_files\n",
    "\n",
    "def randomise_files(file_list):\n",
    "    random.shuffle(file_list)\n",
    "\n",
    "def get_training_and_testing_sets(file_list):\n",
    "    split = 0.8\n",
    "    split_index = floor(len(file_list) * split)\n",
    "    training = file_list[:split_index]\n",
    "    testing = file_list[split_index:]\n",
    "    return training, testing\n",
    "\n",
    "def list_splitter(list_to_split, ratio):\n",
    "    elements = len(list_to_split)\n",
    "    middle = int(elements * ratio)\n",
    "    return [list_to_split[:middle], list_to_split[middle:]]"
   ]
  },
  {
   "cell_type": "code",
   "execution_count": 4,
   "metadata": {},
   "outputs": [
    {
     "name": "stdout",
     "output_type": "stream",
     "text": [
      "['event000001000_', 'event000001001_', 'event000001002_', 'event000001003_', 'event000001004_', 'event000001005_', 'event000001006_', 'event000001007_', 'event000001008_', 'event000001009_', 'event000001010_', 'event000001011_', 'event000001012_', 'event000001013_', 'event000001014_', 'event000001015_', 'event000001016_', 'event000001017_', 'event000001018_', 'event000001019_', 'event000001020_', 'event000001021_', 'event000001022_', 'event000001023_', 'event000001024_', 'event000001025_', 'event000001026_', 'event000001027_', 'event000001028_', 'event000001029_', 'event000001030_', 'event000001031_', 'event000001032_', 'event000001033_', 'event000001034_', 'event000001035_', 'event000001036_', 'event000001037_', 'event000001038_', 'event000001039_', 'event000001040_', 'event000001041_', 'event000001042_', 'event000001043_', 'event000001044_', 'event000001045_', 'event000001046_', 'event000001047_', 'event000001048_', 'event000001049_', 'event000001050_', 'event000001051_', 'event000001052_', 'event000001053_', 'event000001054_', 'event000001055_', 'event000001056_', 'event000001057_', 'event000001058_', 'event000001059_', 'event000001060_', 'event000001061_', 'event000001062_', 'event000001063_', 'event000001064_', 'event000001065_', 'event000001066_', 'event000001067_', 'event000001068_', 'event000001069_', 'event000001070_', 'event000001071_', 'event000001072_', 'event000001073_', 'event000001074_', 'event000001075_', 'event000001076_', 'event000001077_', 'event000001078_', 'event000001079_', 'event000001080_', 'event000001081_', 'event000001082_', 'event000001083_', 'event000001084_', 'event000001085_', 'event000001086_', 'event000001087_', 'event000001088_', 'event000001089_', 'event000001090_', 'event000001091_', 'event000001092_', 'event000001093_', 'event000001094_', 'event000001095_', 'event000001096_', 'event000001097_', 'event000001098_', 'event000001099_']\n"
     ]
    }
   ],
   "source": [
    "# We have 100 events so we're just going to get an array and split them up\n",
    "events_prefixes=np.linspace(0,99,100)\n",
    "\n",
    "\n",
    "prefixes=[]\n",
    "\n",
    "\n",
    "\n",
    "for i in range(len(events_prefixes)):\n",
    "    prefix_i=int(events_prefixes[i])\n",
    "    prefix_i_fixed=('event0000010{:02d}_'.format(prefix_i))\n",
    "    prefixes.append(prefix_i_fixed)\n",
    "\n",
    "print(prefixes)\n",
    "#print(events_prefixes.tolist())"
   ]
  },
  {
   "cell_type": "code",
   "execution_count": 5,
   "metadata": {},
   "outputs": [],
   "source": [
    "randomised_prefixes=random.Random(1137).shuffle(prefixes) \n",
    "train_list,valid_list=list_splitter(prefixes,0.8)"
   ]
  },
  {
   "cell_type": "code",
   "execution_count": 6,
   "metadata": {},
   "outputs": [],
   "source": [
    "datadir='/Users/lucascurtin/Desktop/QGNN Repos/qtrkx-gnn-tracking/data_personal/tuysuz_original/all'\n",
    "\n",
    "training_files=[]\n",
    "\n",
    "for i in range(len(train_list)):\n",
    "    event_i=get_file_list_from_dir(datadir,train_list[i])\n",
    "    for v in range(len(event_i)):\n",
    "        training_files.append(event_i[v])\n"
   ]
  },
  {
   "cell_type": "code",
   "execution_count": 7,
   "metadata": {},
   "outputs": [],
   "source": [
    "validation_files=[]\n",
    "\n",
    "for i in range(len(valid_list)):\n",
    "    event_i=get_file_list_from_dir(datadir,valid_list[i])\n",
    "    for v in range(len(event_i)):\n",
    "        validation_files.append(event_i[v])"
   ]
  },
  {
   "cell_type": "code",
   "execution_count": 60,
   "metadata": {},
   "outputs": [],
   "source": [
    "source_folder = r\"all/\"\n",
    "train_folder = r\"train_new/\"\n",
    "\n",
    "# fetch all files\n",
    "for file_name in training_files:\n",
    "    # construct full file path\n",
    "    source = source_folder + file_name\n",
    "    destination = train_folder + file_name\n",
    "    # copy only files\n",
    "    if os.path.isfile(source):\n",
    "        shutil.copy(source, destination)\n",
    "        #print('copied', file_name)"
   ]
  },
  {
   "cell_type": "code",
   "execution_count": 61,
   "metadata": {},
   "outputs": [],
   "source": [
    "source_folder = r\"all/\"\n",
    "valid_folder = r\"valid_new/\"\n",
    "\n",
    "# fetch all files\n",
    "for file_name in validation_files:\n",
    "    # construct full file path\n",
    "    source = source_folder + file_name\n",
    "    destination = valid_folder + file_name\n",
    "    \n",
    "    # copy only files\n",
    "    if os.path.isfile(source):\n",
    "        shutil.copy(source, destination)\n",
    "        #print('copied', file_name)"
   ]
  },
  {
   "cell_type": "code",
   "execution_count": 62,
   "metadata": {},
   "outputs": [
    {
     "name": "stdout",
     "output_type": "stream",
     "text": [
      "1280 320\n"
     ]
    }
   ],
   "source": [
    "train_check= os.listdir('train_new')\n",
    "valid_check=os.listdir('valid_new')\n",
    "print(len(train_check),len(valid_check))\n",
    "    "
   ]
  }
 ],
 "metadata": {
  "kernelspec": {
   "display_name": "qtrkx",
   "language": "python",
   "name": "python3"
  },
  "language_info": {
   "codemirror_mode": {
    "name": "ipython",
    "version": 3
   },
   "file_extension": ".py",
   "mimetype": "text/x-python",
   "name": "python",
   "nbconvert_exporter": "python",
   "pygments_lexer": "ipython3",
   "version": "3.8.5"
  },
  "orig_nbformat": 4,
  "vscode": {
   "interpreter": {
    "hash": "1a1f025ae0fd6678ab5af02de2366f5b3f871a900d87aa48ee8f6eb90e420573"
   }
  }
 },
 "nbformat": 4,
 "nbformat_minor": 2
}
