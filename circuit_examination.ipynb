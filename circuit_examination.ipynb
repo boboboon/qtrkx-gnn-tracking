{
 "cells": [
  {
   "cell_type": "code",
   "execution_count": 192,
   "metadata": {},
   "outputs": [],
   "source": [
    "import tensorflow as tf\n",
    "import tensorflow_quantum as tfq\n",
    "import numpy as np\n",
    "import cirq\n",
    "from qcircuits.QCircuit import QCircuit\n",
    "import sys,yaml\n",
    "from tools.tools import *\n",
    "from test import test\n",
    "import cirq\n",
    "from cirq.contrib.svg import SVGCircuit\n",
    "import sympy\n",
    "\n",
    "sys.path.insert(0, '/Users/lucascurtin/Desktop/QGNN Repos/qtrkx-gnn-tracking')\n",
    "\n",
    "###############################################################################\n",
    "class Rescale01(tf.keras.layers.Layer):\n",
    "    def __init__(self, name='Rescale01'):\n",
    "        super(Rescale01, self).__init__(name=name)\n",
    "\n",
    "    def call(self, X):\n",
    "        X = tf.divide(\n",
    "                tf.subtract(\n",
    "                    X, \n",
    "                    tf.reduce_min(X)\n",
    "                ), \n",
    "                tf.subtract(\n",
    "                    tf.reduce_max(X), \n",
    "                    tf.reduce_min(X)\n",
    "                ),\n",
    "            lambda: X\n",
    "        )\n",
    "        return X\n",
    "###############################################################################\n",
    "class EdgeNet(tf.keras.layers.Layer):\n",
    "    def __init__(self, name='EdgeNet'):\n",
    "        super(EdgeNet, self).__init__(name=name)\n",
    "\n",
    "        self.n_layers = GNN.config['EN_qc']['n_layers']\n",
    "        self.n_qubits = GNN.config['EN_qc']['n_qubits']\n",
    "\n",
    "        if 'dp_noise' in GNN.config['EN_qc'].keys():\n",
    "            dp_noise = GNN.config['EN_qc']['dp_noise']\n",
    "        else:\n",
    "            # set noise to None if not specified \n",
    "            dp_noise = None\n",
    "                \n",
    "        # Read the Quantum Circuit with specified configuration\n",
    "        qc = QCircuit(IEC_id=GNN.config['EN_qc']['IEC_id'],\n",
    "            PQC_id=GNN.config['EN_qc']['PQC_id'],\n",
    "            MC_id=GNN.config['EN_qc']['MC_id'],\n",
    "            n_layers=self.n_layers, \n",
    "            input_size=self.n_qubits,\n",
    "            p=0.01)\n",
    "        \n",
    "        self.model_circuit, self.qubits = qc.model_circuit()\n",
    "        self.measurement_operators = qc.measurement_operators()\n",
    "\n",
    "        # Prepare symbol list for inputs and parameters of the Quantum Circuits\n",
    "        self.symbol_names = ['x{}'.format(i) for i in range(qc.n_inputs)]\n",
    "        for i in range(qc.n_params):\n",
    "            self.symbol_names.append('theta{}'.format(i)) \n",
    "\n",
    "        # Classical input layer of the Node Network\n",
    "        # takes input data and feeds it to the PQC layer\n",
    "        self.input_layer = tf.keras.Sequential([\n",
    "            tf.keras.layers.Dense(\n",
    "                self.n_qubits, \n",
    "                activation='relu'),\n",
    "            Rescale01()\n",
    "        ])\n",
    "        \n",
    "        # Prepare PQC layer\n",
    "        if (dp_noise!=None):\n",
    "            # Noisy simulation requires density matrix simulator\n",
    "            self.exp_layer = tfq.layers.SampledExpectation(\n",
    "                cirq.DensityMatrixSimulator(noise=cirq.depolarize(dp_noise))\n",
    "            )\n",
    "        elif dp_noise==None and GNN.config['EN_qc']['repetitions']!=0:\n",
    "            # Use default simulator for noiseless execution\n",
    "            self.exp_layer = tfq.layers.SampledExpectation()\n",
    "        elif dp_noise==None and GNN.config['EN_qc']['repetitions']==0:\n",
    "            # Use default simulator for noiseless execution\n",
    "            self.exp_layer = tfq.layers.Expectation()\n",
    "        else: \n",
    "            raise ValueError('Wrong PQC Specifications!')\n",
    "\n",
    "         # Classical readout layer\n",
    "        self.readout_layer = tf.keras.layers.Dense(1, activation='sigmoid')\n",
    "\n",
    "        # Initialize parameters of the PQC\n",
    "        self.params = tf.Variable(tf.random.uniform(\n",
    "            shape=(1,qc.n_params),\n",
    "            minval=0, maxval=1)*2*np.pi\n",
    "        ) \n",
    "\n",
    "    def call(self,X, Ri, Ro):\n",
    "        '''forward pass of the edge network. '''\n",
    "\n",
    "        # Constrcu the B matrix\n",
    "        bo = tf.matmul(Ro,X,transpose_a=True)\n",
    "        bi = tf.matmul(Ri,X,transpose_a=True)\n",
    "        # Shape of B = N_edges x 6 (2x (3 + Hidden Dimension Size))\n",
    "        # each row consists of two node that are connected in the input graph.\n",
    "        B  = tf.concat([bo, bi], axis=1) # n_edges x 6, 3-> r,phi,z \n",
    "\n",
    "        # Scale the output to be [0,PI]\n",
    "        # this value is a preference and can be changed \n",
    "        # to do: add the scaling as a configuration input\n",
    "        input_to_circuit = self.input_layer(B) * np.pi\n",
    "\n",
    "        # Combine input data with parameters in a single circuit_data matrix\n",
    "        circuit_data = tf.concat(\n",
    "            [\n",
    "                input_to_circuit, \n",
    "                tf.repeat(self.params,repeats=input_to_circuit.shape[0],axis=0)\n",
    "            ],\n",
    "            axis=1\n",
    "        )        \n",
    "          \n",
    "        # Get expectation values for all edges\n",
    "        if GNN.config['EN_qc']['repetitions']==0:\n",
    "            exps = self.exp_layer(\n",
    "                self.model_circuit,\n",
    "                operators=self.measurement_operators,\n",
    "                symbol_names=self.symbol_names,\n",
    "                symbol_values=circuit_data\n",
    "            )\n",
    "        else:\n",
    "            exps = self.exp_layer(\n",
    "                self.model_circuit,\n",
    "                operators=self.measurement_operators,\n",
    "                symbol_names=self.symbol_names,\n",
    "                symbol_values=circuit_data,\n",
    "                repetitions=GNN.config['EN_qc']['repetitions']\n",
    "            )\n",
    "    \n",
    "        # Return the output of the final layer\n",
    "        return self.readout_layer(exps)\n",
    "\n",
    "class NodeNet(tf.keras.layers.Layer):\n",
    "    def __init__(self, name='NodeNet'):\n",
    "        super(NodeNet, self).__init__(name=name)\n",
    "        \n",
    "        self.n_layers = GNN.config['NN_qc']['n_layers']\n",
    "        self.n_qubits = GNN.config['NN_qc']['n_qubits']\n",
    "\n",
    "        if 'dp_noise' in GNN.config['EN_qc'].keys():\n",
    "            dp_noise = GNN.config['EN_qc']['dp_noise']\n",
    "        else:\n",
    "            # set noise to None if not specified \n",
    "            dp_noise = None\n",
    "        \n",
    "        # Read the Quantum Circuit with specified configuration\n",
    "        qc = QCircuit(\n",
    "            IEC_id=GNN.config['NN_qc']['IEC_id'],\n",
    "            PQC_id=GNN.config['NN_qc']['PQC_id'],\n",
    "            MC_id=GNN.config['NN_qc']['MC_id'],\n",
    "            n_layers=self.n_layers, \n",
    "            input_size=self.n_qubits,\n",
    "            p=0.01\n",
    "        )\n",
    "        self.model_circuit, self.qubits = qc.model_circuit()\n",
    "        self.measurement_operators = qc.measurement_operators()\n",
    "\n",
    "        # Prepare symbol list for inputs and parameters of the Quantum Circuits\n",
    "        self.symbol_names = ['x{}'.format(i) for i in range(qc.n_inputs)]\n",
    "        for i in range(qc.n_params):\n",
    "            self.symbol_names.append('theta{}'.format(i)) \n",
    "\n",
    "        # Classical input layer of the Node Network\n",
    "        # takes input data and feeds it to the PQC layer\n",
    "        self.input_layer = tf.keras.Sequential([\n",
    "            tf.keras.layers.Dense(\n",
    "                self.n_qubits, \n",
    "                activation='relu'),\n",
    "            Rescale01()\n",
    "        ])\n",
    "\n",
    "        # Prepare PQC layer\n",
    "        if (dp_noise!=None):\n",
    "            # Noisy simulation requires density matrix simulator\n",
    "            self.exp_layer = tfq.layers.SampledExpectation(\n",
    "                cirq.DensityMatrixSimulator(noise=cirq.depolarize(dp_noise))\n",
    "            )\n",
    "        elif dp_noise==None and  GNN.config['EN_qc']['repetitions']!=0:\n",
    "            # Use default simulator for noiseless execution\n",
    "            self.exp_layer = tfq.layers.SampledExpectation()\n",
    "        elif dp_noise==None and  GNN.config['EN_qc']['repetitions']==0:\n",
    "            # Use default simulator for noiseless execution\n",
    "            self.exp_layer = tfq.layers.Expectation()\n",
    "        else: \n",
    "            raise ValueError('Wrong PQC Specifications!')\n",
    "\n",
    "        # Classical readout layer\n",
    "        self.readout_layer = tf.keras.Sequential([\n",
    "            tf.keras.layers.Dense(\n",
    "                GNN.config['hid_dim'], \n",
    "                activation='relu'),\n",
    "            Rescale01()\n",
    "        ])\n",
    "\n",
    "        # Initialize parameters of the PQC\n",
    "        self.params = tf.Variable(tf.random.uniform(\n",
    "            shape=(1,qc.n_params),\n",
    "            minval=0, maxval=1)*2*np.pi\n",
    "        ) \n",
    "\n",
    "    def call(self, X, e, Ri, Ro):\n",
    "        '''forward pass of the node network. '''\n",
    "\n",
    "        # The following lines constructs the M matrix\n",
    "        # M matrix contains weighted averages of input and output nodes\n",
    "        # the weights are the edge probablities.\n",
    "        bo  = tf.matmul(Ro, X, transpose_a=True)\n",
    "        bi  = tf.matmul(Ri, X, transpose_a=True) \n",
    "        Rwo = Ro * e[:,0]\n",
    "        Rwi = Ri * e[:,0]\n",
    "        mi = tf.matmul(Rwi, bo)\n",
    "        mo = tf.matmul(Rwo, bi)\n",
    "        # Shape of M = N_nodes x (3x (3 + Hidden Dimension Size))\n",
    "        # mi: weighted average of input nodes\n",
    "        # mo: weighted average of output nodes\n",
    "        M = tf.concat([mi, mo, X], axis=1)\n",
    "\n",
    "        # Scale the output to be [0,PI]\n",
    "        # this value is a preference and can be changed \n",
    "        # to do: add the scaling as a configuration input\n",
    "        input_to_circuit = self.input_layer(M) * np.pi\n",
    "\n",
    "        # Combine input data with parameters in a single circuit_data matrix\n",
    "        circuit_data = tf.concat(\n",
    "            [\n",
    "                input_to_circuit, \n",
    "                tf.repeat(self.params,repeats=input_to_circuit.shape[0],axis=0)\n",
    "            ],\n",
    "            axis=1\n",
    "        )        \n",
    "\n",
    "        # Get expectation values for all nodes\n",
    "        if GNN.config['NN_qc']['repetitions']==0:\n",
    "            exps = self.exp_layer(self.model_circuit,\n",
    "                operators=self.measurement_operators,\n",
    "                symbol_names=self.symbol_names,\n",
    "                symbol_values=circuit_data)\n",
    "        else:\n",
    "            exps = self.exp_layer(self.model_circuit,\n",
    "                operators=self.measurement_operators,\n",
    "                symbol_names=self.symbol_names,\n",
    "                symbol_values=circuit_data,\n",
    "                repetitions=GNN.config['NN_qc']['repetitions'])\n",
    "\n",
    "        # Return the output of the final layer\n",
    "        return self.readout_layer(exps)\n",
    "\n",
    "###############################################################################\n",
    "class GNN(tf.keras.Model):\n",
    "    def __init__(self):\n",
    "        ''' Init function of GNN, inits all GNN blocks. '''\n",
    "        super(GNN, self).__init__(name='GNN')\n",
    "        # Define Initial Input Layer\n",
    "        self.InputNet =  tf.keras.layers.Dense(\n",
    "            GNN.config['hid_dim'], input_shape=(3,),\n",
    "            activation='relu',name='InputNet'\n",
    "        )\n",
    "        self.EdgeNet  = EdgeNet(name='EdgeNet')\n",
    "        self.NodeNet  = NodeNet(name='NodeNet')\n",
    "        self.n_iters  = GNN.config['n_iters']\n",
    "    \n",
    "    def call(self, graph_array):\n",
    "        ''' forward pass of the GNN '''\n",
    "        # decompose the graph array\n",
    "        X, Ri, Ro = graph_array\n",
    "        # execute InputNet to produce hidden dimensions\n",
    "        H = self.InputNet(X)\n",
    "        # add new dimensions to original X matrix\n",
    "        H = tf.concat([H,X],axis=1)\n",
    "        # recurrent iteration of the network\n",
    "        for i in range(self.n_iters):\n",
    "            e = self.EdgeNet(H, Ri, Ro)\n",
    "            H = self.NodeNet(H, e, Ri, Ro)\n",
    "            # update H with the output of NodeNet\n",
    "            H = tf.concat([H,X],axis=1)\n",
    "        # execute EdgeNet one more time to obtain edge predictions\n",
    "        e = self.EdgeNet(H, Ri, Ro)\n",
    "        # return edge prediction array\n",
    "        return e\n",
    "\n",
    "def load_config(config_input,RID_input):\n",
    "\n",
    "    \n",
    "    # read the config file \n",
    "    with open(config_input, 'r') as ymlfile:\n",
    "        config = yaml.load(ymlfile, Loader=yaml.FullLoader)\n",
    "        if len(glob.glob(config['log_dir']))==0:\n",
    "            os.mkdir(config['log_dir'])\n",
    "        # append RID to log dir\n",
    "        config['log_dir'] = config['log_dir']+'run{}/'.format(RID_input)\n",
    "        if len(glob.glob(config['log_dir']))==0:\n",
    "            os.mkdir(config['log_dir'])\n",
    "        # print all configs\n",
    "        print('Printing configs: ')\n",
    "        for key in config:\n",
    "            print(key + ': ' + str(config[key]))\n",
    "        print('Log dir: ' + config['log_dir'])\n",
    "        print('Training data input dir: ' + config['train_dir'])\n",
    "        print('Validation data input dir: ' + config['train_dir'])\n",
    "        if config['run_type'] == 'new_run':\n",
    "            delete_all_logs(config['log_dir'])\n",
    "    # LOG the config every time\n",
    "    with open(config['log_dir'] + 'config.yaml', 'w') as f:\n",
    "        for key in config:\n",
    "            f.write('%s : %s \\n' %(key,str(config[key])))\n",
    "    # return the config dictionary\n",
    "    return config\n",
    "\n",
    "\n",
    "import sys, os, time, datetime, csv\n",
    "sys.path.insert(1, '/Users/lucascurtin/Desktop/QGNN Repos/qtrkx-gnn-tracking/tools')\n",
    "from tools import *\n",
    "import numpy as np\n",
    "import math\n",
    "import matplotlib\n",
    "import matplotlib.pyplot as plt\n",
    "from matplotlib.animation import FuncAnimation\n",
    "from mpl_toolkits.mplot3d import Axes3D\n",
    "\n",
    "from tqdm import tqdm\n",
    "from matplotlib.lines import Line2D\n",
    "\n",
    "import trackml.dataset\n",
    "\n",
    "import pandas as pd\n",
    "\n",
    "from mpl_toolkits import mplot3d\n",
    "\n",
    "\n",
    "from collections import namedtuple\n",
    "\n",
    "import numpy as np\n",
    "\n",
    "# A Graph is a namedtuple of matrices (X, Ri, Ro, y)\n",
    "Graph = namedtuple('Graph', ['X', 'Ri', 'Ro', 'y'])\n",
    "\n",
    "def graph_to_sparse(graph):\n",
    "    Ri_rows, Ri_cols = graph.Ri.nonzero()\n",
    "    Ro_rows, Ro_cols = graph.Ro.nonzero()\n",
    "    return dict(X=graph.X, y=graph.y,\n",
    "                Ri_rows=Ri_rows, Ri_cols=Ri_cols,\n",
    "                Ro_rows=Ro_rows, Ro_cols=Ro_cols)\n",
    "\n",
    "def sparse_to_graph(X, Ri_rows, Ri_cols, Ro_rows, Ro_cols, y, dtype=np.uint8):\n",
    "    n_nodes, n_edges = X.shape[0], Ri_rows.shape[0]\n",
    "    Ri = np.zeros((n_nodes, n_edges), dtype=dtype)\n",
    "    Ro = np.zeros((n_nodes, n_edges), dtype=dtype)\n",
    "    Ri[Ri_rows, Ri_cols] = 1\n",
    "    Ro[Ro_rows, Ro_cols] = 1\n",
    "    return Graph(X, Ri, Ro, y)\n",
    "\n",
    "def save_graph(graph, filename):\n",
    "    \"\"\"Write a single graph to an NPZ file archive\"\"\"\n",
    "    np.savez(filename, **graph_to_sparse(graph))\n",
    "\n",
    "def save_graphs(graphs, filenames):\n",
    "    for graph, filename in zip(graphs, filenames):\n",
    "        save_graph(graph, filename)\n",
    "\n",
    "def load_graph(filename):\n",
    "    \"\"\"Reade a single graph NPZ\"\"\"\n",
    "    with np.load(filename) as f:\n",
    "        return sparse_to_graph(**dict(f.items()))\n",
    "\n",
    "def load_graphs(filenames, graph_type=Graph):\n",
    "    return [load_graph(f, graph_type) for f in filenames]\n",
    "\n",
    "\n",
    "def sparse_to_graph(X, Ri_rows, Ri_cols, Ro_rows, Ro_cols, y, dtype=np.float32):\n",
    "    n_nodes, n_edges = X.shape[0], Ri_rows.shape[0]\n",
    "    Ri = np.zeros((n_nodes, n_edges), dtype=dtype)\n",
    "    Ro = np.zeros((n_nodes, n_edges), dtype=dtype)\n",
    "    Ri[Ri_rows, Ri_cols] = 1\n",
    "    Ro[Ro_rows, Ro_cols] = 1\n",
    "    return Graph(X, Ri, Ro, y)\n",
    "\n",
    "\n",
    "def map2angle(arr0):\n",
    "    # Mapping the cylindrical coordinates to [0,1]\n",
    "    arr = np.zeros(arr0.shape, dtype=np.float32)\n",
    "    r_min     = 0.\n",
    "    r_max     = 1.1\n",
    "    arr[:,0] = (arr0[:,0]-r_min)/(r_max-r_min)    \n",
    "\n",
    "\n",
    "\n",
    "   \n",
    "    phi_min   = -1.0\n",
    "    phi_max   = 1.0\n",
    "    arr[:,1]  = (arr0[:,1]-phi_min)/(phi_max-phi_min) \n",
    "    z_min     = 0\n",
    "    z_max     = 1.1\n",
    "    arr[:,2]  = (np.abs(arr0[:,2])-z_min)/(z_max-z_min)  # take abs of z due to symmetry of z\n",
    "\n",
    "    mapping_check(arr)\n",
    "    return arr\n",
    "\n"
   ]
  },
  {
   "cell_type": "code",
   "execution_count": 3,
   "metadata": {},
   "outputs": [
    {
     "name": "stdout",
     "output_type": "stream",
     "text": [
      "Printing configs: \n",
      "train_dir: /Users/lucascurtin/Desktop/QGNN Repos/qtrkx-gnn-tracking/data_personal/train_graphs\n",
      "valid_dir: /Users/lucascurtin/Desktop/QGNN Repos/qtrkx-gnn-tracking/data_personal/valid_graphs\n",
      "dataset: TuysuzPaper\n",
      "log_dir: /Users/lucascurtin/Desktop/QGNN Repos/qtrkx-gnn-tracking/logs/test_QGNN/run1/\n",
      "run_type: new_run\n",
      "gpu: -1\n",
      "n_files: 100\n",
      "n_valid: 20\n",
      "n_train: 80\n",
      "batch_size: 1\n",
      "lr_c: 0.01\n",
      "n_iters: 3\n",
      "n_epoch: 20\n",
      "TEST_every: 50\n",
      "hid_dim: 4\n",
      "network: QGNN\n",
      "optimizer: Adam\n",
      "loss_func: BinaryCrossentropy\n",
      "n_thread: 4\n",
      "log_verbosity: 2\n",
      "EN_qc: {'PQC_id': '10', 'IEC_id': 'simple_encoding_y', 'MC_id': 'measure_all', 'n_layers': 3, 'repetitions': 0, 'n_qubits': 4}\n",
      "NN_qc: {'PQC_id': '10', 'IEC_id': 'simple_encoding_y', 'MC_id': 'measure_all', 'n_layers': 3, 'repetitions': 0, 'n_qubits': 4}\n",
      "Log dir: /Users/lucascurtin/Desktop/QGNN Repos/qtrkx-gnn-tracking/logs/test_QGNN/run1/\n",
      "Training data input dir: /Users/lucascurtin/Desktop/QGNN Repos/qtrkx-gnn-tracking/data_personal/train_graphs\n",
      "Validation data input dir: /Users/lucascurtin/Desktop/QGNN Repos/qtrkx-gnn-tracking/data_personal/train_graphs\n",
      "2023-03-17 12:42:23.051927 Deleted old log: /Users/lucascurtin/Desktop/QGNN Repos/qtrkx-gnn-tracking/logs/test_QGNN/run1/summary.csv\n",
      "2023-03-17 12:42:23.052127 Deleted old log: /Users/lucascurtin/Desktop/QGNN Repos/qtrkx-gnn-tracking/logs/test_QGNN/run1/log_validation.csv\n",
      "2023-03-17 12:42:23.052281 Deleted old log: /Users/lucascurtin/Desktop/QGNN Repos/qtrkx-gnn-tracking/logs/test_QGNN/run1/log_training.csv\n"
     ]
    }
   ],
   "source": [
    "# Read config file\n",
    "config = load_config('configs/local_QGNN.yaml',1)\n",
    "\n",
    "tools.config = config\n",
    "\n",
    "from qnetworks.QGNN import GNN\n",
    "GNN.config = config"
   ]
  },
  {
   "cell_type": "code",
   "execution_count": 4,
   "metadata": {},
   "outputs": [],
   "source": [
    "n_layers = GNN.config['EN_qc']['n_layers']\n",
    "n_qubits = GNN.config['EN_qc']['n_qubits']\n",
    "\n",
    "if 'dp_noise' in GNN.config['EN_qc'].keys():\n",
    "    dp_noise = GNN.config['EN_qc']['dp_noise']\n",
    "else:\n",
    "    # set noise to None if not specified \n",
    "    dp_noise = None\n",
    "        \n",
    "# Read the Quantum Circuit with specified configuration\n",
    "qc = QCircuit(IEC_id=GNN.config['EN_qc']['IEC_id'],\n",
    "    PQC_id=GNN.config['EN_qc']['PQC_id'],\n",
    "    MC_id=GNN.config['EN_qc']['MC_id'],\n",
    "    n_layers=n_layers, \n",
    "    input_size=n_qubits,\n",
    "    p=0.01)\n",
    "\n",
    "model_circuit, qubits = qc.model_circuit()\n",
    "measurement_operators = qc.measurement_operators()\n",
    "\n",
    "# Prepare symbol list for inputs and parameters of the Quantum Circuits\n",
    "symbol_names = ['x{}'.format(i) for i in range(qc.n_inputs)]\n",
    "for i in range(qc.n_params):\n",
    "    symbol_names.append('theta{}'.format(i)) \n",
    "\n",
    "# Classical input layer of the Node Network\n",
    "# takes input data and feeds it to the PQC layer\n",
    "input_layer = tf.keras.Sequential([\n",
    "    tf.keras.layers.Dense(\n",
    "        n_qubits, \n",
    "        activation='relu'),\n",
    "    Rescale01()\n",
    "])\n",
    "\n",
    "# Prepare PQC layer\n",
    "if (dp_noise!=None):\n",
    "    # Noisy simulation requires density matrix simulator\n",
    "    exp_layer = tfq.layers.SampledExpectation(\n",
    "        cirq.DensityMatrixSimulator(noise=cirq.depolarize(dp_noise))\n",
    "    )\n",
    "elif dp_noise==None and GNN.config['EN_qc']['repetitions']!=0:\n",
    "    # Use default simulator for noiseless execution\n",
    "    exp_layer = tfq.layers.SampledExpectation()\n",
    "elif dp_noise==None and GNN.config['EN_qc']['repetitions']==0:\n",
    "    # Use default simulator for noiseless execution\n",
    "    exp_layer = tfq.layers.Expectation()\n",
    "else: \n",
    "    raise ValueError('Wrong PQC Specifications!')\n",
    "\n",
    "    # Classical readout layer\n",
    "readout_layer = tf.keras.layers.Dense(1, activation='sigmoid')\n",
    "\n",
    "# Initialize parameters of the PQC\n",
    "params = tf.Variable(tf.random.uniform(\n",
    "    shape=(1,qc.n_params),\n",
    "    minval=0, maxval=1)*2*np.pi\n",
    ") "
   ]
  },
  {
   "cell_type": "code",
   "execution_count": 87,
   "metadata": {},
   "outputs": [
    {
     "data": {
      "text/plain": [
       "<bound method QCircuit.PQC of <qcircuits.QCircuit.QCircuit object at 0x7f9498bd1b50>>"
      ]
     },
     "execution_count": 87,
     "metadata": {},
     "output_type": "execute_result"
    }
   ],
   "source": [
    "qc.PQC"
   ]
  },
  {
   "cell_type": "code",
   "execution_count": 6,
   "metadata": {},
   "outputs": [
    {
     "name": "stdout",
     "output_type": "stream",
     "text": [
      "[cirq.Z(cirq.GridQubit(0, 0)), cirq.Z(cirq.GridQubit(1, 0)), cirq.Z(cirq.GridQubit(2, 0)), cirq.Z(cirq.GridQubit(3, 0))]\n"
     ]
    }
   ],
   "source": [
    "print(measurement_operators)"
   ]
  },
  {
   "cell_type": "code",
   "execution_count": 54,
   "metadata": {},
   "outputs": [],
   "source": [
    "X_test, Ri_test, Ro_test, y_test = load_graph('/Users/lucascurtin/Desktop/edge_data/graphs_marcin/graph0001.npz')"
   ]
  },
  {
   "cell_type": "code",
   "execution_count": 73,
   "metadata": {},
   "outputs": [],
   "source": [
    "model=GNN()"
   ]
  },
  {
   "cell_type": "code",
   "execution_count": 82,
   "metadata": {},
   "outputs": [
    {
     "data": {
      "image/svg+xml": "<svg xmlns=\"http://www.w3.org/2000/svg\" width=\"1629.5285546875002\" height=\"240.0\"><line x1=\"32.246796875\" x2=\"1599.5285546875002\" y1=\"45.0\" y2=\"45.0\" stroke=\"#1967d2\" stroke-width=\"1\" /><line x1=\"32.246796875\" x2=\"1599.5285546875002\" y1=\"95.0\" y2=\"95.0\" stroke=\"#1967d2\" stroke-width=\"1\" /><line x1=\"32.246796875\" x2=\"1599.5285546875002\" y1=\"145.0\" y2=\"145.0\" stroke=\"#1967d2\" stroke-width=\"1\" /><line x1=\"32.246796875\" x2=\"1599.5285546875002\" y1=\"195.0\" y2=\"195.0\" stroke=\"#1967d2\" stroke-width=\"1\" /><line x1=\"1346.4518359375002\" x2=\"1477.9901953125002\" y1=\"5.0\" y2=\"5.0\" stroke=\"black\" stroke-width=\"1\" /><line x1=\"1346.4518359375002\" x2=\"1477.9901953125002\" y1=\"235.0\" y2=\"235.0\" stroke=\"black\" stroke-width=\"1\" /><line x1=\"890.6553906250001\" x2=\"1014.4076171875001\" y1=\"5.0\" y2=\"5.0\" stroke=\"black\" stroke-width=\"1\" /><line x1=\"890.6553906250001\" x2=\"1014.4076171875001\" y1=\"235.0\" y2=\"235.0\" stroke=\"black\" stroke-width=\"1\" /><line x1=\"441.612578125\" x2=\"565.3648046875\" y1=\"5.0\" y2=\"5.0\" stroke=\"black\" stroke-width=\"1\" /><line x1=\"441.612578125\" x2=\"565.3648046875\" y1=\"235.0\" y2=\"235.0\" stroke=\"black\" stroke-width=\"1\" /><line x1=\"257.8603515625\" x2=\"257.8603515625\" y1=\"145.0\" y2=\"195.0\" stroke=\"black\" stroke-width=\"3\" /><line x1=\"317.8603515625\" x2=\"317.8603515625\" y1=\"95.0\" y2=\"145.0\" stroke=\"black\" stroke-width=\"3\" /><line x1=\"394.73646484375\" x2=\"394.73646484375\" y1=\"45.0\" y2=\"95.0\" stroke=\"black\" stroke-width=\"3\" /><line x1=\"461.612578125\" x2=\"461.612578125\" y1=\"45.0\" y2=\"195.0\" stroke=\"black\" stroke-width=\"3\" /><line x1=\"699.1170312500001\" x2=\"699.1170312500001\" y1=\"145.0\" y2=\"195.0\" stroke=\"black\" stroke-width=\"3\" /><line x1=\"759.1170312500001\" x2=\"759.1170312500001\" y1=\"95.0\" y2=\"145.0\" stroke=\"black\" stroke-width=\"3\" /><line x1=\"839.8862109375001\" x2=\"839.8862109375001\" y1=\"45.0\" y2=\"95.0\" stroke=\"black\" stroke-width=\"3\" /><line x1=\"910.6553906250001\" x2=\"910.6553906250001\" y1=\"45.0\" y2=\"195.0\" stroke=\"black\" stroke-width=\"3\" /><line x1=\"1154.9134765625001\" x2=\"1154.9134765625001\" y1=\"145.0\" y2=\"195.0\" stroke=\"black\" stroke-width=\"3\" /><line x1=\"1214.9134765625001\" x2=\"1214.9134765625001\" y1=\"95.0\" y2=\"145.0\" stroke=\"black\" stroke-width=\"3\" /><line x1=\"1295.68265625\" x2=\"1295.68265625\" y1=\"45.0\" y2=\"95.0\" stroke=\"black\" stroke-width=\"3\" /><line x1=\"1366.4518359375002\" x2=\"1366.4518359375002\" y1=\"45.0\" y2=\"195.0\" stroke=\"black\" stroke-width=\"3\" /><line x1=\"1346.4518359375002\" x2=\"1346.4518359375002\" y1=\"5.0\" y2=\"15.0\" stroke=\"black\" stroke-width=\"3\" /><line x1=\"1477.9901953125002\" x2=\"1477.9901953125002\" y1=\"5.0\" y2=\"15.0\" stroke=\"black\" stroke-width=\"3\" /><line x1=\"1346.4518359375002\" x2=\"1346.4518359375002\" y1=\"225.0\" y2=\"235.0\" stroke=\"black\" stroke-width=\"3\" /><line x1=\"1477.9901953125002\" x2=\"1477.9901953125002\" y1=\"225.0\" y2=\"235.0\" stroke=\"black\" stroke-width=\"3\" /><line x1=\"890.6553906250001\" x2=\"890.6553906250001\" y1=\"5.0\" y2=\"15.0\" stroke=\"black\" stroke-width=\"3\" /><line x1=\"1014.4076171875001\" x2=\"1014.4076171875001\" y1=\"5.0\" y2=\"15.0\" stroke=\"black\" stroke-width=\"3\" /><line x1=\"890.6553906250001\" x2=\"890.6553906250001\" y1=\"225.0\" y2=\"235.0\" stroke=\"black\" stroke-width=\"3\" /><line x1=\"1014.4076171875001\" x2=\"1014.4076171875001\" y1=\"225.0\" y2=\"235.0\" stroke=\"black\" stroke-width=\"3\" /><line x1=\"441.612578125\" x2=\"441.612578125\" y1=\"5.0\" y2=\"15.0\" stroke=\"black\" stroke-width=\"3\" /><line x1=\"565.3648046875\" x2=\"565.3648046875\" y1=\"5.0\" y2=\"15.0\" stroke=\"black\" stroke-width=\"3\" /><line x1=\"441.612578125\" x2=\"441.612578125\" y1=\"225.0\" y2=\"235.0\" stroke=\"black\" stroke-width=\"3\" /><line x1=\"565.3648046875\" x2=\"565.3648046875\" y1=\"225.0\" y2=\"235.0\" stroke=\"black\" stroke-width=\"3\" /><rect x=\"10.0\" y=\"25.0\" width=\"44.49359375\" height=\"40\" stroke=\"black\" fill=\"white\" stroke-width=\"0\" /><text x=\"32.246796875\" y=\"45.0\" dominant-baseline=\"middle\" text-anchor=\"middle\" font-size=\"14px\" font-family=\"Arial\">(0, 0): </text><rect x=\"10.0\" y=\"75.0\" width=\"44.49359375\" height=\"40\" stroke=\"black\" fill=\"white\" stroke-width=\"0\" /><text x=\"32.246796875\" y=\"95.0\" dominant-baseline=\"middle\" text-anchor=\"middle\" font-size=\"14px\" font-family=\"Arial\">(1, 0): </text><rect x=\"10.0\" y=\"125.0\" width=\"44.49359375\" height=\"40\" stroke=\"black\" fill=\"white\" stroke-width=\"0\" /><text x=\"32.246796875\" y=\"145.0\" dominant-baseline=\"middle\" text-anchor=\"middle\" font-size=\"14px\" font-family=\"Arial\">(2, 0): </text><rect x=\"10.0\" y=\"175.0\" width=\"44.49359375\" height=\"40\" stroke=\"black\" fill=\"white\" stroke-width=\"0\" /><text x=\"32.246796875\" y=\"195.0\" dominant-baseline=\"middle\" text-anchor=\"middle\" font-size=\"14px\" font-family=\"Arial\">(3, 0): </text><rect x=\"74.49359375\" y=\"25.0\" width=\"49.61453125\" height=\"40\" stroke=\"black\" fill=\"white\" stroke-width=\"1\" /><text x=\"99.300859375\" y=\"45.0\" dominant-baseline=\"middle\" text-anchor=\"middle\" font-size=\"14px\" font-family=\"Arial\">Ry(x0)</text><rect x=\"74.49359375\" y=\"75.0\" width=\"49.61453125\" height=\"40\" stroke=\"black\" fill=\"white\" stroke-width=\"1\" /><text x=\"99.300859375\" y=\"95.0\" dominant-baseline=\"middle\" text-anchor=\"middle\" font-size=\"14px\" font-family=\"Arial\">Ry(x1)</text><rect x=\"74.49359375\" y=\"125.0\" width=\"49.61453125\" height=\"40\" stroke=\"black\" fill=\"white\" stroke-width=\"1\" /><text x=\"99.300859375\" y=\"145.0\" dominant-baseline=\"middle\" text-anchor=\"middle\" font-size=\"14px\" font-family=\"Arial\">Ry(x2)</text><rect x=\"74.49359375\" y=\"175.0\" width=\"49.61453125\" height=\"40\" stroke=\"black\" fill=\"white\" stroke-width=\"1\" /><text x=\"99.300859375\" y=\"195.0\" dominant-baseline=\"middle\" text-anchor=\"middle\" font-size=\"14px\" font-family=\"Arial\">Ry(x3)</text><rect x=\"144.10812499999997\" y=\"25.0\" width=\"73.7522265625\" height=\"40\" stroke=\"black\" fill=\"white\" stroke-width=\"1\" /><text x=\"180.98423828125\" y=\"45.0\" dominant-baseline=\"middle\" text-anchor=\"middle\" font-size=\"14px\" font-family=\"Arial\">Ry(theta0)</text><rect x=\"144.10812499999997\" y=\"75.0\" width=\"73.7522265625\" height=\"40\" stroke=\"black\" fill=\"white\" stroke-width=\"1\" /><text x=\"180.98423828125\" y=\"95.0\" dominant-baseline=\"middle\" text-anchor=\"middle\" font-size=\"14px\" font-family=\"Arial\">Ry(theta1)</text><rect x=\"144.10812499999997\" y=\"125.0\" width=\"73.7522265625\" height=\"40\" stroke=\"black\" fill=\"white\" stroke-width=\"1\" /><text x=\"180.98423828125\" y=\"145.0\" dominant-baseline=\"middle\" text-anchor=\"middle\" font-size=\"14px\" font-family=\"Arial\">Ry(theta2)</text><rect x=\"144.10812499999997\" y=\"175.0\" width=\"73.7522265625\" height=\"40\" stroke=\"black\" fill=\"white\" stroke-width=\"1\" /><text x=\"180.98423828125\" y=\"195.0\" dominant-baseline=\"middle\" text-anchor=\"middle\" font-size=\"14px\" font-family=\"Arial\">Ry(theta3)</text><circle cx=\"257.8603515625\" cy=\"145.0\" r=\"10.0\" /><circle cx=\"257.8603515625\" cy=\"195.0\" r=\"10.0\" /><circle cx=\"317.8603515625\" cy=\"95.0\" r=\"10.0\" /><circle cx=\"317.8603515625\" cy=\"145.0\" r=\"10.0\" /><circle cx=\"394.73646484375\" cy=\"45.0\" r=\"10.0\" /><circle cx=\"394.73646484375\" cy=\"95.0\" r=\"10.0\" /><rect x=\"357.8603515625\" y=\"125.0\" width=\"73.7522265625\" height=\"40\" stroke=\"black\" fill=\"white\" stroke-width=\"1\" /><text x=\"394.73646484375\" y=\"145.0\" dominant-baseline=\"middle\" text-anchor=\"middle\" font-size=\"14px\" font-family=\"Arial\">Ry(theta6)</text><circle cx=\"461.612578125\" cy=\"195.0\" r=\"10.0\" /><circle cx=\"461.612578125\" cy=\"45.0\" r=\"10.0\" /><rect x=\"481.612578125\" y=\"75.0\" width=\"73.7522265625\" height=\"40\" stroke=\"black\" fill=\"white\" stroke-width=\"1\" /><text x=\"518.48869140625\" y=\"95.0\" dominant-baseline=\"middle\" text-anchor=\"middle\" font-size=\"14px\" font-family=\"Arial\">Ry(theta5)</text><rect x=\"585.3648046875\" y=\"25.0\" width=\"73.7522265625\" height=\"40\" stroke=\"black\" fill=\"white\" stroke-width=\"1\" /><text x=\"622.2409179687501\" y=\"45.0\" dominant-baseline=\"middle\" text-anchor=\"middle\" font-size=\"14px\" font-family=\"Arial\">Ry(theta4)</text><rect x=\"585.3648046875\" y=\"175.0\" width=\"73.7522265625\" height=\"40\" stroke=\"black\" fill=\"white\" stroke-width=\"1\" /><text x=\"622.2409179687501\" y=\"195.0\" dominant-baseline=\"middle\" text-anchor=\"middle\" font-size=\"14px\" font-family=\"Arial\">Ry(theta7)</text><circle cx=\"699.1170312500001\" cy=\"145.0\" r=\"10.0\" /><circle cx=\"699.1170312500001\" cy=\"195.0\" r=\"10.0\" /><circle cx=\"759.1170312500001\" cy=\"95.0\" r=\"10.0\" /><circle cx=\"759.1170312500001\" cy=\"145.0\" r=\"10.0\" /><circle cx=\"839.8862109375001\" cy=\"45.0\" r=\"10.0\" /><circle cx=\"839.8862109375001\" cy=\"95.0\" r=\"10.0\" /><rect x=\"799.1170312500001\" y=\"125.0\" width=\"81.538359375\" height=\"40\" stroke=\"black\" fill=\"white\" stroke-width=\"1\" /><text x=\"839.8862109375001\" y=\"145.0\" dominant-baseline=\"middle\" text-anchor=\"middle\" font-size=\"14px\" font-family=\"Arial\">Ry(theta10)</text><circle cx=\"910.6553906250001\" cy=\"195.0\" r=\"10.0\" /><circle cx=\"910.6553906250001\" cy=\"45.0\" r=\"10.0\" /><rect x=\"930.6553906250001\" y=\"75.0\" width=\"73.7522265625\" height=\"40\" stroke=\"black\" fill=\"white\" stroke-width=\"1\" /><text x=\"967.5315039062501\" y=\"95.0\" dominant-baseline=\"middle\" text-anchor=\"middle\" font-size=\"14px\" font-family=\"Arial\">Ry(theta9)</text><rect x=\"1034.4076171875001\" y=\"25.0\" width=\"80.505859375\" height=\"40\" stroke=\"black\" fill=\"white\" stroke-width=\"1\" /><text x=\"1074.6605468750001\" y=\"45.0\" dominant-baseline=\"middle\" text-anchor=\"middle\" font-size=\"14px\" font-family=\"Arial\">Ry(theta8)</text><rect x=\"1034.4076171875001\" y=\"175.0\" width=\"80.505859375\" height=\"40\" stroke=\"black\" fill=\"white\" stroke-width=\"1\" /><text x=\"1074.6605468750001\" y=\"195.0\" dominant-baseline=\"middle\" text-anchor=\"middle\" font-size=\"14px\" font-family=\"Arial\">Ry(theta11)</text><circle cx=\"1154.9134765625001\" cy=\"145.0\" r=\"10.0\" /><circle cx=\"1154.9134765625001\" cy=\"195.0\" r=\"10.0\" /><circle cx=\"1214.9134765625001\" cy=\"95.0\" r=\"10.0\" /><circle cx=\"1214.9134765625001\" cy=\"145.0\" r=\"10.0\" /><circle cx=\"1295.68265625\" cy=\"45.0\" r=\"10.0\" /><circle cx=\"1295.68265625\" cy=\"95.0\" r=\"10.0\" /><rect x=\"1254.9134765625001\" y=\"125.0\" width=\"81.538359375\" height=\"40\" stroke=\"black\" fill=\"white\" stroke-width=\"1\" /><text x=\"1295.68265625\" y=\"145.0\" dominant-baseline=\"middle\" text-anchor=\"middle\" font-size=\"14px\" font-family=\"Arial\">Ry(theta14)</text><circle cx=\"1366.4518359375002\" cy=\"195.0\" r=\"10.0\" /><circle cx=\"1366.4518359375002\" cy=\"45.0\" r=\"10.0\" /><rect x=\"1386.4518359375002\" y=\"75.0\" width=\"81.538359375\" height=\"40\" stroke=\"black\" fill=\"white\" stroke-width=\"1\" /><text x=\"1427.221015625\" y=\"95.0\" dominant-baseline=\"middle\" text-anchor=\"middle\" font-size=\"14px\" font-family=\"Arial\">Ry(theta13)</text><rect x=\"1497.9901953125002\" y=\"25.0\" width=\"81.538359375\" height=\"40\" stroke=\"black\" fill=\"white\" stroke-width=\"1\" /><text x=\"1538.759375\" y=\"45.0\" dominant-baseline=\"middle\" text-anchor=\"middle\" font-size=\"14px\" font-family=\"Arial\">Ry(theta12)</text><rect x=\"1497.9901953125002\" y=\"175.0\" width=\"81.538359375\" height=\"40\" stroke=\"black\" fill=\"white\" stroke-width=\"1\" /><text x=\"1538.759375\" y=\"195.0\" dominant-baseline=\"middle\" text-anchor=\"middle\" font-size=\"14px\" font-family=\"Arial\">Ry(theta15)</text></svg>",
      "text/plain": [
       "<cirq.contrib.svg.svg.SVGCircuit at 0x7f93a23e2b80>"
      ]
     },
     "execution_count": 82,
     "metadata": {},
     "output_type": "execute_result"
    }
   ],
   "source": [
    "SVGCircuit(model.EdgeNet.model_circuit)"
   ]
  },
  {
   "cell_type": "code",
   "execution_count": 74,
   "metadata": {},
   "outputs": [
    {
     "name": "stdout",
     "output_type": "stream",
     "text": [
      "<tf.Variable 'Variable:0' shape=(1, 16) dtype=float32, numpy=\n",
      "array([[0.88935757, 5.713249  , 2.7589417 , 0.3086979 , 2.093919  ,\n",
      "        1.7441264 , 2.0512657 , 5.8762684 , 4.50214   , 3.1154184 ,\n",
      "        6.123014  , 1.5688474 , 0.11777797, 0.21642162, 0.30035165,\n",
      "        3.6149068 ]], dtype=float32)>\n"
     ]
    }
   ],
   "source": [
    "initial_params=model.EdgeNet.params\n",
    "print(initial_params)"
   ]
  },
  {
   "cell_type": "code",
   "execution_count": 76,
   "metadata": {},
   "outputs": [
    {
     "data": {
      "text/plain": [
       "<tf.Tensor: shape=(10673, 1), dtype=float32, numpy=\n",
       "array([[0.50530624],\n",
       "       [0.50687027],\n",
       "       [0.51246476],\n",
       "       ...,\n",
       "       [0.63156337],\n",
       "       [0.6041838 ],\n",
       "       [0.6356071 ]], dtype=float32)>"
      ]
     },
     "execution_count": 76,
     "metadata": {},
     "output_type": "execute_result"
    }
   ],
   "source": [
    "model([map2angle(X_test), Ri_test, Ro_test])"
   ]
  },
  {
   "cell_type": "code",
   "execution_count": 59,
   "metadata": {},
   "outputs": [
    {
     "data": {
      "text/plain": [
       "<tf.Variable 'Variable:0' shape=(1, 16) dtype=float32, numpy=\n",
       "array([[1.5272442 , 1.6926618 , 3.223971  , 5.251903  , 2.98808   ,\n",
       "        3.3744035 , 4.0490665 , 0.13729578, 0.401309  , 5.627983  ,\n",
       "        4.89406   , 4.7373276 , 2.4159832 , 5.199297  , 5.4010954 ,\n",
       "        3.8767986 ]], dtype=float32)>"
      ]
     },
     "execution_count": 59,
     "metadata": {},
     "output_type": "execute_result"
    }
   ],
   "source": [
    "model.EdgeNet.params"
   ]
  },
  {
   "cell_type": "code",
   "execution_count": 68,
   "metadata": {},
   "outputs": [
    {
     "data": {
      "text/plain": [
       "[<tf.Variable 'GNN/InputNet/kernel:0' shape=(3, 4) dtype=float32, numpy=\n",
       " array([[ 0.08405387,  0.23591733,  0.5228412 ,  0.746266  ],\n",
       "        [ 0.7753352 , -0.806826  ,  0.8399906 , -0.02434683],\n",
       "        [-0.09610987,  0.428957  , -0.66391194, -0.37110907]],\n",
       "       dtype=float32)>,\n",
       " <tf.Variable 'GNN/InputNet/bias:0' shape=(4,) dtype=float32, numpy=array([0., 0., 0., 0.], dtype=float32)>,\n",
       " <tf.Variable 'Variable:0' shape=(1, 16) dtype=float32, numpy=\n",
       " array([[1.5272442 , 1.6926618 , 3.223971  , 5.251903  , 2.98808   ,\n",
       "         3.3744035 , 4.0490665 , 0.13729578, 0.401309  , 5.627983  ,\n",
       "         4.89406   , 4.7373276 , 2.4159832 , 5.199297  , 5.4010954 ,\n",
       "         3.8767986 ]], dtype=float32)>,\n",
       " <tf.Variable 'dense_40/kernel:0' shape=(14, 4) dtype=float32, numpy=\n",
       " array([[ 3.78133178e-01,  2.52642632e-01, -4.94647443e-01,\n",
       "          2.70985186e-01],\n",
       "        [-5.09273291e-01,  4.49703932e-01,  4.34794068e-01,\n",
       "          4.94892836e-01],\n",
       "        [-2.72199124e-01,  4.87977743e-01, -4.53582168e-01,\n",
       "         -1.86059028e-01],\n",
       "        [-1.05142593e-04, -5.67521811e-01, -5.44047117e-01,\n",
       "         -3.05303514e-01],\n",
       "        [-2.81507373e-01,  3.47135663e-01, -1.85516685e-01,\n",
       "         -1.96148872e-01],\n",
       "        [ 3.71260643e-01,  1.36563599e-01,  1.98276699e-01,\n",
       "          4.27128077e-01],\n",
       "        [-1.24645770e-01, -4.62702364e-01,  5.58235645e-01,\n",
       "         -9.22332108e-02],\n",
       "        [-1.79785997e-01,  3.43726158e-01, -4.08500493e-01,\n",
       "         -4.07485455e-01],\n",
       "        [ 5.22973418e-01, -6.21209741e-02,  4.68928695e-01,\n",
       "          8.42103362e-02],\n",
       "        [-4.12549973e-02,  1.35690987e-01, -5.75079679e-01,\n",
       "          3.48855495e-01],\n",
       "        [-3.34946513e-01, -7.85511136e-02, -1.22012496e-01,\n",
       "         -3.82709920e-01],\n",
       "        [ 2.00206935e-01, -3.14883322e-01,  2.04658151e-01,\n",
       "          5.05125284e-01],\n",
       "        [ 2.09642529e-01, -9.58147645e-02,  3.96045983e-01,\n",
       "         -4.83970553e-01],\n",
       "        [-8.62253010e-02, -9.81534421e-02, -4.67771232e-01,\n",
       "          6.84053898e-02]], dtype=float32)>,\n",
       " <tf.Variable 'dense_40/bias:0' shape=(4,) dtype=float32, numpy=array([0., 0., 0., 0.], dtype=float32)>,\n",
       " <tf.Variable 'GNN/EdgeNet/dense_41/kernel:0' shape=(4, 1) dtype=float32, numpy=\n",
       " array([[-0.9013528 ],\n",
       "        [ 0.15034556],\n",
       "        [-0.15164548],\n",
       "        [-0.43671793]], dtype=float32)>,\n",
       " <tf.Variable 'GNN/EdgeNet/dense_41/bias:0' shape=(1,) dtype=float32, numpy=array([0.], dtype=float32)>,\n",
       " <tf.Variable 'Variable:0' shape=(1, 16) dtype=float32, numpy=\n",
       " array([[3.1924784 , 5.9606123 , 6.1823735 , 0.66054505, 4.9160476 ,\n",
       "         5.2092237 , 2.8230197 , 4.6457148 , 4.669731  , 2.9245136 ,\n",
       "         5.700242  , 3.9616508 , 4.845089  , 1.8488027 , 4.7985144 ,\n",
       "         2.4735756 ]], dtype=float32)>,\n",
       " <tf.Variable 'dense_42/kernel:0' shape=(21, 4) dtype=float32, numpy=\n",
       " array([[-0.41131544,  0.41197708,  0.32266083,  0.40434125],\n",
       "        [ 0.15687814, -0.04563534, -0.00125596,  0.3282291 ],\n",
       "        [-0.29191047, -0.09719518, -0.06553599, -0.26983607],\n",
       "        [ 0.19728246,  0.02106562,  0.08908591,  0.32484105],\n",
       "        [ 0.44490287, -0.44167185,  0.1878703 ,  0.43931827],\n",
       "        [ 0.13633499,  0.34636346, -0.2029584 ,  0.17331448],\n",
       "        [-0.30857188,  0.19677135, -0.127029  , -0.07329866],\n",
       "        [-0.4019814 ,  0.3916795 ,  0.272355  , -0.4761352 ],\n",
       "        [ 0.12902114,  0.44918004, -0.16163754,  0.38848403],\n",
       "        [ 0.32522961, -0.09509873, -0.42833623, -0.33820307],\n",
       "        [ 0.31656417,  0.42441663,  0.45151863, -0.2223208 ],\n",
       "        [ 0.3086888 ,  0.15175214,  0.3844793 ,  0.22619471],\n",
       "        [-0.44431257,  0.4577234 , -0.346482  ,  0.4309503 ],\n",
       "        [ 0.2820566 , -0.395655  ,  0.3704457 , -0.3299374 ],\n",
       "        [ 0.4820933 , -0.2785815 , -0.19454733, -0.02213514],\n",
       "        [-0.10110882, -0.43246514,  0.0621886 ,  0.2862766 ],\n",
       "        [-0.08363366, -0.19767478,  0.307596  ,  0.44552955],\n",
       "        [-0.10111839,  0.19770983,  0.04766175, -0.23388922],\n",
       "        [ 0.0161595 , -0.29627976,  0.42463258,  0.32719818],\n",
       "        [-0.43688112,  0.03849009, -0.1407935 ,  0.4637765 ],\n",
       "        [ 0.3531902 , -0.38617405, -0.3056124 , -0.11051759]],\n",
       "       dtype=float32)>,\n",
       " <tf.Variable 'dense_42/bias:0' shape=(4,) dtype=float32, numpy=array([0., 0., 0., 0.], dtype=float32)>,\n",
       " <tf.Variable 'dense_43/kernel:0' shape=(4, 4) dtype=float32, numpy=\n",
       " array([[ 0.37773663, -0.65647876, -0.29053152, -0.07876354],\n",
       "        [-0.40549618,  0.62000984,  0.40237552, -0.10778427],\n",
       "        [-0.04464477, -0.43003634, -0.677139  , -0.01735395],\n",
       "        [ 0.3606189 ,  0.2231347 ,  0.55935794, -0.6511081 ]],\n",
       "       dtype=float32)>,\n",
       " <tf.Variable 'dense_43/bias:0' shape=(4,) dtype=float32, numpy=array([0., 0., 0., 0.], dtype=float32)>]"
      ]
     },
     "execution_count": 68,
     "metadata": {},
     "output_type": "execute_result"
    }
   ],
   "source": [
    "(model.trainable_variables)"
   ]
  },
  {
   "cell_type": "code",
   "execution_count": 44,
   "metadata": {},
   "outputs": [
    {
     "data": {
      "text/plain": [
       "<tf.Variable 'Variable:0' shape=(1, 16) dtype=float32, numpy=\n",
       "array([[4.9526997, 3.8740401, 5.0112276, 5.3064246, 1.810576 , 5.2170134,\n",
       "        4.429359 , 2.514733 , 2.9278264, 3.704294 , 2.993864 , 4.9979177,\n",
       "        4.617066 , 1.8243496, 1.2218741, 2.2862554]], dtype=float32)>"
      ]
     },
     "execution_count": 44,
     "metadata": {},
     "output_type": "execute_result"
    }
   ],
   "source": [
    "model.EdgeNet.params"
   ]
  },
  {
   "cell_type": "code",
   "execution_count": 71,
   "metadata": {},
   "outputs": [
    {
     "data": {
      "text/plain": [
       "207"
      ]
     },
     "execution_count": 71,
     "metadata": {},
     "output_type": "execute_result"
    }
   ],
   "source": [
    "len(dir(EdgeNet))"
   ]
  },
  {
   "cell_type": "code",
   "execution_count": 8,
   "metadata": {},
   "outputs": [],
   "source": [
    "InputNet =  tf.keras.layers.Dense(\n",
    "            GNN.config['hid_dim'], input_shape=(3,),\n",
    "            activation='relu',name='InputNet'\n",
    "        )"
   ]
  },
  {
   "cell_type": "code",
   "execution_count": 18,
   "metadata": {},
   "outputs": [],
   "source": [
    "\n",
    "# execute InputNet to produce hidden dimensions\n",
    "H = InputNet(X_test)\n",
    "# add new dimensions to original X matrix\n",
    "H = tf.concat([H,X_test],axis=1)\n"
   ]
  },
  {
   "cell_type": "code",
   "execution_count": 19,
   "metadata": {},
   "outputs": [],
   "source": [
    "EdgeNet  = EdgeNet(name='EdgeNet')"
   ]
  },
  {
   "cell_type": "code",
   "execution_count": 21,
   "metadata": {},
   "outputs": [],
   "source": [
    "initial_params=EdgeNet.params"
   ]
  },
  {
   "cell_type": "code",
   "execution_count": 25,
   "metadata": {},
   "outputs": [],
   "source": [
    "Trained_EdgeNet=EdgeNet(H, Ri_test, Ro_test)"
   ]
  },
  {
   "cell_type": "code",
   "execution_count": 27,
   "metadata": {},
   "outputs": [
    {
     "data": {
      "text/plain": [
       "<tf.Tensor: shape=(10673, 1), dtype=float32, numpy=\n",
       "array([[0.34350342],\n",
       "       [0.36028248],\n",
       "       [0.34427202],\n",
       "       ...,\n",
       "       [0.32352263],\n",
       "       [0.22866037],\n",
       "       [0.22925326]], dtype=float32)>"
      ]
     },
     "execution_count": 27,
     "metadata": {},
     "output_type": "execute_result"
    }
   ],
   "source": [
    "Trained_EdgeNet"
   ]
  },
  {
   "cell_type": "code",
   "execution_count": 24,
   "metadata": {},
   "outputs": [
    {
     "data": {
      "text/plain": [
       "<tf.Variable 'Variable:0' shape=(1, 16) dtype=float32, numpy=\n",
       "array([[1.8725891 , 1.1988143 , 3.9284964 , 5.001767  , 6.1629596 ,\n",
       "        3.4359238 , 2.104424  , 5.7731915 , 4.670698  , 5.7563524 ,\n",
       "        1.2816627 , 1.1951374 , 4.8684664 , 4.03761   , 0.06187905,\n",
       "        4.0409393 ]], dtype=float32)>"
      ]
     },
     "execution_count": 24,
     "metadata": {},
     "output_type": "execute_result"
    }
   ],
   "source": [
    "initial_params"
   ]
  },
  {
   "cell_type": "code",
   "execution_count": 9,
   "metadata": {},
   "outputs": [],
   "source": [
    "model_test=GNN()"
   ]
  },
  {
   "cell_type": "code",
   "execution_count": 11,
   "metadata": {},
   "outputs": [],
   "source": [
    " # Constrcu the B matrix\n",
    "bo = tf.matmul(Ro_test,X_test,transpose_a=True)\n",
    "bi = tf.matmul(Ri_test,X_test,transpose_a=True)\n",
    "# Shape of B = N_edges x 6 (2x (3 + Hidden Dimension Size))\n",
    "# each row consists of two node that are connected in the input graph.\n",
    "B  = tf.concat([bo, bi], axis=1) # n_edges x 6, 3-> r,phi,z "
   ]
  },
  {
   "cell_type": "code",
   "execution_count": 12,
   "metadata": {},
   "outputs": [],
   "source": [
    " # Initialize parameters of the PQC\n",
    "params = tf.Variable(tf.random.uniform(\n",
    "            shape=(1,qc.n_params),\n",
    "            minval=0, maxval=1)*2*np.pi\n",
    "        ) \n",
    "\n",
    " # Combine input data with parameters in a single circuit_data matrix\n",
    "circuit_data = tf.concat(\n",
    "    [B, tf.repeat(params,repeats=B.shape[0],axis=0)],\n",
    "    axis=1\n",
    "        )        "
   ]
  },
  {
   "cell_type": "code",
   "execution_count": 13,
   "metadata": {},
   "outputs": [
    {
     "data": {
      "text/plain": [
       "<tf.Variable 'Variable:0' shape=(1, 16) dtype=float32, numpy=\n",
       "array([[4.5688696 , 3.5567024 , 0.27284935, 2.1370816 , 4.290166  ,\n",
       "        2.8473127 , 3.3162067 , 2.0751863 , 3.1020007 , 2.8394053 ,\n",
       "        1.0561038 , 5.294765  , 3.9061577 , 5.709925  , 3.1193597 ,\n",
       "        4.144468  ]], dtype=float32)>"
      ]
     },
     "execution_count": 13,
     "metadata": {},
     "output_type": "execute_result"
    }
   ],
   "source": [
    "params"
   ]
  },
  {
   "cell_type": "code",
   "execution_count": 14,
   "metadata": {},
   "outputs": [
    {
     "data": {
      "text/plain": [
       "[<tf.Tensor: shape=(1, 16), dtype=float32, numpy=\n",
       " array([[4.5688696 , 3.5567024 , 0.27284935, 2.1370816 , 4.290166  ,\n",
       "         2.8473127 , 3.3162067 , 2.0751863 , 3.1020007 , 2.8394053 ,\n",
       "         1.0561038 , 5.294765  , 3.9061577 , 5.709925  , 3.1193597 ,\n",
       "         4.144468  ]], dtype=float32)>]"
      ]
     },
     "execution_count": 14,
     "metadata": {},
     "output_type": "execute_result"
    }
   ],
   "source": [
    "[tf.repeat(params,repeats=1,axis=0)]"
   ]
  },
  {
   "cell_type": "code",
   "execution_count": 15,
   "metadata": {},
   "outputs": [
    {
     "data": {
      "text/plain": [
       "<tf.Tensor: shape=(10673, 22), dtype=float32, numpy=\n",
       "array([[ 0.07256859, -0.41526186,  0.100847  , ...,  5.709925  ,\n",
       "         3.1193597 ,  4.144468  ],\n",
       "       [ 0.07245377, -0.4122073 , -0.00659626, ...,  5.709925  ,\n",
       "         3.1193597 ,  4.144468  ],\n",
       "       [ 0.0723823 , -0.41020566,  0.0990306 , ...,  5.709925  ,\n",
       "         3.1193597 ,  4.144468  ],\n",
       "       ...,\n",
       "       [ 1.022196  , -0.33411235, -0.77540004, ...,  5.709925  ,\n",
       "         3.1193597 ,  4.144468  ],\n",
       "       [ 1.0193865 , -0.56379485,  0.22219999, ...,  5.709925  ,\n",
       "         3.1193597 ,  4.144468  ],\n",
       "       [ 1.0234352 , -0.2659074 ,  0.87259996, ...,  5.709925  ,\n",
       "         3.1193597 ,  4.144468  ]], dtype=float32)>"
      ]
     },
     "execution_count": 15,
     "metadata": {},
     "output_type": "execute_result"
    }
   ],
   "source": [
    "circuit_data"
   ]
  },
  {
   "cell_type": "code",
   "execution_count": null,
   "metadata": {},
   "outputs": [],
   "source": [
    "exp_layer = tfq.layers.Expectation()"
   ]
  },
  {
   "cell_type": "code",
   "execution_count": 193,
   "metadata": {},
   "outputs": [],
   "source": [
    "circuit= cirq.Circuit()\n",
    "qubits  = cirq.GridQubit.rect(n_qubits, 1)\n",
    "n_layers=1\n",
    "n_qubits=4\n",
    "symbol_offset=0\n",
    "params = sympy.symbols('theta{}:{}'.format(symbol_offset, symbol_offset + n_qubits*(1+n_layers)))"
   ]
  },
  {
   "cell_type": "code",
   "execution_count": 194,
   "metadata": {},
   "outputs": [],
   "source": [
    "qc = QCircuit(IEC_id='simple_encoding_y',\n",
    "            PQC_id='10',\n",
    "            MC_id='measure_all',\n",
    "            n_layers=n_layers, \n",
    "            input_size=n_qubits,\n",
    "            p=0.01)"
   ]
  },
  {
   "cell_type": "code",
   "execution_count": 197,
   "metadata": {},
   "outputs": [
    {
     "data": {
      "text/plain": [
       "(                                                      ┌───────────┐\n",
       "(0, 0): ───Ry(x0)───Ry(theta0)───────────@─────────────@──────────────Ry(theta4)───\n",
       "                                         │             │\n",
       "(1, 0): ───Ry(x1)───Ry(theta1)───────@───@─────────────┼Ry(theta5)─────────────────\n",
       "                                     │                 │\n",
       "(2, 0): ───Ry(x2)───Ry(theta2)───@───@───Ry(theta6)────┼───────────────────────────\n",
       "                                 │                     │\n",
       "(3, 0): ───Ry(x3)───Ry(theta3)───@─────────────────────@──────────────Ry(theta7)───\n",
       "                                                      └───────────┘,\n",
       " [cirq.GridQubit(0, 0),\n",
       "  cirq.GridQubit(1, 0),\n",
       "  cirq.GridQubit(2, 0),\n",
       "  cirq.GridQubit(3, 0)])"
      ]
     },
     "execution_count": 197,
     "metadata": {},
     "output_type": "execute_result"
    }
   ],
   "source": [
    "qc.model_circuit()"
   ]
  },
  {
   "cell_type": "code",
   "execution_count": 181,
   "metadata": {},
   "outputs": [],
   "source": [
    "import random\n",
    "def qc10_pqc(circuit, qubits, n_layers=1, n_qubits=4, symbol_offset=0):\n",
    "    params = sympy.symbols('theta{}:{}'.format(symbol_offset, symbol_offset + n_qubits*(1+n_layers)))\n",
    "    for i, qubit in enumerate(qubits):\n",
    "        #symbol = sympy.Symbol('theta_{}'.format(i+1))\n",
    "        circuit.append(cirq.ry(params[i])(qubit))\n",
    "    for layer in range(n_layers):\n",
    "        for i in range(n_qubits):\n",
    "            x = random.uniform(0,1)\n",
    "            print('HELLO')\n",
    "            if x>0.3:\n",
    "                circuit.append(cirq.CZ(qubits[(n_qubits-2-i)%n_qubits], qubits[(n_qubits-1-i)%n_qubits]))\n",
    "        for i, qubit in enumerate(qubits):\n",
    "            #symbol = sympy.Symbol('theta_{}'.format(i+1+n_qubits*(layer+1)))\n",
    "            circuit.append(cirq.ry(params[i+n_qubits*(layer+1)])(qubit))\n",
    "\n",
    "    return circuit"
   ]
  },
  {
   "cell_type": "code",
   "execution_count": 183,
   "metadata": {},
   "outputs": [
    {
     "name": "stdout",
     "output_type": "stream",
     "text": [
      "HELLO\n",
      "HELLO\n",
      "HELLO\n",
      "HELLO\n"
     ]
    },
    {
     "data": {
      "text/html": [
       "<pre style=\"overflow: auto; white-space: pre;\">                                         ┌───────────┐\n",
       "(0, 0): ───Ry(theta0)───────@─────────────@──────────────Ry(theta4)───\n",
       "                            │             │\n",
       "(1, 0): ───Ry(theta1)───@───@─────────────┼Ry(theta5)─────────────────\n",
       "                        │                 │\n",
       "(2, 0): ───Ry(theta2)───@───Ry(theta6)────┼───────────────────────────\n",
       "                                          │\n",
       "(3, 0): ───Ry(theta3)─────────────────────@──────────────Ry(theta7)───\n",
       "                                         └───────────┘</pre>"
      ],
      "text/plain": [
       "                                         ┌───────────┐\n",
       "(0, 0): ───Ry(theta0)───────@─────────────@──────────────Ry(theta4)───\n",
       "                            │             │\n",
       "(1, 0): ───Ry(theta1)───@───@─────────────┼Ry(theta5)─────────────────\n",
       "                        │                 │\n",
       "(2, 0): ───Ry(theta2)───@───Ry(theta6)────┼───────────────────────────\n",
       "                                          │\n",
       "(3, 0): ───Ry(theta3)─────────────────────@──────────────Ry(theta7)───\n",
       "                                         └───────────┘"
      ]
     },
     "execution_count": 183,
     "metadata": {},
     "output_type": "execute_result"
    }
   ],
   "source": [
    "qc10_pqc(circuit, qubits, n_layers=1, n_qubits=4, symbol_offset=0)"
   ]
  },
  {
   "cell_type": "code",
   "execution_count": null,
   "metadata": {},
   "outputs": [],
   "source": []
  }
 ],
 "metadata": {
  "kernelspec": {
   "display_name": "qtrkx",
   "language": "python",
   "name": "python3"
  },
  "language_info": {
   "codemirror_mode": {
    "name": "ipython",
    "version": 3
   },
   "file_extension": ".py",
   "mimetype": "text/x-python",
   "name": "python",
   "nbconvert_exporter": "python",
   "pygments_lexer": "ipython3",
   "version": "3.8.5"
  },
  "orig_nbformat": 4
 },
 "nbformat": 4,
 "nbformat_minor": 2
}
