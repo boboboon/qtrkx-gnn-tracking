{
 "cells": [
  {
   "cell_type": "code",
   "execution_count": 1,
   "metadata": {},
   "outputs": [
    {
     "name": "stderr",
     "output_type": "stream",
     "text": [
      "2023-04-06 15:32:18.262133: I tensorflow/core/platform/cpu_feature_guard.cc:142] This TensorFlow binary is optimized with oneAPI Deep Neural Network Library (oneDNN)to use the following CPU instructions in performance-critical operations:  AVX2 FMA\n",
      "To enable them in other operations, rebuild TensorFlow with the appropriate compiler flags.\n",
      "2023-04-06 15:32:18.282114: I tensorflow/compiler/xla/service/service.cc:168] XLA service 0x7fabb4c9b050 initialized for platform Host (this does not guarantee that XLA will be used). Devices:\n",
      "2023-04-06 15:32:18.282131: I tensorflow/compiler/xla/service/service.cc:176]   StreamExecutor device (0): Host, Default Version\n"
     ]
    }
   ],
   "source": [
    "import tensorflow as tf\n",
    "import tensorflow_quantum as tfq\n",
    "import numpy as np\n",
    "import cirq\n",
    "from qcircuits.QCircuit import QCircuit\n",
    "import sys,yaml\n",
    "from tools.tools import *\n",
    "from test import test\n",
    "import cirq\n",
    "from cirq.contrib.svg import SVGCircuit\n",
    "import sympy\n",
    "\n",
    "sys.path.insert(0, '/Users/lucascurtin/Desktop/QGNN Repos/qtrkx-gnn-tracking')\n",
    "\n",
    "###############################################################################\n",
    "class Rescale01(tf.keras.layers.Layer):\n",
    "    def __init__(self, name='Rescale01'):\n",
    "        super(Rescale01, self).__init__(name=name)\n",
    "\n",
    "    def call(self, X):\n",
    "        X = tf.divide(\n",
    "                tf.subtract(\n",
    "                    X, \n",
    "                    tf.reduce_min(X)\n",
    "                ), \n",
    "                tf.subtract(\n",
    "                    tf.reduce_max(X), \n",
    "                    tf.reduce_min(X)\n",
    "                ),\n",
    "            lambda: X\n",
    "        )\n",
    "        return X\n",
    "###############################################################################\n",
    "class EdgeNet(tf.keras.layers.Layer):\n",
    "    def __init__(self, name='EdgeNet'):\n",
    "        super(EdgeNet, self).__init__(name=name)\n",
    "\n",
    "        self.n_layers = GNN.config['EN_qc']['n_layers']\n",
    "        self.n_qubits = GNN.config['EN_qc']['n_qubits']\n",
    "\n",
    "        if 'dp_noise' in GNN.config['EN_qc'].keys():\n",
    "            dp_noise = GNN.config['EN_qc']['dp_noise']\n",
    "        else:\n",
    "            # set noise to None if not specified \n",
    "            dp_noise = None\n",
    "                \n",
    "        # Read the Quantum Circuit with specified configuration\n",
    "        qc = QCircuit(IEC_id=GNN.config['EN_qc']['IEC_id'],\n",
    "            PQC_id=GNN.config['EN_qc']['PQC_id'],\n",
    "            MC_id=GNN.config['EN_qc']['MC_id'],\n",
    "            n_layers=self.n_layers, \n",
    "            input_size=self.n_qubits,\n",
    "            p=0.01)\n",
    "        \n",
    "        self.model_circuit, self.qubits = qc.model_circuit()\n",
    "        self.measurement_operators = qc.measurement_operators()\n",
    "\n",
    "        # Prepare symbol list for inputs and parameters of the Quantum Circuits\n",
    "        self.symbol_names = ['x{}'.format(i) for i in range(qc.n_inputs)]\n",
    "        for i in range(qc.n_params):\n",
    "            self.symbol_names.append('theta{}'.format(i)) \n",
    "\n",
    "        # Classical input layer of the Node Network\n",
    "        # takes input data and feeds it to the PQC layer\n",
    "        self.input_layer = tf.keras.Sequential([\n",
    "            tf.keras.layers.Dense(\n",
    "                self.n_qubits, \n",
    "                activation='relu'),\n",
    "            Rescale01()\n",
    "        ])\n",
    "        \n",
    "        # Prepare PQC layer\n",
    "        if (dp_noise!=None):\n",
    "            # Noisy simulation requires density matrix simulator\n",
    "            self.exp_layer = tfq.layers.SampledExpectation(\n",
    "                cirq.DensityMatrixSimulator(noise=cirq.depolarize(dp_noise))\n",
    "            )\n",
    "        elif dp_noise==None and GNN.config['EN_qc']['repetitions']!=0:\n",
    "            # Use default simulator for noiseless execution\n",
    "            self.exp_layer = tfq.layers.SampledExpectation()\n",
    "        elif dp_noise==None and GNN.config['EN_qc']['repetitions']==0:\n",
    "            # Use default simulator for noiseless execution\n",
    "            self.exp_layer = tfq.layers.Expectation()\n",
    "        else: \n",
    "            raise ValueError('Wrong PQC Specifications!')\n",
    "\n",
    "         # Classical readout layer\n",
    "        self.readout_layer = tf.keras.layers.Dense(1, activation='sigmoid')\n",
    "\n",
    "        # Initialize parameters of the PQC\n",
    "        self.params = tf.Variable(tf.random.uniform(\n",
    "            shape=(1,qc.n_params),\n",
    "            minval=0, maxval=1)*2*np.pi\n",
    "        ) \n",
    "\n",
    "    def call(self,X, Ri, Ro):\n",
    "        '''forward pass of the edge network. '''\n",
    "\n",
    "        # Constrcu the B matrix\n",
    "        bo = tf.matmul(Ro,X,transpose_a=True)\n",
    "        bi = tf.matmul(Ri,X,transpose_a=True)\n",
    "        # Shape of B = N_edges x 6 (2x (3 + Hidden Dimension Size))\n",
    "        # each row consists of two node that are connected in the input graph.\n",
    "        B  = tf.concat([bo, bi], axis=1) # n_edges x 6, 3-> r,phi,z \n",
    "\n",
    "        # Scale the output to be [0,PI]\n",
    "        # this value is a preference and can be changed \n",
    "        # to do: add the scaling as a configuration input\n",
    "        input_to_circuit = self.input_layer(B) * np.pi\n",
    "\n",
    "        # Combine input data with parameters in a single circuit_data matrix\n",
    "        circuit_data = tf.concat(\n",
    "            [\n",
    "                input_to_circuit, \n",
    "                tf.repeat(self.params,repeats=input_to_circuit.shape[0],axis=0)\n",
    "            ],\n",
    "            axis=1\n",
    "        )        \n",
    "          \n",
    "        # Get expectation values for all edges\n",
    "        if GNN.config['EN_qc']['repetitions']==0:\n",
    "            exps = self.exp_layer(\n",
    "                self.model_circuit,\n",
    "                operators=self.measurement_operators,\n",
    "                symbol_names=self.symbol_names,\n",
    "                symbol_values=circuit_data\n",
    "            )\n",
    "        else:\n",
    "            exps = self.exp_layer(\n",
    "                self.model_circuit,\n",
    "                operators=self.measurement_operators,\n",
    "                symbol_names=self.symbol_names,\n",
    "                symbol_values=circuit_data,\n",
    "                repetitions=GNN.config['EN_qc']['repetitions']\n",
    "            )\n",
    "    \n",
    "        # Return the output of the final layer\n",
    "        return self.readout_layer(exps)\n",
    "\n",
    "class NodeNet(tf.keras.layers.Layer):\n",
    "    def __init__(self, name='NodeNet'):\n",
    "        super(NodeNet, self).__init__(name=name)\n",
    "        \n",
    "        self.n_layers = GNN.config['NN_qc']['n_layers']\n",
    "        self.n_qubits = GNN.config['NN_qc']['n_qubits']\n",
    "\n",
    "        if 'dp_noise' in GNN.config['EN_qc'].keys():\n",
    "            dp_noise = GNN.config['EN_qc']['dp_noise']\n",
    "        else:\n",
    "            # set noise to None if not specified \n",
    "            dp_noise = None\n",
    "        \n",
    "        # Read the Quantum Circuit with specified configuration\n",
    "        qc = QCircuit(\n",
    "            IEC_id=GNN.config['NN_qc']['IEC_id'],\n",
    "            PQC_id=GNN.config['NN_qc']['PQC_id'],\n",
    "            MC_id=GNN.config['NN_qc']['MC_id'],\n",
    "            n_layers=self.n_layers, \n",
    "            input_size=self.n_qubits,\n",
    "            p=0.01\n",
    "        )\n",
    "        self.model_circuit, self.qubits = qc.model_circuit()\n",
    "        self.measurement_operators = qc.measurement_operators()\n",
    "\n",
    "        # Prepare symbol list for inputs and parameters of the Quantum Circuits\n",
    "        self.symbol_names = ['x{}'.format(i) for i in range(qc.n_inputs)]\n",
    "        for i in range(qc.n_params):\n",
    "            self.symbol_names.append('theta{}'.format(i)) \n",
    "\n",
    "        # Classical input layer of the Node Network\n",
    "        # takes input data and feeds it to the PQC layer\n",
    "        self.input_layer = tf.keras.Sequential([\n",
    "            tf.keras.layers.Dense(\n",
    "                self.n_qubits, \n",
    "                activation='relu'),\n",
    "            Rescale01()\n",
    "        ])\n",
    "\n",
    "        # Prepare PQC layer\n",
    "        if (dp_noise!=None):\n",
    "            # Noisy simulation requires density matrix simulator\n",
    "            self.exp_layer = tfq.layers.SampledExpectation(\n",
    "                cirq.DensityMatrixSimulator(noise=cirq.depolarize(dp_noise))\n",
    "            )\n",
    "        elif dp_noise==None and  GNN.config['EN_qc']['repetitions']!=0:\n",
    "            # Use default simulator for noiseless execution\n",
    "            self.exp_layer = tfq.layers.SampledExpectation()\n",
    "        elif dp_noise==None and  GNN.config['EN_qc']['repetitions']==0:\n",
    "            # Use default simulator for noiseless execution\n",
    "            self.exp_layer = tfq.layers.Expectation()\n",
    "        else: \n",
    "            raise ValueError('Wrong PQC Specifications!')\n",
    "\n",
    "        # Classical readout layer\n",
    "        self.readout_layer = tf.keras.Sequential([\n",
    "            tf.keras.layers.Dense(\n",
    "                GNN.config['hid_dim'], \n",
    "                activation='relu'),\n",
    "            Rescale01()\n",
    "        ])\n",
    "\n",
    "        # Initialize parameters of the PQC\n",
    "        self.params = tf.Variable(tf.random.uniform(\n",
    "            shape=(1,qc.n_params),\n",
    "            minval=0, maxval=1)*2*np.pi\n",
    "        ) \n",
    "\n",
    "    def call(self, X, e, Ri, Ro):\n",
    "        '''forward pass of the node network. '''\n",
    "\n",
    "        # The following lines constructs the M matrix\n",
    "        # M matrix contains weighted averages of input and output nodes\n",
    "        # the weights are the edge probablities.\n",
    "        bo  = tf.matmul(Ro, X, transpose_a=True)\n",
    "        bi  = tf.matmul(Ri, X, transpose_a=True) \n",
    "        Rwo = Ro * e[:,0]\n",
    "        Rwi = Ri * e[:,0]\n",
    "        mi = tf.matmul(Rwi, bo)\n",
    "        mo = tf.matmul(Rwo, bi)\n",
    "        # Shape of M = N_nodes x (3x (3 + Hidden Dimension Size))\n",
    "        # mi: weighted average of input nodes\n",
    "        # mo: weighted average of output nodes\n",
    "        M = tf.concat([mi, mo, X], axis=1)\n",
    "\n",
    "        # Scale the output to be [0,PI]\n",
    "        # this value is a preference and can be changed \n",
    "        # to do: add the scaling as a configuration input\n",
    "        input_to_circuit = self.input_layer(M) * np.pi\n",
    "\n",
    "        # Combine input data with parameters in a single circuit_data matrix\n",
    "        circuit_data = tf.concat(\n",
    "            [\n",
    "                input_to_circuit, \n",
    "                tf.repeat(self.params,repeats=input_to_circuit.shape[0],axis=0)\n",
    "            ],\n",
    "            axis=1\n",
    "        )        \n",
    "\n",
    "        # Get expectation values for all nodes\n",
    "        if GNN.config['NN_qc']['repetitions']==0:\n",
    "            exps = self.exp_layer(self.model_circuit,\n",
    "                operators=self.measurement_operators,\n",
    "                symbol_names=self.symbol_names,\n",
    "                symbol_values=circuit_data)\n",
    "        else:\n",
    "            exps = self.exp_layer(self.model_circuit,\n",
    "                operators=self.measurement_operators,\n",
    "                symbol_names=self.symbol_names,\n",
    "                symbol_values=circuit_data,\n",
    "                repetitions=GNN.config['NN_qc']['repetitions'])\n",
    "\n",
    "        # Return the output of the final layer\n",
    "        return self.readout_layer(exps)\n",
    "\n",
    "###############################################################################\n",
    "class GNN(tf.keras.Model):\n",
    "    def __init__(self):\n",
    "        ''' Init function of GNN, inits all GNN blocks. '''\n",
    "        super(GNN, self).__init__(name='GNN')\n",
    "        # Define Initial Input Layer\n",
    "        self.InputNet =  tf.keras.layers.Dense(\n",
    "            GNN.config['hid_dim'], input_shape=(3,),\n",
    "            activation='relu',name='InputNet'\n",
    "        )\n",
    "        self.EdgeNet  = EdgeNet(name='EdgeNet')\n",
    "        self.NodeNet  = NodeNet(name='NodeNet')\n",
    "        self.n_iters  = GNN.config['n_iters']\n",
    "    \n",
    "    def call(self, graph_array):\n",
    "        ''' forward pass of the GNN '''\n",
    "        # decompose the graph array\n",
    "        X, Ri, Ro = graph_array\n",
    "        # execute InputNet to produce hidden dimensions\n",
    "        H = self.InputNet(X)\n",
    "        # add new dimensions to original X matrix\n",
    "        H = tf.concat([H,X],axis=1)\n",
    "        # recurrent iteration of the network\n",
    "        for i in range(self.n_iters):\n",
    "            e = self.EdgeNet(H, Ri, Ro)\n",
    "            H = self.NodeNet(H, e, Ri, Ro)\n",
    "            # update H with the output of NodeNet\n",
    "            H = tf.concat([H,X],axis=1)\n",
    "        # execute EdgeNet one more time to obtain edge predictions\n",
    "        e = self.EdgeNet(H, Ri, Ro)\n",
    "        # return edge prediction array\n",
    "        return e\n",
    "\n",
    "def load_config(config_input,RID_input):\n",
    "\n",
    "    \n",
    "    # read the config file \n",
    "    with open(config_input, 'r') as ymlfile:\n",
    "        config = yaml.load(ymlfile, Loader=yaml.FullLoader)\n",
    "        if len(glob.glob(config['log_dir']))==0:\n",
    "            os.mkdir(config['log_dir'])\n",
    "        # append RID to log dir\n",
    "        config['log_dir'] = config['log_dir']+'run{}/'.format(RID_input)\n",
    "        if len(glob.glob(config['log_dir']))==0:\n",
    "            os.mkdir(config['log_dir'])\n",
    "        # print all configs\n",
    "        print('Printing configs: ')\n",
    "        for key in config:\n",
    "            print(key + ': ' + str(config[key]))\n",
    "        print('Log dir: ' + config['log_dir'])\n",
    "        print('Training data input dir: ' + config['train_dir'])\n",
    "        print('Validation data input dir: ' + config['train_dir'])\n",
    "        if config['run_type'] == 'new_run':\n",
    "            delete_all_logs(config['log_dir'])\n",
    "    # LOG the config every time\n",
    "    with open(config['log_dir'] + 'config.yaml', 'w') as f:\n",
    "        for key in config:\n",
    "            f.write('%s : %s \\n' %(key,str(config[key])))\n",
    "    # return the config dictionary\n",
    "    return config\n",
    "\n",
    "\n",
    "import sys, os, time, datetime, csv\n",
    "sys.path.insert(1, '/Users/lucascurtin/Desktop/QGNN Repos/qtrkx-gnn-tracking/tools')\n",
    "from tools import *\n",
    "import numpy as np\n",
    "import math\n",
    "import matplotlib\n",
    "import matplotlib.pyplot as plt\n",
    "from matplotlib.animation import FuncAnimation\n",
    "from mpl_toolkits.mplot3d import Axes3D\n",
    "\n",
    "from tqdm import tqdm\n",
    "from matplotlib.lines import Line2D\n",
    "\n",
    "import trackml.dataset\n",
    "\n",
    "import pandas as pd\n",
    "\n",
    "from mpl_toolkits import mplot3d\n",
    "\n",
    "\n",
    "from collections import namedtuple\n",
    "\n",
    "import numpy as np\n",
    "\n",
    "# A Graph is a namedtuple of matrices (X, Ri, Ro, y)\n",
    "Graph = namedtuple('Graph', ['X', 'Ri', 'Ro', 'y'])\n",
    "\n",
    "def graph_to_sparse(graph):\n",
    "    Ri_rows, Ri_cols = graph.Ri.nonzero()\n",
    "    Ro_rows, Ro_cols = graph.Ro.nonzero()\n",
    "    return dict(X=graph.X, y=graph.y,\n",
    "                Ri_rows=Ri_rows, Ri_cols=Ri_cols,\n",
    "                Ro_rows=Ro_rows, Ro_cols=Ro_cols)\n",
    "\n",
    "def sparse_to_graph(X, Ri_rows, Ri_cols, Ro_rows, Ro_cols, y, dtype=np.uint8):\n",
    "    n_nodes, n_edges = X.shape[0], Ri_rows.shape[0]\n",
    "    Ri = np.zeros((n_nodes, n_edges), dtype=dtype)\n",
    "    Ro = np.zeros((n_nodes, n_edges), dtype=dtype)\n",
    "    Ri[Ri_rows, Ri_cols] = 1\n",
    "    Ro[Ro_rows, Ro_cols] = 1\n",
    "    return Graph(X, Ri, Ro, y)\n",
    "\n",
    "def save_graph(graph, filename):\n",
    "    \"\"\"Write a single graph to an NPZ file archive\"\"\"\n",
    "    np.savez(filename, **graph_to_sparse(graph))\n",
    "\n",
    "def save_graphs(graphs, filenames):\n",
    "    for graph, filename in zip(graphs, filenames):\n",
    "        save_graph(graph, filename)\n",
    "\n",
    "def load_graph(filename):\n",
    "    \"\"\"Reade a single graph NPZ\"\"\"\n",
    "    with np.load(filename) as f:\n",
    "        return sparse_to_graph(**dict(f.items()))\n",
    "\n",
    "def load_graphs(filenames, graph_type=Graph):\n",
    "    return [load_graph(f, graph_type) for f in filenames]\n",
    "\n",
    "\n",
    "def sparse_to_graph(X, Ri_rows, Ri_cols, Ro_rows, Ro_cols, y, dtype=np.float32):\n",
    "    n_nodes, n_edges = X.shape[0], Ri_rows.shape[0]\n",
    "    Ri = np.zeros((n_nodes, n_edges), dtype=dtype)\n",
    "    Ro = np.zeros((n_nodes, n_edges), dtype=dtype)\n",
    "    Ri[Ri_rows, Ri_cols] = 1\n",
    "    Ro[Ro_rows, Ro_cols] = 1\n",
    "    return Graph(X, Ri, Ro, y)\n",
    "\n",
    "\n",
    "def map2angle(arr0):\n",
    "    # Mapping the cylindrical coordinates to [0,1]\n",
    "    arr = np.zeros(arr0.shape, dtype=np.float32)\n",
    "    r_min     = 0.\n",
    "    r_max     = 1.1\n",
    "    arr[:,0] = (arr0[:,0]-r_min)/(r_max-r_min)    \n",
    "\n",
    "\n",
    "\n",
    "   \n",
    "    phi_min   = -1.0\n",
    "    phi_max   = 1.0\n",
    "    arr[:,1]  = (arr0[:,1]-phi_min)/(phi_max-phi_min) \n",
    "    z_min     = 0\n",
    "    z_max     = 1.1\n",
    "    arr[:,2]  = (np.abs(arr0[:,2])-z_min)/(z_max-z_min)  # take abs of z due to symmetry of z\n",
    "\n",
    "    mapping_check(arr)\n",
    "    return arr\n",
    "\n"
   ]
  },
  {
   "cell_type": "code",
   "execution_count": 2,
   "metadata": {},
   "outputs": [
    {
     "name": "stdout",
     "output_type": "stream",
     "text": [
      "Printing configs: \n",
      "train_dir: /Users/lucascurtin/Desktop/QGNN Repos/qtrkx-gnn-tracking/data_personal/train_graphs\n",
      "valid_dir: /Users/lucascurtin/Desktop/QGNN Repos/qtrkx-gnn-tracking/data_personal/valid_graphs\n",
      "dataset: TuysuzPaper\n",
      "log_dir: /Users/lucascurtin/Desktop/QGNN Repos/qtrkx-gnn-tracking/logs/test_QGNN/run1/\n",
      "run_type: new_run\n",
      "gpu: -1\n",
      "n_files: 10\n",
      "n_valid: 2\n",
      "n_train: 8\n",
      "batch_size: 1\n",
      "lr_c: 0.01\n",
      "n_iters: 3\n",
      "n_epoch: 3\n",
      "TEST_every: 1\n",
      "hid_dim: 4\n",
      "network: QGNN\n",
      "optimizer: Adam\n",
      "loss_func: BinaryCrossentropy\n",
      "n_thread: 4\n",
      "log_verbosity: 2\n",
      "EN_qc: {'PQC_id': 'LVQE', 'IEC_id': 'simple_encoding_y', 'MC_id': 'measure_all', 'n_layers': 1, 'repetitions': 0, 'n_qubits': 4}\n",
      "NN_qc: {'PQC_id': 'LVQE', 'IEC_id': 'simple_encoding_y', 'MC_id': 'measure_all', 'n_layers': 1, 'repetitions': 0, 'n_qubits': 4}\n",
      "Log dir: /Users/lucascurtin/Desktop/QGNN Repos/qtrkx-gnn-tracking/logs/test_QGNN/run1/\n",
      "Training data input dir: /Users/lucascurtin/Desktop/QGNN Repos/qtrkx-gnn-tracking/data_personal/train_graphs\n",
      "Validation data input dir: /Users/lucascurtin/Desktop/QGNN Repos/qtrkx-gnn-tracking/data_personal/train_graphs\n",
      "2023-04-06 15:32:19.403287 Deleted old log: /Users/lucascurtin/Desktop/QGNN Repos/qtrkx-gnn-tracking/logs/test_QGNN/run1/summary.csv\n",
      "2023-04-06 15:32:19.403541 Deleted old log: /Users/lucascurtin/Desktop/QGNN Repos/qtrkx-gnn-tracking/logs/test_QGNN/run1/log_validation.csv\n",
      "2023-04-06 15:32:19.403851 Deleted old log: /Users/lucascurtin/Desktop/QGNN Repos/qtrkx-gnn-tracking/logs/test_QGNN/run1/log_training.csv\n"
     ]
    }
   ],
   "source": [
    "# Read config file\n",
    "config = load_config('configs/local_QGNN.yaml',1)\n",
    "\n",
    "tools.config = config\n",
    "\n",
    "from qnetworks.QGNN import GNN\n",
    "GNN.config = config"
   ]
  },
  {
   "cell_type": "code",
   "execution_count": 3,
   "metadata": {},
   "outputs": [],
   "source": [
    "n_layers = GNN.config['EN_qc']['n_layers']\n",
    "n_qubits = GNN.config['EN_qc']['n_qubits']\n",
    "\n",
    "if 'dp_noise' in GNN.config['EN_qc'].keys():\n",
    "    dp_noise = GNN.config['EN_qc']['dp_noise']\n",
    "else:\n",
    "    # set noise to None if not specified \n",
    "    dp_noise = None\n",
    "        \n",
    "# Read the Quantum Circuit with specified configuration\n",
    "qc = QCircuit(IEC_id=GNN.config['EN_qc']['IEC_id'],\n",
    "    PQC_id=GNN.config['EN_qc']['PQC_id'],\n",
    "    MC_id=GNN.config['EN_qc']['MC_id'],\n",
    "    n_layers=n_layers, \n",
    "    input_size=n_qubits,\n",
    "    p=0.01)\n",
    "\n",
    "model_circuit, qubits = qc.model_circuit()\n",
    "measurement_operators = qc.measurement_operators()\n",
    "\n",
    "# Prepare symbol list for inputs and parameters of the Quantum Circuits\n",
    "symbol_names = ['x{}'.format(i) for i in range(qc.n_inputs)]\n",
    "for i in range(qc.n_params):\n",
    "    symbol_names.append('theta{}'.format(i)) \n",
    "\n",
    "# Classical input layer of the Node Network\n",
    "# takes input data and feeds it to the PQC layer\n",
    "input_layer = tf.keras.Sequential([\n",
    "    tf.keras.layers.Dense(\n",
    "        n_qubits, \n",
    "        activation='relu'),\n",
    "    Rescale01()\n",
    "])\n",
    "\n",
    "# Prepare PQC layer\n",
    "if (dp_noise!=None):\n",
    "    # Noisy simulation requires density matrix simulator\n",
    "    exp_layer = tfq.layers.SampledExpectation(\n",
    "        cirq.DensityMatrixSimulator(noise=cirq.depolarize(dp_noise))\n",
    "    )\n",
    "elif dp_noise==None and GNN.config['EN_qc']['repetitions']!=0:\n",
    "    # Use default simulator for noiseless execution\n",
    "    exp_layer = tfq.layers.SampledExpectation()\n",
    "elif dp_noise==None and GNN.config['EN_qc']['repetitions']==0:\n",
    "    # Use default simulator for noiseless execution\n",
    "    exp_layer = tfq.layers.Expectation()\n",
    "else: \n",
    "    raise ValueError('Wrong PQC Specifications!')\n",
    "\n",
    "    # Classical readout layer\n",
    "readout_layer = tf.keras.layers.Dense(1, activation='sigmoid')\n",
    "\n",
    "# Initialize parameters of the PQC\n",
    "params = tf.Variable(tf.random.uniform(\n",
    "    shape=(1,qc.n_params),\n",
    "    minval=0, maxval=1)*2*np.pi\n",
    ") "
   ]
  },
  {
   "cell_type": "code",
   "execution_count": 4,
   "metadata": {},
   "outputs": [],
   "source": [
    "model=GNN()"
   ]
  },
  {
   "cell_type": "code",
   "execution_count": 5,
   "metadata": {},
   "outputs": [
    {
     "data": {
      "image/svg+xml": [
       "<svg xmlns=\"http://www.w3.org/2000/svg\" width=\"796.9031640625001\" height=\"200.0\"><line x1=\"32.246796875\" x2=\"766.9031640625001\" y1=\"25.0\" y2=\"25.0\" stroke=\"#1967d2\" stroke-width=\"1\" /><line x1=\"32.246796875\" x2=\"766.9031640625001\" y1=\"75.0\" y2=\"75.0\" stroke=\"#1967d2\" stroke-width=\"1\" /><line x1=\"32.246796875\" x2=\"766.9031640625001\" y1=\"125.0\" y2=\"125.0\" stroke=\"#1967d2\" stroke-width=\"1\" /><line x1=\"32.246796875\" x2=\"766.9031640625001\" y1=\"175.0\" y2=\"175.0\" stroke=\"#1967d2\" stroke-width=\"1\" /><line x1=\"164.108125\" x2=\"164.108125\" y1=\"25.0\" y2=\"75.0\" stroke=\"black\" stroke-width=\"3\" /><line x1=\"164.108125\" x2=\"164.108125\" y1=\"125.0\" y2=\"175.0\" stroke=\"black\" stroke-width=\"3\" /><line x1=\"317.8603515625\" x2=\"317.8603515625\" y1=\"25.0\" y2=\"75.0\" stroke=\"black\" stroke-width=\"3\" /><line x1=\"317.8603515625\" x2=\"317.8603515625\" y1=\"125.0\" y2=\"175.0\" stroke=\"black\" stroke-width=\"3\" /><line x1=\"471.612578125\" x2=\"471.612578125\" y1=\"75.0\" y2=\"125.0\" stroke=\"black\" stroke-width=\"3\" /><line x1=\"625.3648046875\" x2=\"625.3648046875\" y1=\"75.0\" y2=\"125.0\" stroke=\"black\" stroke-width=\"3\" /><rect x=\"10.0\" y=\"5.0\" width=\"44.49359375\" height=\"40\" stroke=\"black\" fill=\"white\" stroke-width=\"0\" /><text x=\"32.246796875\" y=\"25.0\" dominant-baseline=\"middle\" text-anchor=\"middle\" font-size=\"14px\" font-family=\"Arial\">(0, 0): </text><rect x=\"10.0\" y=\"55.0\" width=\"44.49359375\" height=\"40\" stroke=\"black\" fill=\"white\" stroke-width=\"0\" /><text x=\"32.246796875\" y=\"75.0\" dominant-baseline=\"middle\" text-anchor=\"middle\" font-size=\"14px\" font-family=\"Arial\">(1, 0): </text><rect x=\"10.0\" y=\"105.0\" width=\"44.49359375\" height=\"40\" stroke=\"black\" fill=\"white\" stroke-width=\"0\" /><text x=\"32.246796875\" y=\"125.0\" dominant-baseline=\"middle\" text-anchor=\"middle\" font-size=\"14px\" font-family=\"Arial\">(2, 0): </text><rect x=\"10.0\" y=\"155.0\" width=\"44.49359375\" height=\"40\" stroke=\"black\" fill=\"white\" stroke-width=\"0\" /><text x=\"32.246796875\" y=\"175.0\" dominant-baseline=\"middle\" text-anchor=\"middle\" font-size=\"14px\" font-family=\"Arial\">(3, 0): </text><rect x=\"74.49359375\" y=\"5.0\" width=\"49.61453125\" height=\"40\" stroke=\"black\" fill=\"white\" stroke-width=\"1\" /><text x=\"99.300859375\" y=\"25.0\" dominant-baseline=\"middle\" text-anchor=\"middle\" font-size=\"14px\" font-family=\"Arial\">Ry(x0)</text><rect x=\"74.49359375\" y=\"55.0\" width=\"49.61453125\" height=\"40\" stroke=\"black\" fill=\"white\" stroke-width=\"1\" /><text x=\"99.300859375\" y=\"75.0\" dominant-baseline=\"middle\" text-anchor=\"middle\" font-size=\"14px\" font-family=\"Arial\">Ry(x1)</text><rect x=\"74.49359375\" y=\"105.0\" width=\"49.61453125\" height=\"40\" stroke=\"black\" fill=\"white\" stroke-width=\"1\" /><text x=\"99.300859375\" y=\"125.0\" dominant-baseline=\"middle\" text-anchor=\"middle\" font-size=\"14px\" font-family=\"Arial\">Ry(x2)</text><rect x=\"74.49359375\" y=\"155.0\" width=\"49.61453125\" height=\"40\" stroke=\"black\" fill=\"white\" stroke-width=\"1\" /><text x=\"99.300859375\" y=\"175.0\" dominant-baseline=\"middle\" text-anchor=\"middle\" font-size=\"14px\" font-family=\"Arial\">Ry(x3)</text><circle cx=\"164.108125\" cy=\"25.0\" r=\"10.0\" /><circle cx=\"164.108125\" cy=\"75.0\" r=\"10.0\" /><circle cx=\"164.108125\" cy=\"125.0\" r=\"10.0\" /><circle cx=\"164.108125\" cy=\"175.0\" r=\"10.0\" /><rect x=\"204.10812499999997\" y=\"5.0\" width=\"73.7522265625\" height=\"40\" stroke=\"black\" fill=\"white\" stroke-width=\"1\" /><text x=\"240.98423828125\" y=\"25.0\" dominant-baseline=\"middle\" text-anchor=\"middle\" font-size=\"14px\" font-family=\"Arial\">Ry(theta0)</text><rect x=\"204.10812499999997\" y=\"55.0\" width=\"73.7522265625\" height=\"40\" stroke=\"black\" fill=\"white\" stroke-width=\"1\" /><text x=\"240.98423828125\" y=\"75.0\" dominant-baseline=\"middle\" text-anchor=\"middle\" font-size=\"14px\" font-family=\"Arial\">Ry(theta1)</text><rect x=\"204.10812499999997\" y=\"105.0\" width=\"73.7522265625\" height=\"40\" stroke=\"black\" fill=\"white\" stroke-width=\"1\" /><text x=\"240.98423828125\" y=\"125.0\" dominant-baseline=\"middle\" text-anchor=\"middle\" font-size=\"14px\" font-family=\"Arial\">Ry(theta2)</text><rect x=\"204.10812499999997\" y=\"155.0\" width=\"73.7522265625\" height=\"40\" stroke=\"black\" fill=\"white\" stroke-width=\"1\" /><text x=\"240.98423828125\" y=\"175.0\" dominant-baseline=\"middle\" text-anchor=\"middle\" font-size=\"14px\" font-family=\"Arial\">Ry(theta3)</text><circle cx=\"317.8603515625\" cy=\"25.0\" r=\"10.0\" /><circle cx=\"317.8603515625\" cy=\"75.0\" r=\"10.0\" /><circle cx=\"317.8603515625\" cy=\"125.0\" r=\"10.0\" /><circle cx=\"317.8603515625\" cy=\"175.0\" r=\"10.0\" /><rect x=\"357.8603515625\" y=\"5.0\" width=\"73.7522265625\" height=\"40\" stroke=\"black\" fill=\"white\" stroke-width=\"1\" /><text x=\"394.73646484375\" y=\"25.0\" dominant-baseline=\"middle\" text-anchor=\"middle\" font-size=\"14px\" font-family=\"Arial\">Ry(theta4)</text><rect x=\"357.8603515625\" y=\"55.0\" width=\"73.7522265625\" height=\"40\" stroke=\"black\" fill=\"white\" stroke-width=\"1\" /><text x=\"394.73646484375\" y=\"75.0\" dominant-baseline=\"middle\" text-anchor=\"middle\" font-size=\"14px\" font-family=\"Arial\">Ry(theta5)</text><rect x=\"357.8603515625\" y=\"105.0\" width=\"73.7522265625\" height=\"40\" stroke=\"black\" fill=\"white\" stroke-width=\"1\" /><text x=\"394.73646484375\" y=\"125.0\" dominant-baseline=\"middle\" text-anchor=\"middle\" font-size=\"14px\" font-family=\"Arial\">Ry(theta6)</text><rect x=\"357.8603515625\" y=\"155.0\" width=\"73.7522265625\" height=\"40\" stroke=\"black\" fill=\"white\" stroke-width=\"1\" /><text x=\"394.73646484375\" y=\"175.0\" dominant-baseline=\"middle\" text-anchor=\"middle\" font-size=\"14px\" font-family=\"Arial\">Ry(theta7)</text><circle cx=\"471.612578125\" cy=\"75.0\" r=\"10.0\" /><circle cx=\"471.612578125\" cy=\"125.0\" r=\"10.0\" /><rect x=\"511.612578125\" y=\"55.0\" width=\"73.7522265625\" height=\"40\" stroke=\"black\" fill=\"white\" stroke-width=\"1\" /><text x=\"548.48869140625\" y=\"75.0\" dominant-baseline=\"middle\" text-anchor=\"middle\" font-size=\"14px\" font-family=\"Arial\">Ry(theta8)</text><rect x=\"511.612578125\" y=\"105.0\" width=\"73.7522265625\" height=\"40\" stroke=\"black\" fill=\"white\" stroke-width=\"1\" /><text x=\"548.48869140625\" y=\"125.0\" dominant-baseline=\"middle\" text-anchor=\"middle\" font-size=\"14px\" font-family=\"Arial\">Ry(theta9)</text><circle cx=\"625.3648046875\" cy=\"75.0\" r=\"10.0\" /><circle cx=\"625.3648046875\" cy=\"125.0\" r=\"10.0\" /><rect x=\"665.3648046875\" y=\"55.0\" width=\"81.538359375\" height=\"40\" stroke=\"black\" fill=\"white\" stroke-width=\"1\" /><text x=\"706.1339843750001\" y=\"75.0\" dominant-baseline=\"middle\" text-anchor=\"middle\" font-size=\"14px\" font-family=\"Arial\">Ry(theta10)</text><rect x=\"665.3648046875\" y=\"105.0\" width=\"81.538359375\" height=\"40\" stroke=\"black\" fill=\"white\" stroke-width=\"1\" /><text x=\"706.1339843750001\" y=\"125.0\" dominant-baseline=\"middle\" text-anchor=\"middle\" font-size=\"14px\" font-family=\"Arial\">Ry(theta11)</text></svg>"
      ],
      "text/plain": [
       "<cirq.contrib.svg.svg.SVGCircuit at 0x7fabb55c1550>"
      ]
     },
     "execution_count": 5,
     "metadata": {},
     "output_type": "execute_result"
    }
   ],
   "source": [
    "SVGCircuit(model.EdgeNet.model_circuit)"
   ]
  },
  {
   "cell_type": "code",
   "execution_count": 6,
   "metadata": {},
   "outputs": [
    {
     "data": {
      "image/svg+xml": [
       "<svg xmlns=\"http://www.w3.org/2000/svg\" width=\"796.9031640625001\" height=\"200.0\"><line x1=\"32.246796875\" x2=\"766.9031640625001\" y1=\"25.0\" y2=\"25.0\" stroke=\"#1967d2\" stroke-width=\"1\" /><line x1=\"32.246796875\" x2=\"766.9031640625001\" y1=\"75.0\" y2=\"75.0\" stroke=\"#1967d2\" stroke-width=\"1\" /><line x1=\"32.246796875\" x2=\"766.9031640625001\" y1=\"125.0\" y2=\"125.0\" stroke=\"#1967d2\" stroke-width=\"1\" /><line x1=\"32.246796875\" x2=\"766.9031640625001\" y1=\"175.0\" y2=\"175.0\" stroke=\"#1967d2\" stroke-width=\"1\" /><line x1=\"164.108125\" x2=\"164.108125\" y1=\"25.0\" y2=\"75.0\" stroke=\"black\" stroke-width=\"3\" /><line x1=\"164.108125\" x2=\"164.108125\" y1=\"125.0\" y2=\"175.0\" stroke=\"black\" stroke-width=\"3\" /><line x1=\"317.8603515625\" x2=\"317.8603515625\" y1=\"25.0\" y2=\"75.0\" stroke=\"black\" stroke-width=\"3\" /><line x1=\"317.8603515625\" x2=\"317.8603515625\" y1=\"125.0\" y2=\"175.0\" stroke=\"black\" stroke-width=\"3\" /><line x1=\"471.612578125\" x2=\"471.612578125\" y1=\"75.0\" y2=\"125.0\" stroke=\"black\" stroke-width=\"3\" /><line x1=\"625.3648046875\" x2=\"625.3648046875\" y1=\"75.0\" y2=\"125.0\" stroke=\"black\" stroke-width=\"3\" /><rect x=\"10.0\" y=\"5.0\" width=\"44.49359375\" height=\"40\" stroke=\"black\" fill=\"white\" stroke-width=\"0\" /><text x=\"32.246796875\" y=\"25.0\" dominant-baseline=\"middle\" text-anchor=\"middle\" font-size=\"14px\" font-family=\"Arial\">(0, 0): </text><rect x=\"10.0\" y=\"55.0\" width=\"44.49359375\" height=\"40\" stroke=\"black\" fill=\"white\" stroke-width=\"0\" /><text x=\"32.246796875\" y=\"75.0\" dominant-baseline=\"middle\" text-anchor=\"middle\" font-size=\"14px\" font-family=\"Arial\">(1, 0): </text><rect x=\"10.0\" y=\"105.0\" width=\"44.49359375\" height=\"40\" stroke=\"black\" fill=\"white\" stroke-width=\"0\" /><text x=\"32.246796875\" y=\"125.0\" dominant-baseline=\"middle\" text-anchor=\"middle\" font-size=\"14px\" font-family=\"Arial\">(2, 0): </text><rect x=\"10.0\" y=\"155.0\" width=\"44.49359375\" height=\"40\" stroke=\"black\" fill=\"white\" stroke-width=\"0\" /><text x=\"32.246796875\" y=\"175.0\" dominant-baseline=\"middle\" text-anchor=\"middle\" font-size=\"14px\" font-family=\"Arial\">(3, 0): </text><rect x=\"74.49359375\" y=\"5.0\" width=\"49.61453125\" height=\"40\" stroke=\"black\" fill=\"white\" stroke-width=\"1\" /><text x=\"99.300859375\" y=\"25.0\" dominant-baseline=\"middle\" text-anchor=\"middle\" font-size=\"14px\" font-family=\"Arial\">Ry(x0)</text><rect x=\"74.49359375\" y=\"55.0\" width=\"49.61453125\" height=\"40\" stroke=\"black\" fill=\"white\" stroke-width=\"1\" /><text x=\"99.300859375\" y=\"75.0\" dominant-baseline=\"middle\" text-anchor=\"middle\" font-size=\"14px\" font-family=\"Arial\">Ry(x1)</text><rect x=\"74.49359375\" y=\"105.0\" width=\"49.61453125\" height=\"40\" stroke=\"black\" fill=\"white\" stroke-width=\"1\" /><text x=\"99.300859375\" y=\"125.0\" dominant-baseline=\"middle\" text-anchor=\"middle\" font-size=\"14px\" font-family=\"Arial\">Ry(x2)</text><rect x=\"74.49359375\" y=\"155.0\" width=\"49.61453125\" height=\"40\" stroke=\"black\" fill=\"white\" stroke-width=\"1\" /><text x=\"99.300859375\" y=\"175.0\" dominant-baseline=\"middle\" text-anchor=\"middle\" font-size=\"14px\" font-family=\"Arial\">Ry(x3)</text><circle cx=\"164.108125\" cy=\"25.0\" r=\"10.0\" /><circle cx=\"164.108125\" cy=\"75.0\" r=\"10.0\" /><circle cx=\"164.108125\" cy=\"125.0\" r=\"10.0\" /><circle cx=\"164.108125\" cy=\"175.0\" r=\"10.0\" /><rect x=\"204.10812499999997\" y=\"5.0\" width=\"73.7522265625\" height=\"40\" stroke=\"black\" fill=\"white\" stroke-width=\"1\" /><text x=\"240.98423828125\" y=\"25.0\" dominant-baseline=\"middle\" text-anchor=\"middle\" font-size=\"14px\" font-family=\"Arial\">Ry(theta0)</text><rect x=\"204.10812499999997\" y=\"55.0\" width=\"73.7522265625\" height=\"40\" stroke=\"black\" fill=\"white\" stroke-width=\"1\" /><text x=\"240.98423828125\" y=\"75.0\" dominant-baseline=\"middle\" text-anchor=\"middle\" font-size=\"14px\" font-family=\"Arial\">Ry(theta1)</text><rect x=\"204.10812499999997\" y=\"105.0\" width=\"73.7522265625\" height=\"40\" stroke=\"black\" fill=\"white\" stroke-width=\"1\" /><text x=\"240.98423828125\" y=\"125.0\" dominant-baseline=\"middle\" text-anchor=\"middle\" font-size=\"14px\" font-family=\"Arial\">Ry(theta2)</text><rect x=\"204.10812499999997\" y=\"155.0\" width=\"73.7522265625\" height=\"40\" stroke=\"black\" fill=\"white\" stroke-width=\"1\" /><text x=\"240.98423828125\" y=\"175.0\" dominant-baseline=\"middle\" text-anchor=\"middle\" font-size=\"14px\" font-family=\"Arial\">Ry(theta3)</text><circle cx=\"317.8603515625\" cy=\"25.0\" r=\"10.0\" /><circle cx=\"317.8603515625\" cy=\"75.0\" r=\"10.0\" /><circle cx=\"317.8603515625\" cy=\"125.0\" r=\"10.0\" /><circle cx=\"317.8603515625\" cy=\"175.0\" r=\"10.0\" /><rect x=\"357.8603515625\" y=\"5.0\" width=\"73.7522265625\" height=\"40\" stroke=\"black\" fill=\"white\" stroke-width=\"1\" /><text x=\"394.73646484375\" y=\"25.0\" dominant-baseline=\"middle\" text-anchor=\"middle\" font-size=\"14px\" font-family=\"Arial\">Ry(theta4)</text><rect x=\"357.8603515625\" y=\"55.0\" width=\"73.7522265625\" height=\"40\" stroke=\"black\" fill=\"white\" stroke-width=\"1\" /><text x=\"394.73646484375\" y=\"75.0\" dominant-baseline=\"middle\" text-anchor=\"middle\" font-size=\"14px\" font-family=\"Arial\">Ry(theta5)</text><rect x=\"357.8603515625\" y=\"105.0\" width=\"73.7522265625\" height=\"40\" stroke=\"black\" fill=\"white\" stroke-width=\"1\" /><text x=\"394.73646484375\" y=\"125.0\" dominant-baseline=\"middle\" text-anchor=\"middle\" font-size=\"14px\" font-family=\"Arial\">Ry(theta6)</text><rect x=\"357.8603515625\" y=\"155.0\" width=\"73.7522265625\" height=\"40\" stroke=\"black\" fill=\"white\" stroke-width=\"1\" /><text x=\"394.73646484375\" y=\"175.0\" dominant-baseline=\"middle\" text-anchor=\"middle\" font-size=\"14px\" font-family=\"Arial\">Ry(theta7)</text><circle cx=\"471.612578125\" cy=\"75.0\" r=\"10.0\" /><circle cx=\"471.612578125\" cy=\"125.0\" r=\"10.0\" /><rect x=\"511.612578125\" y=\"55.0\" width=\"73.7522265625\" height=\"40\" stroke=\"black\" fill=\"white\" stroke-width=\"1\" /><text x=\"548.48869140625\" y=\"75.0\" dominant-baseline=\"middle\" text-anchor=\"middle\" font-size=\"14px\" font-family=\"Arial\">Ry(theta8)</text><rect x=\"511.612578125\" y=\"105.0\" width=\"73.7522265625\" height=\"40\" stroke=\"black\" fill=\"white\" stroke-width=\"1\" /><text x=\"548.48869140625\" y=\"125.0\" dominant-baseline=\"middle\" text-anchor=\"middle\" font-size=\"14px\" font-family=\"Arial\">Ry(theta9)</text><circle cx=\"625.3648046875\" cy=\"75.0\" r=\"10.0\" /><circle cx=\"625.3648046875\" cy=\"125.0\" r=\"10.0\" /><rect x=\"665.3648046875\" y=\"55.0\" width=\"81.538359375\" height=\"40\" stroke=\"black\" fill=\"white\" stroke-width=\"1\" /><text x=\"706.1339843750001\" y=\"75.0\" dominant-baseline=\"middle\" text-anchor=\"middle\" font-size=\"14px\" font-family=\"Arial\">Ry(theta10)</text><rect x=\"665.3648046875\" y=\"105.0\" width=\"81.538359375\" height=\"40\" stroke=\"black\" fill=\"white\" stroke-width=\"1\" /><text x=\"706.1339843750001\" y=\"125.0\" dominant-baseline=\"middle\" text-anchor=\"middle\" font-size=\"14px\" font-family=\"Arial\">Ry(theta11)</text></svg>"
      ],
      "text/plain": [
       "<cirq.contrib.svg.svg.SVGCircuit at 0x7fabb572c760>"
      ]
     },
     "execution_count": 6,
     "metadata": {},
     "output_type": "execute_result"
    }
   ],
   "source": [
    "SVGCircuit(model.EdgeNet.model_circuit)"
   ]
  },
  {
   "cell_type": "code",
   "execution_count": 7,
   "metadata": {},
   "outputs": [],
   "source": [
    "params = sympy.symbols('theta{}:{}'.format(0, 12*n_layers))"
   ]
  },
  {
   "cell_type": "code",
   "execution_count": 8,
   "metadata": {},
   "outputs": [
    {
     "data": {
      "text/plain": [
       "(theta0,\n",
       " theta1,\n",
       " theta2,\n",
       " theta3,\n",
       " theta4,\n",
       " theta5,\n",
       " theta6,\n",
       " theta7,\n",
       " theta8,\n",
       " theta9,\n",
       " theta10,\n",
       " theta11)"
      ]
     },
     "execution_count": 8,
     "metadata": {},
     "output_type": "execute_result"
    }
   ],
   "source": [
    "params"
   ]
  },
  {
   "cell_type": "code",
   "execution_count": 9,
   "metadata": {},
   "outputs": [],
   "source": [
    "X_test, Ri_test, Ro_test, y_test = load_graph('/Users/lucascurtin/Desktop/edge_data/graphs_marcin/graph0001.npz')"
   ]
  },
  {
   "cell_type": "code",
   "execution_count": 10,
   "metadata": {},
   "outputs": [
    {
     "name": "stdout",
     "output_type": "stream",
     "text": [
      "<tf.Variable 'Variable:0' shape=(1, 32) dtype=float32, numpy=\n",
      "array([[6.0297017 , 2.362442  , 2.8793457 , 4.699957  , 2.2085376 ,\n",
      "        5.311719  , 6.2804074 , 5.754873  , 3.1368299 , 3.533244  ,\n",
      "        5.918207  , 3.0853426 , 0.05643222, 4.3602214 , 5.981696  ,\n",
      "        2.9130507 , 5.3886857 , 2.2055604 , 3.655895  , 4.4952183 ,\n",
      "        1.7880082 , 5.045287  , 0.0275038 , 2.1363058 , 2.6386178 ,\n",
      "        0.965781  , 2.7404516 , 1.8858384 , 0.72466815, 2.4295664 ,\n",
      "        3.5136685 , 5.0960913 ]], dtype=float32)>\n"
     ]
    }
   ],
   "source": [
    "initial_params=model.EdgeNet.params\n",
    "print(initial_params)"
   ]
  },
  {
   "cell_type": "code",
   "execution_count": 11,
   "metadata": {},
   "outputs": [
    {
     "data": {
      "text/plain": [
       "<tf.Tensor: shape=(10673, 1), dtype=float32, numpy=\n",
       "array([[0.30787465],\n",
       "       [0.31193283],\n",
       "       [0.31038457],\n",
       "       ...,\n",
       "       [0.61117625],\n",
       "       [0.61546767],\n",
       "       [0.6232246 ]], dtype=float32)>"
      ]
     },
     "execution_count": 11,
     "metadata": {},
     "output_type": "execute_result"
    }
   ],
   "source": [
    "model([map2angle(X_test), Ri_test, Ro_test])"
   ]
  },
  {
   "cell_type": "code",
   "execution_count": 12,
   "metadata": {},
   "outputs": [
    {
     "data": {
      "text/plain": [
       "<tf.Variable 'Variable:0' shape=(1, 32) dtype=float32, numpy=\n",
       "array([[6.0297017 , 2.362442  , 2.8793457 , 4.699957  , 2.2085376 ,\n",
       "        5.311719  , 6.2804074 , 5.754873  , 3.1368299 , 3.533244  ,\n",
       "        5.918207  , 3.0853426 , 0.05643222, 4.3602214 , 5.981696  ,\n",
       "        2.9130507 , 5.3886857 , 2.2055604 , 3.655895  , 4.4952183 ,\n",
       "        1.7880082 , 5.045287  , 0.0275038 , 2.1363058 , 2.6386178 ,\n",
       "        0.965781  , 2.7404516 , 1.8858384 , 0.72466815, 2.4295664 ,\n",
       "        3.5136685 , 5.0960913 ]], dtype=float32)>"
      ]
     },
     "execution_count": 12,
     "metadata": {},
     "output_type": "execute_result"
    }
   ],
   "source": [
    "model.EdgeNet.params"
   ]
  },
  {
   "cell_type": "code",
   "execution_count": 13,
   "metadata": {},
   "outputs": [
    {
     "data": {
      "text/plain": [
       "[<tf.Variable 'GNN/InputNet/kernel:0' shape=(3, 4) dtype=float32, numpy=\n",
       " array([[-0.06656504, -0.05094004, -0.68110436,  0.16354024],\n",
       "        [-0.4336069 ,  0.48949575, -0.80064017,  0.18138242],\n",
       "        [ 0.8300499 , -0.00589222,  0.79960775, -0.14507747]],\n",
       "       dtype=float32)>,\n",
       " <tf.Variable 'GNN/InputNet/bias:0' shape=(4,) dtype=float32, numpy=array([0., 0., 0., 0.], dtype=float32)>,\n",
       " <tf.Variable 'Variable:0' shape=(1, 32) dtype=float32, numpy=\n",
       " array([[6.0297017 , 2.362442  , 2.8793457 , 4.699957  , 2.2085376 ,\n",
       "         5.311719  , 6.2804074 , 5.754873  , 3.1368299 , 3.533244  ,\n",
       "         5.918207  , 3.0853426 , 0.05643222, 4.3602214 , 5.981696  ,\n",
       "         2.9130507 , 5.3886857 , 2.2055604 , 3.655895  , 4.4952183 ,\n",
       "         1.7880082 , 5.045287  , 0.0275038 , 2.1363058 , 2.6386178 ,\n",
       "         0.965781  , 2.7404516 , 1.8858384 , 0.72466815, 2.4295664 ,\n",
       "         3.5136685 , 5.0960913 ]], dtype=float32)>,\n",
       " <tf.Variable 'dense_2/kernel:0' shape=(14, 4) dtype=float32, numpy=\n",
       " array([[ 0.07340944, -0.52580506,  0.1509459 ,  0.12423724],\n",
       "        [ 0.03803092, -0.5297303 ,  0.05324137, -0.23572546],\n",
       "        [ 0.230596  , -0.29056948, -0.32089925,  0.51805437],\n",
       "        [-0.5483966 , -0.26954618,  0.52564394, -0.12715253],\n",
       "        [ 0.3902244 , -0.15561229,  0.42010874, -0.54465234],\n",
       "        [-0.3598619 , -0.57277596,  0.36893904, -0.5369438 ],\n",
       "        [ 0.13011217, -0.5715886 ,  0.2700405 ,  0.5094466 ],\n",
       "        [ 0.01989895,  0.5155349 , -0.01704311, -0.4655797 ],\n",
       "        [ 0.43143702,  0.05882585,  0.5168617 ,  0.24977052],\n",
       "        [ 0.40684003, -0.12330654,  0.30236673,  0.46409786],\n",
       "        [-0.22461304, -0.22865927, -0.3032992 ,  0.05176997],\n",
       "        [ 0.31640685, -0.5687714 ,  0.49007583,  0.21809071],\n",
       "        [-0.308354  ,  0.45366335,  0.5681007 , -0.09115952],\n",
       "        [-0.11365998, -0.11410707, -0.44555682,  0.32195145]],\n",
       "       dtype=float32)>,\n",
       " <tf.Variable 'dense_2/bias:0' shape=(4,) dtype=float32, numpy=array([0., 0., 0., 0.], dtype=float32)>,\n",
       " <tf.Variable 'GNN/EdgeNet/dense_3/kernel:0' shape=(4, 1) dtype=float32, numpy=\n",
       " array([[ 0.7839515 ],\n",
       "        [ 1.0251551 ],\n",
       "        [ 0.53945196],\n",
       "        [-0.09442472]], dtype=float32)>,\n",
       " <tf.Variable 'GNN/EdgeNet/dense_3/bias:0' shape=(1,) dtype=float32, numpy=array([0.], dtype=float32)>,\n",
       " <tf.Variable 'Variable:0' shape=(1, 32) dtype=float32, numpy=\n",
       " array([[5.021775  , 6.162736  , 4.650093  , 5.488971  , 3.534327  ,\n",
       "         3.8306663 , 2.5978758 , 5.4336762 , 1.7719524 , 0.68465203,\n",
       "         3.4887555 , 3.2895973 , 0.0366178 , 5.693796  , 1.2201567 ,\n",
       "         4.276556  , 0.252226  , 3.1263278 , 1.5999068 , 3.5296824 ,\n",
       "         1.7536495 , 1.6925786 , 2.9908087 , 2.9271815 , 1.9805872 ,\n",
       "         4.9358153 , 4.7156405 , 2.2015972 , 1.6162428 , 2.293245  ,\n",
       "         4.8643417 , 2.4050999 ]], dtype=float32)>,\n",
       " <tf.Variable 'dense_4/kernel:0' shape=(21, 4) dtype=float32, numpy=\n",
       " array([[ 0.35143062,  0.37139127, -0.01023281, -0.2668537 ],\n",
       "        [ 0.48930714, -0.04765692, -0.43544215, -0.05251375],\n",
       "        [ 0.17481759,  0.27757308,  0.12888113,  0.4197552 ],\n",
       "        [ 0.41302142,  0.04638407,  0.30891386,  0.39782843],\n",
       "        [-0.05743504, -0.41704264, -0.44917476,  0.28034428],\n",
       "        [ 0.4542326 ,  0.25258526,  0.06516328,  0.24236968],\n",
       "        [-0.06274712,  0.4052411 ,  0.26535442,  0.48640278],\n",
       "        [-0.46105304, -0.11934456,  0.03446099,  0.01649693],\n",
       "        [-0.26215395,  0.31458697, -0.35556465, -0.09518269],\n",
       "        [-0.48755023, -0.10514277,  0.40016213,  0.12609753],\n",
       "        [-0.16549009, -0.13873991,  0.3384321 ,  0.3463165 ],\n",
       "        [-0.25763983,  0.13930246,  0.39449307,  0.24853733],\n",
       "        [ 0.0748193 ,  0.22560242, -0.331888  ,  0.2887973 ],\n",
       "        [-0.357045  ,  0.3037217 ,  0.14115551, -0.32910383],\n",
       "        [-0.176644  ,  0.07521185, -0.09415507,  0.02654812],\n",
       "        [ 0.16043076, -0.13241142,  0.4251046 ,  0.28409848],\n",
       "        [-0.22028685,  0.40135416,  0.43153736, -0.22316119],\n",
       "        [ 0.0042164 ,  0.43903247,  0.38412103, -0.39579973],\n",
       "        [-0.41651714, -0.21156591,  0.46391502, -0.19122621],\n",
       "        [-0.4837159 ,  0.38164082,  0.13112065, -0.41904214],\n",
       "        [ 0.10881963,  0.26854387,  0.07425162,  0.41221598]],\n",
       "       dtype=float32)>,\n",
       " <tf.Variable 'dense_4/bias:0' shape=(4,) dtype=float32, numpy=array([0., 0., 0., 0.], dtype=float32)>,\n",
       " <tf.Variable 'dense_5/kernel:0' shape=(4, 4) dtype=float32, numpy=\n",
       " array([[-0.5713877 , -0.39796042, -0.58692646, -0.7045347 ],\n",
       "        [-0.1542446 , -0.11834574,  0.3296867 ,  0.8628023 ],\n",
       "        [-0.86163944,  0.80558807,  0.64991504, -0.67696166],\n",
       "        [-0.7651709 ,  0.11407149,  0.366463  ,  0.35537714]],\n",
       "       dtype=float32)>,\n",
       " <tf.Variable 'dense_5/bias:0' shape=(4,) dtype=float32, numpy=array([0., 0., 0., 0.], dtype=float32)>]"
      ]
     },
     "execution_count": 13,
     "metadata": {},
     "output_type": "execute_result"
    }
   ],
   "source": [
    "(model.trainable_variables)"
   ]
  },
  {
   "cell_type": "code",
   "execution_count": 14,
   "metadata": {},
   "outputs": [
    {
     "data": {
      "text/plain": [
       "<tf.Variable 'Variable:0' shape=(1, 32) dtype=float32, numpy=\n",
       "array([[6.0297017 , 2.362442  , 2.8793457 , 4.699957  , 2.2085376 ,\n",
       "        5.311719  , 6.2804074 , 5.754873  , 3.1368299 , 3.533244  ,\n",
       "        5.918207  , 3.0853426 , 0.05643222, 4.3602214 , 5.981696  ,\n",
       "        2.9130507 , 5.3886857 , 2.2055604 , 3.655895  , 4.4952183 ,\n",
       "        1.7880082 , 5.045287  , 0.0275038 , 2.1363058 , 2.6386178 ,\n",
       "        0.965781  , 2.7404516 , 1.8858384 , 0.72466815, 2.4295664 ,\n",
       "        3.5136685 , 5.0960913 ]], dtype=float32)>"
      ]
     },
     "execution_count": 14,
     "metadata": {},
     "output_type": "execute_result"
    }
   ],
   "source": [
    "model.EdgeNet.params"
   ]
  },
  {
   "cell_type": "code",
   "execution_count": 20,
   "metadata": {},
   "outputs": [
    {
     "data": {
      "text/plain": [
       "(6217, 10673)"
      ]
     },
     "execution_count": 20,
     "metadata": {},
     "output_type": "execute_result"
    }
   ],
   "source": [
    "np.shape(Ri_test)"
   ]
  },
  {
   "cell_type": "code",
   "execution_count": 21,
   "metadata": {},
   "outputs": [
    {
     "data": {
      "text/plain": [
       "159"
      ]
     },
     "execution_count": 21,
     "metadata": {},
     "output_type": "execute_result"
    }
   ],
   "source": [
    "len(dir(EdgeNet))"
   ]
  },
  {
   "cell_type": "code",
   "execution_count": 22,
   "metadata": {},
   "outputs": [],
   "source": [
    "InputNet =  tf.keras.layers.Dense(\n",
    "            GNN.config['hid_dim'], input_shape=(3,),\n",
    "            activation='relu',name='InputNet'\n",
    "        )"
   ]
  },
  {
   "cell_type": "code",
   "execution_count": 23,
   "metadata": {},
   "outputs": [],
   "source": [
    "\n",
    "# execute InputNet to produce hidden dimensions\n",
    "H = InputNet(X_test)\n",
    "# add new dimensions to original X matrix\n",
    "H = tf.concat([H,X_test],axis=1)\n"
   ]
  },
  {
   "cell_type": "code",
   "execution_count": 24,
   "metadata": {},
   "outputs": [],
   "source": [
    "bo = tf.matmul(Ro_test,H,transpose_a=True)\n",
    "bi = tf.matmul(Ri_test,H,transpose_a=True)\n",
    "\n",
    "# Shape of B = N_edges x 6 (2x (3 coordinates))\n",
    "# each row consists of two node that are possibly connected.\n",
    "B  = tf.concat([bo, bi], axis=1) # n_edges x 6, 3-> r,phi,z "
   ]
  },
  {
   "cell_type": "code",
   "execution_count": 25,
   "metadata": {},
   "outputs": [
    {
     "data": {
      "text/plain": [
       "<tf.Tensor: shape=(7,), dtype=float32, numpy=\n",
       "array([ 0.        ,  0.33198527,  0.0964465 ,  0.09474768,  0.03149671,\n",
       "       -0.41214406,  0.0447477 ], dtype=float32)>"
      ]
     },
     "execution_count": 25,
     "metadata": {},
     "output_type": "execute_result"
    }
   ],
   "source": [
    "bi[0]"
   ]
  },
  {
   "cell_type": "code",
   "execution_count": 26,
   "metadata": {},
   "outputs": [],
   "source": [
    "hid_dim=4\n",
    "layer = tf.keras.Sequential([\n",
    "            tf.keras.Input(shape=(hid_dim+3)*2,),\n",
    "            tf.keras.layers.Dense(hid_dim, activation='tanh'),\n",
    "            tf.keras.layers.Dense(1, activation='sigmoid'),\n",
    "        ])"
   ]
  },
  {
   "cell_type": "code",
   "execution_count": 27,
   "metadata": {},
   "outputs": [
    {
     "data": {
      "text/plain": [
       "TensorShape([10673, 14])"
      ]
     },
     "execution_count": 27,
     "metadata": {},
     "output_type": "execute_result"
    }
   ],
   "source": [
    "np.shape(B)"
   ]
  },
  {
   "cell_type": "code",
   "execution_count": 28,
   "metadata": {},
   "outputs": [],
   "source": [
    "e=layer(B)"
   ]
  },
  {
   "cell_type": "code",
   "execution_count": null,
   "metadata": {},
   "outputs": [],
   "source": [
    "e"
   ]
  },
  {
   "cell_type": "code",
   "execution_count": null,
   "metadata": {},
   "outputs": [],
   "source": [
    "Rwo = Ro_test * e[:,0]\n",
    "Rwi = Ri_test * e[:,0]"
   ]
  },
  {
   "cell_type": "code",
   "execution_count": null,
   "metadata": {},
   "outputs": [],
   "source": [
    "mi = tf.matmul(Rwi, bi)\n",
    "mo = tf.matmul(Rwo, bo)"
   ]
  },
  {
   "cell_type": "code",
   "execution_count": null,
   "metadata": {},
   "outputs": [],
   "source": [
    "M = tf.concat([mi, mo, X_test], axis=1)"
   ]
  },
  {
   "cell_type": "code",
   "execution_count": null,
   "metadata": {},
   "outputs": [],
   "source": [
    "np.shape(M)"
   ]
  },
  {
   "cell_type": "code",
   "execution_count": null,
   "metadata": {},
   "outputs": [],
   "source": [
    "hid_dim=4\n",
    "node_layer = tf.keras.Sequential([\n",
    "            tf.keras.Input(shape=(hid_dim+3)*3,),\n",
    "            tf.keras.layers.Dense(hid_dim, activation='tanh'),\n",
    "            tf.keras.layers.Dropout(.2, input_shape=(hid_dim,)),\n",
    "            tf.keras.layers.Dense(hid_dim, activation='sigmoid'),\n",
    "        ])"
   ]
  },
  {
   "cell_type": "code",
   "execution_count": null,
   "metadata": {},
   "outputs": [],
   "source": [
    "\n",
    "bo  = tf.matmul(Ro_test, H, transpose_a=True)\n",
    "bi  = tf.matmul(Ri_test, H, transpose_a=True) \n",
    "Rwo = Ro_test * e[:,0]\n",
    "Rwi = Ri_test * e[:,0]\n",
    "\n",
    "# changin the order to test something !!!!!!!!! DONT FORGET TO LOOK BACK!!!\n",
    "mi = tf.matmul(Rwi, bo)\n",
    "mo = tf.matmul(Rwo, bi)\n",
    "# Shape of M = N_nodes x 9 (3x (3 coordinates))\n",
    "# each row consists of a node and its 2 possible neigbours\n",
    "M = tf.concat([mi, mo, H], axis=1)\n",
    "\n",
    "node_layer(M)"
   ]
  },
  {
   "cell_type": "code",
   "execution_count": null,
   "metadata": {},
   "outputs": [],
   "source": [
    "H[0]"
   ]
  },
  {
   "cell_type": "code",
   "execution_count": null,
   "metadata": {},
   "outputs": [],
   "source": [
    "M[0]"
   ]
  },
  {
   "cell_type": "code",
   "execution_count": null,
   "metadata": {},
   "outputs": [],
   "source": [
    "-0.808/-0.136"
   ]
  },
  {
   "cell_type": "code",
   "execution_count": null,
   "metadata": {},
   "outputs": [],
   "source": [
    "np.shape(mo)"
   ]
  },
  {
   "cell_type": "code",
   "execution_count": null,
   "metadata": {},
   "outputs": [],
   "source": [
    "np.shape(M)"
   ]
  },
  {
   "cell_type": "code",
   "execution_count": null,
   "metadata": {},
   "outputs": [],
   "source": [
    "EdgeNet  = EdgeNet(name='EdgeNet')"
   ]
  },
  {
   "cell_type": "code",
   "execution_count": null,
   "metadata": {},
   "outputs": [],
   "source": [
    "initial_params=EdgeNet.params"
   ]
  },
  {
   "cell_type": "code",
   "execution_count": null,
   "metadata": {},
   "outputs": [],
   "source": [
    "Trained_EdgeNet=EdgeNet(H, Ri_test, Ro_test)"
   ]
  },
  {
   "cell_type": "code",
   "execution_count": null,
   "metadata": {},
   "outputs": [],
   "source": [
    "Trained_EdgeNet"
   ]
  },
  {
   "cell_type": "code",
   "execution_count": null,
   "metadata": {},
   "outputs": [],
   "source": [
    "initial_params"
   ]
  },
  {
   "cell_type": "code",
   "execution_count": null,
   "metadata": {},
   "outputs": [],
   "source": [
    "model_test=GNN()"
   ]
  },
  {
   "cell_type": "code",
   "execution_count": null,
   "metadata": {},
   "outputs": [],
   "source": [
    "circuit= cirq.Circuit()\n",
    "qubits  = cirq.GridQubit.rect(n_qubits, 1)\n",
    "n_layers=1\n",
    "n_qubits=4\n",
    "symbol_offset=0\n",
    "params = sympy.symbols('theta{}:{}'.format(symbol_offset, symbol_offset + n_qubits*(1+n_layers)))"
   ]
  },
  {
   "cell_type": "code",
   "execution_count": null,
   "metadata": {},
   "outputs": [],
   "source": [
    "qc = QCircuit(IEC_id='simple_encoding_y',\n",
    "            PQC_id='10',\n",
    "            MC_id='measure_all',\n",
    "            n_layers=n_layers, \n",
    "            input_size=n_qubits,\n",
    "            p=0.01)\n",
    "qc_2= QCircuit(IEC_id='simple_encoding_y',\n",
    "            PQC_id='10nocz',\n",
    "            MC_id='measure_all',\n",
    "            n_layers=n_layers, \n",
    "            input_size=n_qubits,\n",
    "            p=0.01)"
   ]
  },
  {
   "cell_type": "code",
   "execution_count": null,
   "metadata": {},
   "outputs": [],
   "source": [
    "(qc.model_circuit())"
   ]
  },
  {
   "cell_type": "code",
   "execution_count": null,
   "metadata": {},
   "outputs": [],
   "source": [
    "qc_2.model_circuit()"
   ]
  },
  {
   "cell_type": "code",
   "execution_count": null,
   "metadata": {},
   "outputs": [],
   "source": [
    "model_test.EdgeNet.model_circuit=qc_2.model_circuit()[0]"
   ]
  },
  {
   "cell_type": "code",
   "execution_count": null,
   "metadata": {},
   "outputs": [],
   "source": [
    "model_test(X_test,Ri_test,Ro_test,y_test)"
   ]
  },
  {
   "cell_type": "code",
   "execution_count": null,
   "metadata": {},
   "outputs": [],
   "source": [
    "train_files=os.listdir('/Users/lucascurtin/Desktop/edge_data/train_graphs')\n",
    "valid_files=os.listdir('/Users/lucascurtin/Desktop/edge_data/valid_graphs')"
   ]
  },
  {
   "cell_type": "code",
   "execution_count": null,
   "metadata": {},
   "outputs": [],
   "source": [
    "\n",
    "fake_edges=0\n",
    "true_edges=0\n",
    "all_edges=0\n",
    "for i in range(len(train_files)):\n",
    "    if train_files[i]!='.DS_Store':\n",
    "        dir='/Users/lucascurtin/Desktop/edge_data/train_graphs/{}'.format(train_files[i])\n",
    "        X_f, Ri_f, Ro_f, y_f = load_graph(dir)\n",
    "        fake_edges+=y_f.tolist().count(0)\n",
    "        true_edges+=y_f.tolist().count(1)\n",
    "        all_edges+=len(y_f)\n",
    "        print(i)\n",
    "    \n",
    "for i in range(len(valid_files)):\n",
    "    if valid_files[i]!='.DS_Store':\n",
    "        dir='/Users/lucascurtin/Desktop/edge_data/valid_graphs/{}'.format(valid_files[i])\n",
    "        X_f, Ri_f, Ro_f, y_f = load_graph(dir)\n",
    "        fake_edges+=y_f.tolist().count(0)\n",
    "        true_edges+=y_f.tolist().count(1)\n",
    "        all_edges+=len(y_f)\n",
    "        print(i)\n"
   ]
  },
  {
   "cell_type": "code",
   "execution_count": null,
   "metadata": {},
   "outputs": [],
   "source": [
    "y_f.tolist().count(0)"
   ]
  },
  {
   "cell_type": "code",
   "execution_count": null,
   "metadata": {},
   "outputs": [],
   "source": [
    "train_files[16]"
   ]
  },
  {
   "cell_type": "code",
   "execution_count": null,
   "metadata": {},
   "outputs": [],
   "source": [
    "fake_edges,true_edges,all_edges"
   ]
  },
  {
   "cell_type": "code",
   "execution_count": 12,
   "metadata": {},
   "outputs": [],
   "source": [
    "class Rescale01(tf.keras.layers.Layer):\n",
    "    def __init__(self, name='Rescale01'):\n",
    "        super(Rescale01, self).__init__(name=name)\n",
    "\n",
    "    def call(self, X):\n",
    "        X = tf.divide(\n",
    "                tf.subtract(\n",
    "                    X, \n",
    "                    tf.reduce_min(X)\n",
    "                ), \n",
    "                tf.subtract(\n",
    "                    tf.reduce_max(X), \n",
    "                    tf.reduce_min(X)\n",
    "                ),\n",
    "            lambda: X\n",
    "        )\n",
    "        return X"
   ]
  },
  {
   "cell_type": "code",
   "execution_count": 13,
   "metadata": {},
   "outputs": [],
   "source": [
    "input_layer = tf.keras.Sequential([\n",
    "            tf.keras.layers.Dense(\n",
    "                4, \n",
    "                activation='relu'),\n",
    "            Rescale01()\n",
    "        ])"
   ]
  },
  {
   "cell_type": "code",
   "execution_count": 1,
   "metadata": {},
   "outputs": [],
   "source": [
    "def LVQE(circuit, qubits, n_layers=1, n_qubits=4, symbol_offset=0):\n",
    "    params = sympy.symbols('theta{}:{}'.format(symbol_offset, symbol_offset + n_qubits*(1+n_layers)))\n",
    "    for i, qubit in enumerate(qubits):\n",
    "        #symbol = sympy.Symbol('theta_{}'.format(i+1))\n",
    "        circuit.append(cirq.ry(params[i])(qubit))\n",
    "    for layer in range(n_layers):\n",
    "        for i in range(n_qubits):\n",
    "\n",
    "            circuit.append(cirq.CZ(qubits[(n_qubits-2-i)%n_qubits], qubits[(n_qubits-1-i)%n_qubits]))\n",
    "            \n",
    "        for i, qubit in enumerate(qubits):\n",
    "            #symbol = sympy.Symbol('theta_{}'.format(i+1+n_qubits*(layer+1)))\n",
    "            circuit.append(cirq.ry(params[i+n_qubits*(layer+1)])(qubit))\n",
    "\n",
    "    return params"
   ]
  },
  {
   "cell_type": "code",
   "execution_count": null,
   "metadata": {},
   "outputs": [],
   "source": []
  }
 ],
 "metadata": {
  "kernelspec": {
   "display_name": "qtrkx",
   "language": "python",
   "name": "python3"
  },
  "language_info": {
   "codemirror_mode": {
    "name": "ipython",
    "version": 3
   },
   "file_extension": ".py",
   "mimetype": "text/x-python",
   "name": "python",
   "nbconvert_exporter": "python",
   "pygments_lexer": "ipython3",
   "version": "3.8.5"
  },
  "orig_nbformat": 4,
  "vscode": {
   "interpreter": {
    "hash": "1a1f025ae0fd6678ab5af02de2366f5b3f871a900d87aa48ee8f6eb90e420573"
   }
  }
 },
 "nbformat": 4,
 "nbformat_minor": 2
}
