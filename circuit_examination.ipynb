{
 "cells": [
  {
   "cell_type": "code",
   "execution_count": 1,
   "metadata": {},
   "outputs": [
    {
     "name": "stderr",
     "output_type": "stream",
     "text": [
      "2023-04-02 12:34:51.604915: I tensorflow/core/platform/cpu_feature_guard.cc:142] This TensorFlow binary is optimized with oneAPI Deep Neural Network Library (oneDNN)to use the following CPU instructions in performance-critical operations:  AVX2 FMA\n",
      "To enable them in other operations, rebuild TensorFlow with the appropriate compiler flags.\n",
      "2023-04-02 12:34:51.665394: I tensorflow/compiler/xla/service/service.cc:168] XLA service 0x7f90a7377540 initialized for platform Host (this does not guarantee that XLA will be used). Devices:\n",
      "2023-04-02 12:34:51.665414: I tensorflow/compiler/xla/service/service.cc:176]   StreamExecutor device (0): Host, Default Version\n"
     ]
    }
   ],
   "source": [
    "import tensorflow as tf\n",
    "import tensorflow_quantum as tfq\n",
    "import numpy as np\n",
    "import cirq\n",
    "from qcircuits.QCircuit import QCircuit\n",
    "import sys,yaml\n",
    "from tools.tools import *\n",
    "from test import test\n",
    "import cirq\n",
    "from cirq.contrib.svg import SVGCircuit\n",
    "import sympy\n",
    "\n",
    "sys.path.insert(0, '/Users/lucascurtin/Desktop/QGNN Repos/qtrkx-gnn-tracking')\n",
    "\n",
    "###############################################################################\n",
    "class Rescale01(tf.keras.layers.Layer):\n",
    "    def __init__(self, name='Rescale01'):\n",
    "        super(Rescale01, self).__init__(name=name)\n",
    "\n",
    "    def call(self, X):\n",
    "        X = tf.divide(\n",
    "                tf.subtract(\n",
    "                    X, \n",
    "                    tf.reduce_min(X)\n",
    "                ), \n",
    "                tf.subtract(\n",
    "                    tf.reduce_max(X), \n",
    "                    tf.reduce_min(X)\n",
    "                ),\n",
    "            lambda: X\n",
    "        )\n",
    "        return X\n",
    "###############################################################################\n",
    "class EdgeNet(tf.keras.layers.Layer):\n",
    "    def __init__(self, name='EdgeNet'):\n",
    "        super(EdgeNet, self).__init__(name=name)\n",
    "\n",
    "        self.n_layers = GNN.config['EN_qc']['n_layers']\n",
    "        self.n_qubits = GNN.config['EN_qc']['n_qubits']\n",
    "\n",
    "        if 'dp_noise' in GNN.config['EN_qc'].keys():\n",
    "            dp_noise = GNN.config['EN_qc']['dp_noise']\n",
    "        else:\n",
    "            # set noise to None if not specified \n",
    "            dp_noise = None\n",
    "                \n",
    "        # Read the Quantum Circuit with specified configuration\n",
    "        qc = QCircuit(IEC_id=GNN.config['EN_qc']['IEC_id'],\n",
    "            PQC_id=GNN.config['EN_qc']['PQC_id'],\n",
    "            MC_id=GNN.config['EN_qc']['MC_id'],\n",
    "            n_layers=self.n_layers, \n",
    "            input_size=self.n_qubits,\n",
    "            p=0.01)\n",
    "        \n",
    "        self.model_circuit, self.qubits = qc.model_circuit()\n",
    "        self.measurement_operators = qc.measurement_operators()\n",
    "\n",
    "        # Prepare symbol list for inputs and parameters of the Quantum Circuits\n",
    "        self.symbol_names = ['x{}'.format(i) for i in range(qc.n_inputs)]\n",
    "        for i in range(qc.n_params):\n",
    "            self.symbol_names.append('theta{}'.format(i)) \n",
    "\n",
    "        # Classical input layer of the Node Network\n",
    "        # takes input data and feeds it to the PQC layer\n",
    "        self.input_layer = tf.keras.Sequential([\n",
    "            tf.keras.layers.Dense(\n",
    "                self.n_qubits, \n",
    "                activation='relu'),\n",
    "            Rescale01()\n",
    "        ])\n",
    "        \n",
    "        # Prepare PQC layer\n",
    "        if (dp_noise!=None):\n",
    "            # Noisy simulation requires density matrix simulator\n",
    "            self.exp_layer = tfq.layers.SampledExpectation(\n",
    "                cirq.DensityMatrixSimulator(noise=cirq.depolarize(dp_noise))\n",
    "            )\n",
    "        elif dp_noise==None and GNN.config['EN_qc']['repetitions']!=0:\n",
    "            # Use default simulator for noiseless execution\n",
    "            self.exp_layer = tfq.layers.SampledExpectation()\n",
    "        elif dp_noise==None and GNN.config['EN_qc']['repetitions']==0:\n",
    "            # Use default simulator for noiseless execution\n",
    "            self.exp_layer = tfq.layers.Expectation()\n",
    "        else: \n",
    "            raise ValueError('Wrong PQC Specifications!')\n",
    "\n",
    "         # Classical readout layer\n",
    "        self.readout_layer = tf.keras.layers.Dense(1, activation='sigmoid')\n",
    "\n",
    "        # Initialize parameters of the PQC\n",
    "        self.params = tf.Variable(tf.random.uniform(\n",
    "            shape=(1,qc.n_params),\n",
    "            minval=0, maxval=1)*2*np.pi\n",
    "        ) \n",
    "\n",
    "    def call(self,X, Ri, Ro):\n",
    "        '''forward pass of the edge network. '''\n",
    "\n",
    "        # Constrcu the B matrix\n",
    "        bo = tf.matmul(Ro,X,transpose_a=True)\n",
    "        bi = tf.matmul(Ri,X,transpose_a=True)\n",
    "        # Shape of B = N_edges x 6 (2x (3 + Hidden Dimension Size))\n",
    "        # each row consists of two node that are connected in the input graph.\n",
    "        B  = tf.concat([bo, bi], axis=1) # n_edges x 6, 3-> r,phi,z \n",
    "\n",
    "        # Scale the output to be [0,PI]\n",
    "        # this value is a preference and can be changed \n",
    "        # to do: add the scaling as a configuration input\n",
    "        input_to_circuit = self.input_layer(B) * np.pi\n",
    "\n",
    "        # Combine input data with parameters in a single circuit_data matrix\n",
    "        circuit_data = tf.concat(\n",
    "            [\n",
    "                input_to_circuit, \n",
    "                tf.repeat(self.params,repeats=input_to_circuit.shape[0],axis=0)\n",
    "            ],\n",
    "            axis=1\n",
    "        )        \n",
    "          \n",
    "        # Get expectation values for all edges\n",
    "        if GNN.config['EN_qc']['repetitions']==0:\n",
    "            exps = self.exp_layer(\n",
    "                self.model_circuit,\n",
    "                operators=self.measurement_operators,\n",
    "                symbol_names=self.symbol_names,\n",
    "                symbol_values=circuit_data\n",
    "            )\n",
    "        else:\n",
    "            exps = self.exp_layer(\n",
    "                self.model_circuit,\n",
    "                operators=self.measurement_operators,\n",
    "                symbol_names=self.symbol_names,\n",
    "                symbol_values=circuit_data,\n",
    "                repetitions=GNN.config['EN_qc']['repetitions']\n",
    "            )\n",
    "    \n",
    "        # Return the output of the final layer\n",
    "        return self.readout_layer(exps)\n",
    "\n",
    "class NodeNet(tf.keras.layers.Layer):\n",
    "    def __init__(self, name='NodeNet'):\n",
    "        super(NodeNet, self).__init__(name=name)\n",
    "        \n",
    "        self.n_layers = GNN.config['NN_qc']['n_layers']\n",
    "        self.n_qubits = GNN.config['NN_qc']['n_qubits']\n",
    "\n",
    "        if 'dp_noise' in GNN.config['EN_qc'].keys():\n",
    "            dp_noise = GNN.config['EN_qc']['dp_noise']\n",
    "        else:\n",
    "            # set noise to None if not specified \n",
    "            dp_noise = None\n",
    "        \n",
    "        # Read the Quantum Circuit with specified configuration\n",
    "        qc = QCircuit(\n",
    "            IEC_id=GNN.config['NN_qc']['IEC_id'],\n",
    "            PQC_id=GNN.config['NN_qc']['PQC_id'],\n",
    "            MC_id=GNN.config['NN_qc']['MC_id'],\n",
    "            n_layers=self.n_layers, \n",
    "            input_size=self.n_qubits,\n",
    "            p=0.01\n",
    "        )\n",
    "        self.model_circuit, self.qubits = qc.model_circuit()\n",
    "        self.measurement_operators = qc.measurement_operators()\n",
    "\n",
    "        # Prepare symbol list for inputs and parameters of the Quantum Circuits\n",
    "        self.symbol_names = ['x{}'.format(i) for i in range(qc.n_inputs)]\n",
    "        for i in range(qc.n_params):\n",
    "            self.symbol_names.append('theta{}'.format(i)) \n",
    "\n",
    "        # Classical input layer of the Node Network\n",
    "        # takes input data and feeds it to the PQC layer\n",
    "        self.input_layer = tf.keras.Sequential([\n",
    "            tf.keras.layers.Dense(\n",
    "                self.n_qubits, \n",
    "                activation='relu'),\n",
    "            Rescale01()\n",
    "        ])\n",
    "\n",
    "        # Prepare PQC layer\n",
    "        if (dp_noise!=None):\n",
    "            # Noisy simulation requires density matrix simulator\n",
    "            self.exp_layer = tfq.layers.SampledExpectation(\n",
    "                cirq.DensityMatrixSimulator(noise=cirq.depolarize(dp_noise))\n",
    "            )\n",
    "        elif dp_noise==None and  GNN.config['EN_qc']['repetitions']!=0:\n",
    "            # Use default simulator for noiseless execution\n",
    "            self.exp_layer = tfq.layers.SampledExpectation()\n",
    "        elif dp_noise==None and  GNN.config['EN_qc']['repetitions']==0:\n",
    "            # Use default simulator for noiseless execution\n",
    "            self.exp_layer = tfq.layers.Expectation()\n",
    "        else: \n",
    "            raise ValueError('Wrong PQC Specifications!')\n",
    "\n",
    "        # Classical readout layer\n",
    "        self.readout_layer = tf.keras.Sequential([\n",
    "            tf.keras.layers.Dense(\n",
    "                GNN.config['hid_dim'], \n",
    "                activation='relu'),\n",
    "            Rescale01()\n",
    "        ])\n",
    "\n",
    "        # Initialize parameters of the PQC\n",
    "        self.params = tf.Variable(tf.random.uniform(\n",
    "            shape=(1,qc.n_params),\n",
    "            minval=0, maxval=1)*2*np.pi\n",
    "        ) \n",
    "\n",
    "    def call(self, X, e, Ri, Ro):\n",
    "        '''forward pass of the node network. '''\n",
    "\n",
    "        # The following lines constructs the M matrix\n",
    "        # M matrix contains weighted averages of input and output nodes\n",
    "        # the weights are the edge probablities.\n",
    "        bo  = tf.matmul(Ro, X, transpose_a=True)\n",
    "        bi  = tf.matmul(Ri, X, transpose_a=True) \n",
    "        Rwo = Ro * e[:,0]\n",
    "        Rwi = Ri * e[:,0]\n",
    "        mi = tf.matmul(Rwi, bo)\n",
    "        mo = tf.matmul(Rwo, bi)\n",
    "        # Shape of M = N_nodes x (3x (3 + Hidden Dimension Size))\n",
    "        # mi: weighted average of input nodes\n",
    "        # mo: weighted average of output nodes\n",
    "        M = tf.concat([mi, mo, X], axis=1)\n",
    "\n",
    "        # Scale the output to be [0,PI]\n",
    "        # this value is a preference and can be changed \n",
    "        # to do: add the scaling as a configuration input\n",
    "        input_to_circuit = self.input_layer(M) * np.pi\n",
    "\n",
    "        # Combine input data with parameters in a single circuit_data matrix\n",
    "        circuit_data = tf.concat(\n",
    "            [\n",
    "                input_to_circuit, \n",
    "                tf.repeat(self.params,repeats=input_to_circuit.shape[0],axis=0)\n",
    "            ],\n",
    "            axis=1\n",
    "        )        \n",
    "\n",
    "        # Get expectation values for all nodes\n",
    "        if GNN.config['NN_qc']['repetitions']==0:\n",
    "            exps = self.exp_layer(self.model_circuit,\n",
    "                operators=self.measurement_operators,\n",
    "                symbol_names=self.symbol_names,\n",
    "                symbol_values=circuit_data)\n",
    "        else:\n",
    "            exps = self.exp_layer(self.model_circuit,\n",
    "                operators=self.measurement_operators,\n",
    "                symbol_names=self.symbol_names,\n",
    "                symbol_values=circuit_data,\n",
    "                repetitions=GNN.config['NN_qc']['repetitions'])\n",
    "\n",
    "        # Return the output of the final layer\n",
    "        return self.readout_layer(exps)\n",
    "\n",
    "###############################################################################\n",
    "class GNN(tf.keras.Model):\n",
    "    def __init__(self):\n",
    "        ''' Init function of GNN, inits all GNN blocks. '''\n",
    "        super(GNN, self).__init__(name='GNN')\n",
    "        # Define Initial Input Layer\n",
    "        self.InputNet =  tf.keras.layers.Dense(\n",
    "            GNN.config['hid_dim'], input_shape=(3,),\n",
    "            activation='relu',name='InputNet'\n",
    "        )\n",
    "        self.EdgeNet  = EdgeNet(name='EdgeNet')\n",
    "        self.NodeNet  = NodeNet(name='NodeNet')\n",
    "        self.n_iters  = GNN.config['n_iters']\n",
    "    \n",
    "    def call(self, graph_array):\n",
    "        ''' forward pass of the GNN '''\n",
    "        # decompose the graph array\n",
    "        X, Ri, Ro = graph_array\n",
    "        # execute InputNet to produce hidden dimensions\n",
    "        H = self.InputNet(X)\n",
    "        # add new dimensions to original X matrix\n",
    "        H = tf.concat([H,X],axis=1)\n",
    "        # recurrent iteration of the network\n",
    "        for i in range(self.n_iters):\n",
    "            e = self.EdgeNet(H, Ri, Ro)\n",
    "            H = self.NodeNet(H, e, Ri, Ro)\n",
    "            # update H with the output of NodeNet\n",
    "            H = tf.concat([H,X],axis=1)\n",
    "        # execute EdgeNet one more time to obtain edge predictions\n",
    "        e = self.EdgeNet(H, Ri, Ro)\n",
    "        # return edge prediction array\n",
    "        return e\n",
    "\n",
    "def load_config(config_input,RID_input):\n",
    "\n",
    "    \n",
    "    # read the config file \n",
    "    with open(config_input, 'r') as ymlfile:\n",
    "        config = yaml.load(ymlfile, Loader=yaml.FullLoader)\n",
    "        if len(glob.glob(config['log_dir']))==0:\n",
    "            os.mkdir(config['log_dir'])\n",
    "        # append RID to log dir\n",
    "        config['log_dir'] = config['log_dir']+'run{}/'.format(RID_input)\n",
    "        if len(glob.glob(config['log_dir']))==0:\n",
    "            os.mkdir(config['log_dir'])\n",
    "        # print all configs\n",
    "        print('Printing configs: ')\n",
    "        for key in config:\n",
    "            print(key + ': ' + str(config[key]))\n",
    "        print('Log dir: ' + config['log_dir'])\n",
    "        print('Training data input dir: ' + config['train_dir'])\n",
    "        print('Validation data input dir: ' + config['train_dir'])\n",
    "        if config['run_type'] == 'new_run':\n",
    "            delete_all_logs(config['log_dir'])\n",
    "    # LOG the config every time\n",
    "    with open(config['log_dir'] + 'config.yaml', 'w') as f:\n",
    "        for key in config:\n",
    "            f.write('%s : %s \\n' %(key,str(config[key])))\n",
    "    # return the config dictionary\n",
    "    return config\n",
    "\n",
    "\n",
    "import sys, os, time, datetime, csv\n",
    "sys.path.insert(1, '/Users/lucascurtin/Desktop/QGNN Repos/qtrkx-gnn-tracking/tools')\n",
    "from tools import *\n",
    "import numpy as np\n",
    "import math\n",
    "import matplotlib\n",
    "import matplotlib.pyplot as plt\n",
    "from matplotlib.animation import FuncAnimation\n",
    "from mpl_toolkits.mplot3d import Axes3D\n",
    "\n",
    "from tqdm import tqdm\n",
    "from matplotlib.lines import Line2D\n",
    "\n",
    "import trackml.dataset\n",
    "\n",
    "import pandas as pd\n",
    "\n",
    "from mpl_toolkits import mplot3d\n",
    "\n",
    "\n",
    "from collections import namedtuple\n",
    "\n",
    "import numpy as np\n",
    "\n",
    "# A Graph is a namedtuple of matrices (X, Ri, Ro, y)\n",
    "Graph = namedtuple('Graph', ['X', 'Ri', 'Ro', 'y'])\n",
    "\n",
    "def graph_to_sparse(graph):\n",
    "    Ri_rows, Ri_cols = graph.Ri.nonzero()\n",
    "    Ro_rows, Ro_cols = graph.Ro.nonzero()\n",
    "    return dict(X=graph.X, y=graph.y,\n",
    "                Ri_rows=Ri_rows, Ri_cols=Ri_cols,\n",
    "                Ro_rows=Ro_rows, Ro_cols=Ro_cols)\n",
    "\n",
    "def sparse_to_graph(X, Ri_rows, Ri_cols, Ro_rows, Ro_cols, y, dtype=np.uint8):\n",
    "    n_nodes, n_edges = X.shape[0], Ri_rows.shape[0]\n",
    "    Ri = np.zeros((n_nodes, n_edges), dtype=dtype)\n",
    "    Ro = np.zeros((n_nodes, n_edges), dtype=dtype)\n",
    "    Ri[Ri_rows, Ri_cols] = 1\n",
    "    Ro[Ro_rows, Ro_cols] = 1\n",
    "    return Graph(X, Ri, Ro, y)\n",
    "\n",
    "def save_graph(graph, filename):\n",
    "    \"\"\"Write a single graph to an NPZ file archive\"\"\"\n",
    "    np.savez(filename, **graph_to_sparse(graph))\n",
    "\n",
    "def save_graphs(graphs, filenames):\n",
    "    for graph, filename in zip(graphs, filenames):\n",
    "        save_graph(graph, filename)\n",
    "\n",
    "def load_graph(filename):\n",
    "    \"\"\"Reade a single graph NPZ\"\"\"\n",
    "    with np.load(filename) as f:\n",
    "        return sparse_to_graph(**dict(f.items()))\n",
    "\n",
    "def load_graphs(filenames, graph_type=Graph):\n",
    "    return [load_graph(f, graph_type) for f in filenames]\n",
    "\n",
    "\n",
    "def sparse_to_graph(X, Ri_rows, Ri_cols, Ro_rows, Ro_cols, y, dtype=np.float32):\n",
    "    n_nodes, n_edges = X.shape[0], Ri_rows.shape[0]\n",
    "    Ri = np.zeros((n_nodes, n_edges), dtype=dtype)\n",
    "    Ro = np.zeros((n_nodes, n_edges), dtype=dtype)\n",
    "    Ri[Ri_rows, Ri_cols] = 1\n",
    "    Ro[Ro_rows, Ro_cols] = 1\n",
    "    return Graph(X, Ri, Ro, y)\n",
    "\n",
    "\n",
    "def map2angle(arr0):\n",
    "    # Mapping the cylindrical coordinates to [0,1]\n",
    "    arr = np.zeros(arr0.shape, dtype=np.float32)\n",
    "    r_min     = 0.\n",
    "    r_max     = 1.1\n",
    "    arr[:,0] = (arr0[:,0]-r_min)/(r_max-r_min)    \n",
    "\n",
    "\n",
    "\n",
    "   \n",
    "    phi_min   = -1.0\n",
    "    phi_max   = 1.0\n",
    "    arr[:,1]  = (arr0[:,1]-phi_min)/(phi_max-phi_min) \n",
    "    z_min     = 0\n",
    "    z_max     = 1.1\n",
    "    arr[:,2]  = (np.abs(arr0[:,2])-z_min)/(z_max-z_min)  # take abs of z due to symmetry of z\n",
    "\n",
    "    mapping_check(arr)\n",
    "    return arr\n",
    "\n"
   ]
  },
  {
   "cell_type": "code",
   "execution_count": 2,
   "metadata": {},
   "outputs": [
    {
     "name": "stdout",
     "output_type": "stream",
     "text": [
      "Printing configs: \n",
      "train_dir: /Users/lucascurtin/Desktop/QGNN Repos/qtrkx-gnn-tracking/data_personal/train_graphs\n",
      "valid_dir: /Users/lucascurtin/Desktop/QGNN Repos/qtrkx-gnn-tracking/data_personal/valid_graphs\n",
      "dataset: TuysuzPaper\n",
      "log_dir: /Users/lucascurtin/Desktop/QGNN Repos/qtrkx-gnn-tracking/logs/test_QGNN/run1/\n",
      "run_type: new_run\n",
      "gpu: -1\n",
      "n_files: 10\n",
      "n_valid: 2\n",
      "n_train: 8\n",
      "batch_size: 1\n",
      "lr_c: 0.01\n",
      "n_iters: 3\n",
      "n_epoch: 3\n",
      "TEST_every: 1\n",
      "hid_dim: 4\n",
      "network: QGNN\n",
      "optimizer: Adam\n",
      "loss_func: BinaryCrossentropy\n",
      "n_thread: 4\n",
      "log_verbosity: 2\n",
      "EN_qc: {'PQC_id': '10', 'IEC_id': 'simple_encoding_y', 'MC_id': 'measure_all', 'n_layers': 3, 'repetitions': 0, 'n_qubits': 4}\n",
      "NN_qc: {'PQC_id': '10', 'IEC_id': 'simple_encoding_y', 'MC_id': 'measure_all', 'n_layers': 3, 'repetitions': 0, 'n_qubits': 4}\n",
      "Log dir: /Users/lucascurtin/Desktop/QGNN Repos/qtrkx-gnn-tracking/logs/test_QGNN/run1/\n",
      "Training data input dir: /Users/lucascurtin/Desktop/QGNN Repos/qtrkx-gnn-tracking/data_personal/train_graphs\n",
      "Validation data input dir: /Users/lucascurtin/Desktop/QGNN Repos/qtrkx-gnn-tracking/data_personal/train_graphs\n",
      "2023-04-02 12:34:58.546623 Deleted old log: /Users/lucascurtin/Desktop/QGNN Repos/qtrkx-gnn-tracking/logs/test_QGNN/run1/summary.csv\n",
      "2023-04-02 12:34:58.547738 Deleted old log: /Users/lucascurtin/Desktop/QGNN Repos/qtrkx-gnn-tracking/logs/test_QGNN/run1/log_validation.csv\n",
      "2023-04-02 12:34:58.548017 Deleted old log: /Users/lucascurtin/Desktop/QGNN Repos/qtrkx-gnn-tracking/logs/test_QGNN/run1/log_training.csv\n"
     ]
    }
   ],
   "source": [
    "# Read config file\n",
    "config = load_config('configs/local_QGNN.yaml',1)\n",
    "\n",
    "tools.config = config\n",
    "\n",
    "from qnetworks.QGNN import GNN\n",
    "GNN.config = config"
   ]
  },
  {
   "cell_type": "code",
   "execution_count": 3,
   "metadata": {},
   "outputs": [],
   "source": [
    "n_layers = GNN.config['EN_qc']['n_layers']\n",
    "n_qubits = GNN.config['EN_qc']['n_qubits']\n",
    "\n",
    "if 'dp_noise' in GNN.config['EN_qc'].keys():\n",
    "    dp_noise = GNN.config['EN_qc']['dp_noise']\n",
    "else:\n",
    "    # set noise to None if not specified \n",
    "    dp_noise = None\n",
    "        \n",
    "# Read the Quantum Circuit with specified configuration\n",
    "qc = QCircuit(IEC_id=GNN.config['EN_qc']['IEC_id'],\n",
    "    PQC_id=GNN.config['EN_qc']['PQC_id'],\n",
    "    MC_id=GNN.config['EN_qc']['MC_id'],\n",
    "    n_layers=n_layers, \n",
    "    input_size=n_qubits,\n",
    "    p=0.01)\n",
    "\n",
    "model_circuit, qubits = qc.model_circuit()\n",
    "measurement_operators = qc.measurement_operators()\n",
    "\n",
    "# Prepare symbol list for inputs and parameters of the Quantum Circuits\n",
    "symbol_names = ['x{}'.format(i) for i in range(qc.n_inputs)]\n",
    "for i in range(qc.n_params):\n",
    "    symbol_names.append('theta{}'.format(i)) \n",
    "\n",
    "# Classical input layer of the Node Network\n",
    "# takes input data and feeds it to the PQC layer\n",
    "input_layer = tf.keras.Sequential([\n",
    "    tf.keras.layers.Dense(\n",
    "        n_qubits, \n",
    "        activation='relu'),\n",
    "    Rescale01()\n",
    "])\n",
    "\n",
    "# Prepare PQC layer\n",
    "if (dp_noise!=None):\n",
    "    # Noisy simulation requires density matrix simulator\n",
    "    exp_layer = tfq.layers.SampledExpectation(\n",
    "        cirq.DensityMatrixSimulator(noise=cirq.depolarize(dp_noise))\n",
    "    )\n",
    "elif dp_noise==None and GNN.config['EN_qc']['repetitions']!=0:\n",
    "    # Use default simulator for noiseless execution\n",
    "    exp_layer = tfq.layers.SampledExpectation()\n",
    "elif dp_noise==None and GNN.config['EN_qc']['repetitions']==0:\n",
    "    # Use default simulator for noiseless execution\n",
    "    exp_layer = tfq.layers.Expectation()\n",
    "else: \n",
    "    raise ValueError('Wrong PQC Specifications!')\n",
    "\n",
    "    # Classical readout layer\n",
    "readout_layer = tf.keras.layers.Dense(1, activation='sigmoid')\n",
    "\n",
    "# Initialize parameters of the PQC\n",
    "params = tf.Variable(tf.random.uniform(\n",
    "    shape=(1,qc.n_params),\n",
    "    minval=0, maxval=1)*2*np.pi\n",
    ") "
   ]
  },
  {
   "cell_type": "code",
   "execution_count": 5,
   "metadata": {},
   "outputs": [],
   "source": [
    "X_test, Ri_test, Ro_test, y_test = load_graph('/Users/lucascurtin/Desktop/edge_data/graphs_marcin/graph0001.npz')"
   ]
  },
  {
   "cell_type": "code",
   "execution_count": 6,
   "metadata": {},
   "outputs": [],
   "source": [
    "model=GNN()"
   ]
  },
  {
   "cell_type": "code",
   "execution_count": 7,
   "metadata": {},
   "outputs": [
    {
     "data": {
      "image/svg+xml": "<svg xmlns=\"http://www.w3.org/2000/svg\" width=\"1629.5285546875002\" height=\"240.0\"><line x1=\"32.246796875\" x2=\"1599.5285546875002\" y1=\"45.0\" y2=\"45.0\" stroke=\"#1967d2\" stroke-width=\"1\" /><line x1=\"32.246796875\" x2=\"1599.5285546875002\" y1=\"95.0\" y2=\"95.0\" stroke=\"#1967d2\" stroke-width=\"1\" /><line x1=\"32.246796875\" x2=\"1599.5285546875002\" y1=\"145.0\" y2=\"145.0\" stroke=\"#1967d2\" stroke-width=\"1\" /><line x1=\"32.246796875\" x2=\"1599.5285546875002\" y1=\"195.0\" y2=\"195.0\" stroke=\"#1967d2\" stroke-width=\"1\" /><line x1=\"1346.4518359375002\" x2=\"1477.9901953125002\" y1=\"5.0\" y2=\"5.0\" stroke=\"black\" stroke-width=\"1\" /><line x1=\"1346.4518359375002\" x2=\"1477.9901953125002\" y1=\"235.0\" y2=\"235.0\" stroke=\"black\" stroke-width=\"1\" /><line x1=\"890.6553906250001\" x2=\"1014.4076171875001\" y1=\"5.0\" y2=\"5.0\" stroke=\"black\" stroke-width=\"1\" /><line x1=\"890.6553906250001\" x2=\"1014.4076171875001\" y1=\"235.0\" y2=\"235.0\" stroke=\"black\" stroke-width=\"1\" /><line x1=\"441.612578125\" x2=\"565.3648046875\" y1=\"5.0\" y2=\"5.0\" stroke=\"black\" stroke-width=\"1\" /><line x1=\"441.612578125\" x2=\"565.3648046875\" y1=\"235.0\" y2=\"235.0\" stroke=\"black\" stroke-width=\"1\" /><line x1=\"257.8603515625\" x2=\"257.8603515625\" y1=\"145.0\" y2=\"195.0\" stroke=\"black\" stroke-width=\"3\" /><line x1=\"317.8603515625\" x2=\"317.8603515625\" y1=\"95.0\" y2=\"145.0\" stroke=\"black\" stroke-width=\"3\" /><line x1=\"394.73646484375\" x2=\"394.73646484375\" y1=\"45.0\" y2=\"95.0\" stroke=\"black\" stroke-width=\"3\" /><line x1=\"461.612578125\" x2=\"461.612578125\" y1=\"45.0\" y2=\"195.0\" stroke=\"black\" stroke-width=\"3\" /><line x1=\"699.1170312500001\" x2=\"699.1170312500001\" y1=\"145.0\" y2=\"195.0\" stroke=\"black\" stroke-width=\"3\" /><line x1=\"759.1170312500001\" x2=\"759.1170312500001\" y1=\"95.0\" y2=\"145.0\" stroke=\"black\" stroke-width=\"3\" /><line x1=\"839.8862109375001\" x2=\"839.8862109375001\" y1=\"45.0\" y2=\"95.0\" stroke=\"black\" stroke-width=\"3\" /><line x1=\"910.6553906250001\" x2=\"910.6553906250001\" y1=\"45.0\" y2=\"195.0\" stroke=\"black\" stroke-width=\"3\" /><line x1=\"1154.9134765625001\" x2=\"1154.9134765625001\" y1=\"145.0\" y2=\"195.0\" stroke=\"black\" stroke-width=\"3\" /><line x1=\"1214.9134765625001\" x2=\"1214.9134765625001\" y1=\"95.0\" y2=\"145.0\" stroke=\"black\" stroke-width=\"3\" /><line x1=\"1295.68265625\" x2=\"1295.68265625\" y1=\"45.0\" y2=\"95.0\" stroke=\"black\" stroke-width=\"3\" /><line x1=\"1366.4518359375002\" x2=\"1366.4518359375002\" y1=\"45.0\" y2=\"195.0\" stroke=\"black\" stroke-width=\"3\" /><line x1=\"1346.4518359375002\" x2=\"1346.4518359375002\" y1=\"5.0\" y2=\"15.0\" stroke=\"black\" stroke-width=\"3\" /><line x1=\"1477.9901953125002\" x2=\"1477.9901953125002\" y1=\"5.0\" y2=\"15.0\" stroke=\"black\" stroke-width=\"3\" /><line x1=\"1346.4518359375002\" x2=\"1346.4518359375002\" y1=\"225.0\" y2=\"235.0\" stroke=\"black\" stroke-width=\"3\" /><line x1=\"1477.9901953125002\" x2=\"1477.9901953125002\" y1=\"225.0\" y2=\"235.0\" stroke=\"black\" stroke-width=\"3\" /><line x1=\"890.6553906250001\" x2=\"890.6553906250001\" y1=\"5.0\" y2=\"15.0\" stroke=\"black\" stroke-width=\"3\" /><line x1=\"1014.4076171875001\" x2=\"1014.4076171875001\" y1=\"5.0\" y2=\"15.0\" stroke=\"black\" stroke-width=\"3\" /><line x1=\"890.6553906250001\" x2=\"890.6553906250001\" y1=\"225.0\" y2=\"235.0\" stroke=\"black\" stroke-width=\"3\" /><line x1=\"1014.4076171875001\" x2=\"1014.4076171875001\" y1=\"225.0\" y2=\"235.0\" stroke=\"black\" stroke-width=\"3\" /><line x1=\"441.612578125\" x2=\"441.612578125\" y1=\"5.0\" y2=\"15.0\" stroke=\"black\" stroke-width=\"3\" /><line x1=\"565.3648046875\" x2=\"565.3648046875\" y1=\"5.0\" y2=\"15.0\" stroke=\"black\" stroke-width=\"3\" /><line x1=\"441.612578125\" x2=\"441.612578125\" y1=\"225.0\" y2=\"235.0\" stroke=\"black\" stroke-width=\"3\" /><line x1=\"565.3648046875\" x2=\"565.3648046875\" y1=\"225.0\" y2=\"235.0\" stroke=\"black\" stroke-width=\"3\" /><rect x=\"10.0\" y=\"25.0\" width=\"44.49359375\" height=\"40\" stroke=\"black\" fill=\"white\" stroke-width=\"0\" /><text x=\"32.246796875\" y=\"45.0\" dominant-baseline=\"middle\" text-anchor=\"middle\" font-size=\"14px\" font-family=\"Arial\">(0, 0): </text><rect x=\"10.0\" y=\"75.0\" width=\"44.49359375\" height=\"40\" stroke=\"black\" fill=\"white\" stroke-width=\"0\" /><text x=\"32.246796875\" y=\"95.0\" dominant-baseline=\"middle\" text-anchor=\"middle\" font-size=\"14px\" font-family=\"Arial\">(1, 0): </text><rect x=\"10.0\" y=\"125.0\" width=\"44.49359375\" height=\"40\" stroke=\"black\" fill=\"white\" stroke-width=\"0\" /><text x=\"32.246796875\" y=\"145.0\" dominant-baseline=\"middle\" text-anchor=\"middle\" font-size=\"14px\" font-family=\"Arial\">(2, 0): </text><rect x=\"10.0\" y=\"175.0\" width=\"44.49359375\" height=\"40\" stroke=\"black\" fill=\"white\" stroke-width=\"0\" /><text x=\"32.246796875\" y=\"195.0\" dominant-baseline=\"middle\" text-anchor=\"middle\" font-size=\"14px\" font-family=\"Arial\">(3, 0): </text><rect x=\"74.49359375\" y=\"25.0\" width=\"49.61453125\" height=\"40\" stroke=\"black\" fill=\"white\" stroke-width=\"1\" /><text x=\"99.300859375\" y=\"45.0\" dominant-baseline=\"middle\" text-anchor=\"middle\" font-size=\"14px\" font-family=\"Arial\">Ry(x0)</text><rect x=\"74.49359375\" y=\"75.0\" width=\"49.61453125\" height=\"40\" stroke=\"black\" fill=\"white\" stroke-width=\"1\" /><text x=\"99.300859375\" y=\"95.0\" dominant-baseline=\"middle\" text-anchor=\"middle\" font-size=\"14px\" font-family=\"Arial\">Ry(x1)</text><rect x=\"74.49359375\" y=\"125.0\" width=\"49.61453125\" height=\"40\" stroke=\"black\" fill=\"white\" stroke-width=\"1\" /><text x=\"99.300859375\" y=\"145.0\" dominant-baseline=\"middle\" text-anchor=\"middle\" font-size=\"14px\" font-family=\"Arial\">Ry(x2)</text><rect x=\"74.49359375\" y=\"175.0\" width=\"49.61453125\" height=\"40\" stroke=\"black\" fill=\"white\" stroke-width=\"1\" /><text x=\"99.300859375\" y=\"195.0\" dominant-baseline=\"middle\" text-anchor=\"middle\" font-size=\"14px\" font-family=\"Arial\">Ry(x3)</text><rect x=\"144.10812499999997\" y=\"25.0\" width=\"73.7522265625\" height=\"40\" stroke=\"black\" fill=\"white\" stroke-width=\"1\" /><text x=\"180.98423828125\" y=\"45.0\" dominant-baseline=\"middle\" text-anchor=\"middle\" font-size=\"14px\" font-family=\"Arial\">Ry(theta0)</text><rect x=\"144.10812499999997\" y=\"75.0\" width=\"73.7522265625\" height=\"40\" stroke=\"black\" fill=\"white\" stroke-width=\"1\" /><text x=\"180.98423828125\" y=\"95.0\" dominant-baseline=\"middle\" text-anchor=\"middle\" font-size=\"14px\" font-family=\"Arial\">Ry(theta1)</text><rect x=\"144.10812499999997\" y=\"125.0\" width=\"73.7522265625\" height=\"40\" stroke=\"black\" fill=\"white\" stroke-width=\"1\" /><text x=\"180.98423828125\" y=\"145.0\" dominant-baseline=\"middle\" text-anchor=\"middle\" font-size=\"14px\" font-family=\"Arial\">Ry(theta2)</text><rect x=\"144.10812499999997\" y=\"175.0\" width=\"73.7522265625\" height=\"40\" stroke=\"black\" fill=\"white\" stroke-width=\"1\" /><text x=\"180.98423828125\" y=\"195.0\" dominant-baseline=\"middle\" text-anchor=\"middle\" font-size=\"14px\" font-family=\"Arial\">Ry(theta3)</text><circle cx=\"257.8603515625\" cy=\"145.0\" r=\"10.0\" /><circle cx=\"257.8603515625\" cy=\"195.0\" r=\"10.0\" /><circle cx=\"317.8603515625\" cy=\"95.0\" r=\"10.0\" /><circle cx=\"317.8603515625\" cy=\"145.0\" r=\"10.0\" /><circle cx=\"394.73646484375\" cy=\"45.0\" r=\"10.0\" /><circle cx=\"394.73646484375\" cy=\"95.0\" r=\"10.0\" /><rect x=\"357.8603515625\" y=\"125.0\" width=\"73.7522265625\" height=\"40\" stroke=\"black\" fill=\"white\" stroke-width=\"1\" /><text x=\"394.73646484375\" y=\"145.0\" dominant-baseline=\"middle\" text-anchor=\"middle\" font-size=\"14px\" font-family=\"Arial\">Ry(theta6)</text><circle cx=\"461.612578125\" cy=\"195.0\" r=\"10.0\" /><circle cx=\"461.612578125\" cy=\"45.0\" r=\"10.0\" /><rect x=\"481.612578125\" y=\"75.0\" width=\"73.7522265625\" height=\"40\" stroke=\"black\" fill=\"white\" stroke-width=\"1\" /><text x=\"518.48869140625\" y=\"95.0\" dominant-baseline=\"middle\" text-anchor=\"middle\" font-size=\"14px\" font-family=\"Arial\">Ry(theta5)</text><rect x=\"585.3648046875\" y=\"25.0\" width=\"73.7522265625\" height=\"40\" stroke=\"black\" fill=\"white\" stroke-width=\"1\" /><text x=\"622.2409179687501\" y=\"45.0\" dominant-baseline=\"middle\" text-anchor=\"middle\" font-size=\"14px\" font-family=\"Arial\">Ry(theta4)</text><rect x=\"585.3648046875\" y=\"175.0\" width=\"73.7522265625\" height=\"40\" stroke=\"black\" fill=\"white\" stroke-width=\"1\" /><text x=\"622.2409179687501\" y=\"195.0\" dominant-baseline=\"middle\" text-anchor=\"middle\" font-size=\"14px\" font-family=\"Arial\">Ry(theta7)</text><circle cx=\"699.1170312500001\" cy=\"145.0\" r=\"10.0\" /><circle cx=\"699.1170312500001\" cy=\"195.0\" r=\"10.0\" /><circle cx=\"759.1170312500001\" cy=\"95.0\" r=\"10.0\" /><circle cx=\"759.1170312500001\" cy=\"145.0\" r=\"10.0\" /><circle cx=\"839.8862109375001\" cy=\"45.0\" r=\"10.0\" /><circle cx=\"839.8862109375001\" cy=\"95.0\" r=\"10.0\" /><rect x=\"799.1170312500001\" y=\"125.0\" width=\"81.538359375\" height=\"40\" stroke=\"black\" fill=\"white\" stroke-width=\"1\" /><text x=\"839.8862109375001\" y=\"145.0\" dominant-baseline=\"middle\" text-anchor=\"middle\" font-size=\"14px\" font-family=\"Arial\">Ry(theta10)</text><circle cx=\"910.6553906250001\" cy=\"195.0\" r=\"10.0\" /><circle cx=\"910.6553906250001\" cy=\"45.0\" r=\"10.0\" /><rect x=\"930.6553906250001\" y=\"75.0\" width=\"73.7522265625\" height=\"40\" stroke=\"black\" fill=\"white\" stroke-width=\"1\" /><text x=\"967.5315039062501\" y=\"95.0\" dominant-baseline=\"middle\" text-anchor=\"middle\" font-size=\"14px\" font-family=\"Arial\">Ry(theta9)</text><rect x=\"1034.4076171875001\" y=\"25.0\" width=\"80.505859375\" height=\"40\" stroke=\"black\" fill=\"white\" stroke-width=\"1\" /><text x=\"1074.6605468750001\" y=\"45.0\" dominant-baseline=\"middle\" text-anchor=\"middle\" font-size=\"14px\" font-family=\"Arial\">Ry(theta8)</text><rect x=\"1034.4076171875001\" y=\"175.0\" width=\"80.505859375\" height=\"40\" stroke=\"black\" fill=\"white\" stroke-width=\"1\" /><text x=\"1074.6605468750001\" y=\"195.0\" dominant-baseline=\"middle\" text-anchor=\"middle\" font-size=\"14px\" font-family=\"Arial\">Ry(theta11)</text><circle cx=\"1154.9134765625001\" cy=\"145.0\" r=\"10.0\" /><circle cx=\"1154.9134765625001\" cy=\"195.0\" r=\"10.0\" /><circle cx=\"1214.9134765625001\" cy=\"95.0\" r=\"10.0\" /><circle cx=\"1214.9134765625001\" cy=\"145.0\" r=\"10.0\" /><circle cx=\"1295.68265625\" cy=\"45.0\" r=\"10.0\" /><circle cx=\"1295.68265625\" cy=\"95.0\" r=\"10.0\" /><rect x=\"1254.9134765625001\" y=\"125.0\" width=\"81.538359375\" height=\"40\" stroke=\"black\" fill=\"white\" stroke-width=\"1\" /><text x=\"1295.68265625\" y=\"145.0\" dominant-baseline=\"middle\" text-anchor=\"middle\" font-size=\"14px\" font-family=\"Arial\">Ry(theta14)</text><circle cx=\"1366.4518359375002\" cy=\"195.0\" r=\"10.0\" /><circle cx=\"1366.4518359375002\" cy=\"45.0\" r=\"10.0\" /><rect x=\"1386.4518359375002\" y=\"75.0\" width=\"81.538359375\" height=\"40\" stroke=\"black\" fill=\"white\" stroke-width=\"1\" /><text x=\"1427.221015625\" y=\"95.0\" dominant-baseline=\"middle\" text-anchor=\"middle\" font-size=\"14px\" font-family=\"Arial\">Ry(theta13)</text><rect x=\"1497.9901953125002\" y=\"25.0\" width=\"81.538359375\" height=\"40\" stroke=\"black\" fill=\"white\" stroke-width=\"1\" /><text x=\"1538.759375\" y=\"45.0\" dominant-baseline=\"middle\" text-anchor=\"middle\" font-size=\"14px\" font-family=\"Arial\">Ry(theta12)</text><rect x=\"1497.9901953125002\" y=\"175.0\" width=\"81.538359375\" height=\"40\" stroke=\"black\" fill=\"white\" stroke-width=\"1\" /><text x=\"1538.759375\" y=\"195.0\" dominant-baseline=\"middle\" text-anchor=\"middle\" font-size=\"14px\" font-family=\"Arial\">Ry(theta15)</text></svg>",
      "text/plain": [
       "<cirq.contrib.svg.svg.SVGCircuit at 0x7f9078132e80>"
      ]
     },
     "execution_count": 7,
     "metadata": {},
     "output_type": "execute_result"
    }
   ],
   "source": [
    "SVGCircuit(model.EdgeNet.model_circuit)"
   ]
  },
  {
   "cell_type": "code",
   "execution_count": 8,
   "metadata": {},
   "outputs": [
    {
     "data": {
      "image/svg+xml": "<svg xmlns=\"http://www.w3.org/2000/svg\" width=\"1629.5285546875002\" height=\"240.0\"><line x1=\"32.246796875\" x2=\"1599.5285546875002\" y1=\"45.0\" y2=\"45.0\" stroke=\"#1967d2\" stroke-width=\"1\" /><line x1=\"32.246796875\" x2=\"1599.5285546875002\" y1=\"95.0\" y2=\"95.0\" stroke=\"#1967d2\" stroke-width=\"1\" /><line x1=\"32.246796875\" x2=\"1599.5285546875002\" y1=\"145.0\" y2=\"145.0\" stroke=\"#1967d2\" stroke-width=\"1\" /><line x1=\"32.246796875\" x2=\"1599.5285546875002\" y1=\"195.0\" y2=\"195.0\" stroke=\"#1967d2\" stroke-width=\"1\" /><line x1=\"1346.4518359375002\" x2=\"1477.9901953125002\" y1=\"5.0\" y2=\"5.0\" stroke=\"black\" stroke-width=\"1\" /><line x1=\"1346.4518359375002\" x2=\"1477.9901953125002\" y1=\"235.0\" y2=\"235.0\" stroke=\"black\" stroke-width=\"1\" /><line x1=\"890.6553906250001\" x2=\"1014.4076171875001\" y1=\"5.0\" y2=\"5.0\" stroke=\"black\" stroke-width=\"1\" /><line x1=\"890.6553906250001\" x2=\"1014.4076171875001\" y1=\"235.0\" y2=\"235.0\" stroke=\"black\" stroke-width=\"1\" /><line x1=\"441.612578125\" x2=\"565.3648046875\" y1=\"5.0\" y2=\"5.0\" stroke=\"black\" stroke-width=\"1\" /><line x1=\"441.612578125\" x2=\"565.3648046875\" y1=\"235.0\" y2=\"235.0\" stroke=\"black\" stroke-width=\"1\" /><line x1=\"257.8603515625\" x2=\"257.8603515625\" y1=\"145.0\" y2=\"195.0\" stroke=\"black\" stroke-width=\"3\" /><line x1=\"317.8603515625\" x2=\"317.8603515625\" y1=\"95.0\" y2=\"145.0\" stroke=\"black\" stroke-width=\"3\" /><line x1=\"394.73646484375\" x2=\"394.73646484375\" y1=\"45.0\" y2=\"95.0\" stroke=\"black\" stroke-width=\"3\" /><line x1=\"461.612578125\" x2=\"461.612578125\" y1=\"45.0\" y2=\"195.0\" stroke=\"black\" stroke-width=\"3\" /><line x1=\"699.1170312500001\" x2=\"699.1170312500001\" y1=\"145.0\" y2=\"195.0\" stroke=\"black\" stroke-width=\"3\" /><line x1=\"759.1170312500001\" x2=\"759.1170312500001\" y1=\"95.0\" y2=\"145.0\" stroke=\"black\" stroke-width=\"3\" /><line x1=\"839.8862109375001\" x2=\"839.8862109375001\" y1=\"45.0\" y2=\"95.0\" stroke=\"black\" stroke-width=\"3\" /><line x1=\"910.6553906250001\" x2=\"910.6553906250001\" y1=\"45.0\" y2=\"195.0\" stroke=\"black\" stroke-width=\"3\" /><line x1=\"1154.9134765625001\" x2=\"1154.9134765625001\" y1=\"145.0\" y2=\"195.0\" stroke=\"black\" stroke-width=\"3\" /><line x1=\"1214.9134765625001\" x2=\"1214.9134765625001\" y1=\"95.0\" y2=\"145.0\" stroke=\"black\" stroke-width=\"3\" /><line x1=\"1295.68265625\" x2=\"1295.68265625\" y1=\"45.0\" y2=\"95.0\" stroke=\"black\" stroke-width=\"3\" /><line x1=\"1366.4518359375002\" x2=\"1366.4518359375002\" y1=\"45.0\" y2=\"195.0\" stroke=\"black\" stroke-width=\"3\" /><line x1=\"1346.4518359375002\" x2=\"1346.4518359375002\" y1=\"5.0\" y2=\"15.0\" stroke=\"black\" stroke-width=\"3\" /><line x1=\"1477.9901953125002\" x2=\"1477.9901953125002\" y1=\"5.0\" y2=\"15.0\" stroke=\"black\" stroke-width=\"3\" /><line x1=\"1346.4518359375002\" x2=\"1346.4518359375002\" y1=\"225.0\" y2=\"235.0\" stroke=\"black\" stroke-width=\"3\" /><line x1=\"1477.9901953125002\" x2=\"1477.9901953125002\" y1=\"225.0\" y2=\"235.0\" stroke=\"black\" stroke-width=\"3\" /><line x1=\"890.6553906250001\" x2=\"890.6553906250001\" y1=\"5.0\" y2=\"15.0\" stroke=\"black\" stroke-width=\"3\" /><line x1=\"1014.4076171875001\" x2=\"1014.4076171875001\" y1=\"5.0\" y2=\"15.0\" stroke=\"black\" stroke-width=\"3\" /><line x1=\"890.6553906250001\" x2=\"890.6553906250001\" y1=\"225.0\" y2=\"235.0\" stroke=\"black\" stroke-width=\"3\" /><line x1=\"1014.4076171875001\" x2=\"1014.4076171875001\" y1=\"225.0\" y2=\"235.0\" stroke=\"black\" stroke-width=\"3\" /><line x1=\"441.612578125\" x2=\"441.612578125\" y1=\"5.0\" y2=\"15.0\" stroke=\"black\" stroke-width=\"3\" /><line x1=\"565.3648046875\" x2=\"565.3648046875\" y1=\"5.0\" y2=\"15.0\" stroke=\"black\" stroke-width=\"3\" /><line x1=\"441.612578125\" x2=\"441.612578125\" y1=\"225.0\" y2=\"235.0\" stroke=\"black\" stroke-width=\"3\" /><line x1=\"565.3648046875\" x2=\"565.3648046875\" y1=\"225.0\" y2=\"235.0\" stroke=\"black\" stroke-width=\"3\" /><rect x=\"10.0\" y=\"25.0\" width=\"44.49359375\" height=\"40\" stroke=\"black\" fill=\"white\" stroke-width=\"0\" /><text x=\"32.246796875\" y=\"45.0\" dominant-baseline=\"middle\" text-anchor=\"middle\" font-size=\"14px\" font-family=\"Arial\">(0, 0): </text><rect x=\"10.0\" y=\"75.0\" width=\"44.49359375\" height=\"40\" stroke=\"black\" fill=\"white\" stroke-width=\"0\" /><text x=\"32.246796875\" y=\"95.0\" dominant-baseline=\"middle\" text-anchor=\"middle\" font-size=\"14px\" font-family=\"Arial\">(1, 0): </text><rect x=\"10.0\" y=\"125.0\" width=\"44.49359375\" height=\"40\" stroke=\"black\" fill=\"white\" stroke-width=\"0\" /><text x=\"32.246796875\" y=\"145.0\" dominant-baseline=\"middle\" text-anchor=\"middle\" font-size=\"14px\" font-family=\"Arial\">(2, 0): </text><rect x=\"10.0\" y=\"175.0\" width=\"44.49359375\" height=\"40\" stroke=\"black\" fill=\"white\" stroke-width=\"0\" /><text x=\"32.246796875\" y=\"195.0\" dominant-baseline=\"middle\" text-anchor=\"middle\" font-size=\"14px\" font-family=\"Arial\">(3, 0): </text><rect x=\"74.49359375\" y=\"25.0\" width=\"49.61453125\" height=\"40\" stroke=\"black\" fill=\"white\" stroke-width=\"1\" /><text x=\"99.300859375\" y=\"45.0\" dominant-baseline=\"middle\" text-anchor=\"middle\" font-size=\"14px\" font-family=\"Arial\">Ry(x0)</text><rect x=\"74.49359375\" y=\"75.0\" width=\"49.61453125\" height=\"40\" stroke=\"black\" fill=\"white\" stroke-width=\"1\" /><text x=\"99.300859375\" y=\"95.0\" dominant-baseline=\"middle\" text-anchor=\"middle\" font-size=\"14px\" font-family=\"Arial\">Ry(x1)</text><rect x=\"74.49359375\" y=\"125.0\" width=\"49.61453125\" height=\"40\" stroke=\"black\" fill=\"white\" stroke-width=\"1\" /><text x=\"99.300859375\" y=\"145.0\" dominant-baseline=\"middle\" text-anchor=\"middle\" font-size=\"14px\" font-family=\"Arial\">Ry(x2)</text><rect x=\"74.49359375\" y=\"175.0\" width=\"49.61453125\" height=\"40\" stroke=\"black\" fill=\"white\" stroke-width=\"1\" /><text x=\"99.300859375\" y=\"195.0\" dominant-baseline=\"middle\" text-anchor=\"middle\" font-size=\"14px\" font-family=\"Arial\">Ry(x3)</text><rect x=\"144.10812499999997\" y=\"25.0\" width=\"73.7522265625\" height=\"40\" stroke=\"black\" fill=\"white\" stroke-width=\"1\" /><text x=\"180.98423828125\" y=\"45.0\" dominant-baseline=\"middle\" text-anchor=\"middle\" font-size=\"14px\" font-family=\"Arial\">Ry(theta0)</text><rect x=\"144.10812499999997\" y=\"75.0\" width=\"73.7522265625\" height=\"40\" stroke=\"black\" fill=\"white\" stroke-width=\"1\" /><text x=\"180.98423828125\" y=\"95.0\" dominant-baseline=\"middle\" text-anchor=\"middle\" font-size=\"14px\" font-family=\"Arial\">Ry(theta1)</text><rect x=\"144.10812499999997\" y=\"125.0\" width=\"73.7522265625\" height=\"40\" stroke=\"black\" fill=\"white\" stroke-width=\"1\" /><text x=\"180.98423828125\" y=\"145.0\" dominant-baseline=\"middle\" text-anchor=\"middle\" font-size=\"14px\" font-family=\"Arial\">Ry(theta2)</text><rect x=\"144.10812499999997\" y=\"175.0\" width=\"73.7522265625\" height=\"40\" stroke=\"black\" fill=\"white\" stroke-width=\"1\" /><text x=\"180.98423828125\" y=\"195.0\" dominant-baseline=\"middle\" text-anchor=\"middle\" font-size=\"14px\" font-family=\"Arial\">Ry(theta3)</text><circle cx=\"257.8603515625\" cy=\"145.0\" r=\"10.0\" /><circle cx=\"257.8603515625\" cy=\"195.0\" r=\"10.0\" /><circle cx=\"317.8603515625\" cy=\"95.0\" r=\"10.0\" /><circle cx=\"317.8603515625\" cy=\"145.0\" r=\"10.0\" /><circle cx=\"394.73646484375\" cy=\"45.0\" r=\"10.0\" /><circle cx=\"394.73646484375\" cy=\"95.0\" r=\"10.0\" /><rect x=\"357.8603515625\" y=\"125.0\" width=\"73.7522265625\" height=\"40\" stroke=\"black\" fill=\"white\" stroke-width=\"1\" /><text x=\"394.73646484375\" y=\"145.0\" dominant-baseline=\"middle\" text-anchor=\"middle\" font-size=\"14px\" font-family=\"Arial\">Ry(theta6)</text><circle cx=\"461.612578125\" cy=\"195.0\" r=\"10.0\" /><circle cx=\"461.612578125\" cy=\"45.0\" r=\"10.0\" /><rect x=\"481.612578125\" y=\"75.0\" width=\"73.7522265625\" height=\"40\" stroke=\"black\" fill=\"white\" stroke-width=\"1\" /><text x=\"518.48869140625\" y=\"95.0\" dominant-baseline=\"middle\" text-anchor=\"middle\" font-size=\"14px\" font-family=\"Arial\">Ry(theta5)</text><rect x=\"585.3648046875\" y=\"25.0\" width=\"73.7522265625\" height=\"40\" stroke=\"black\" fill=\"white\" stroke-width=\"1\" /><text x=\"622.2409179687501\" y=\"45.0\" dominant-baseline=\"middle\" text-anchor=\"middle\" font-size=\"14px\" font-family=\"Arial\">Ry(theta4)</text><rect x=\"585.3648046875\" y=\"175.0\" width=\"73.7522265625\" height=\"40\" stroke=\"black\" fill=\"white\" stroke-width=\"1\" /><text x=\"622.2409179687501\" y=\"195.0\" dominant-baseline=\"middle\" text-anchor=\"middle\" font-size=\"14px\" font-family=\"Arial\">Ry(theta7)</text><circle cx=\"699.1170312500001\" cy=\"145.0\" r=\"10.0\" /><circle cx=\"699.1170312500001\" cy=\"195.0\" r=\"10.0\" /><circle cx=\"759.1170312500001\" cy=\"95.0\" r=\"10.0\" /><circle cx=\"759.1170312500001\" cy=\"145.0\" r=\"10.0\" /><circle cx=\"839.8862109375001\" cy=\"45.0\" r=\"10.0\" /><circle cx=\"839.8862109375001\" cy=\"95.0\" r=\"10.0\" /><rect x=\"799.1170312500001\" y=\"125.0\" width=\"81.538359375\" height=\"40\" stroke=\"black\" fill=\"white\" stroke-width=\"1\" /><text x=\"839.8862109375001\" y=\"145.0\" dominant-baseline=\"middle\" text-anchor=\"middle\" font-size=\"14px\" font-family=\"Arial\">Ry(theta10)</text><circle cx=\"910.6553906250001\" cy=\"195.0\" r=\"10.0\" /><circle cx=\"910.6553906250001\" cy=\"45.0\" r=\"10.0\" /><rect x=\"930.6553906250001\" y=\"75.0\" width=\"73.7522265625\" height=\"40\" stroke=\"black\" fill=\"white\" stroke-width=\"1\" /><text x=\"967.5315039062501\" y=\"95.0\" dominant-baseline=\"middle\" text-anchor=\"middle\" font-size=\"14px\" font-family=\"Arial\">Ry(theta9)</text><rect x=\"1034.4076171875001\" y=\"25.0\" width=\"80.505859375\" height=\"40\" stroke=\"black\" fill=\"white\" stroke-width=\"1\" /><text x=\"1074.6605468750001\" y=\"45.0\" dominant-baseline=\"middle\" text-anchor=\"middle\" font-size=\"14px\" font-family=\"Arial\">Ry(theta8)</text><rect x=\"1034.4076171875001\" y=\"175.0\" width=\"80.505859375\" height=\"40\" stroke=\"black\" fill=\"white\" stroke-width=\"1\" /><text x=\"1074.6605468750001\" y=\"195.0\" dominant-baseline=\"middle\" text-anchor=\"middle\" font-size=\"14px\" font-family=\"Arial\">Ry(theta11)</text><circle cx=\"1154.9134765625001\" cy=\"145.0\" r=\"10.0\" /><circle cx=\"1154.9134765625001\" cy=\"195.0\" r=\"10.0\" /><circle cx=\"1214.9134765625001\" cy=\"95.0\" r=\"10.0\" /><circle cx=\"1214.9134765625001\" cy=\"145.0\" r=\"10.0\" /><circle cx=\"1295.68265625\" cy=\"45.0\" r=\"10.0\" /><circle cx=\"1295.68265625\" cy=\"95.0\" r=\"10.0\" /><rect x=\"1254.9134765625001\" y=\"125.0\" width=\"81.538359375\" height=\"40\" stroke=\"black\" fill=\"white\" stroke-width=\"1\" /><text x=\"1295.68265625\" y=\"145.0\" dominant-baseline=\"middle\" text-anchor=\"middle\" font-size=\"14px\" font-family=\"Arial\">Ry(theta14)</text><circle cx=\"1366.4518359375002\" cy=\"195.0\" r=\"10.0\" /><circle cx=\"1366.4518359375002\" cy=\"45.0\" r=\"10.0\" /><rect x=\"1386.4518359375002\" y=\"75.0\" width=\"81.538359375\" height=\"40\" stroke=\"black\" fill=\"white\" stroke-width=\"1\" /><text x=\"1427.221015625\" y=\"95.0\" dominant-baseline=\"middle\" text-anchor=\"middle\" font-size=\"14px\" font-family=\"Arial\">Ry(theta13)</text><rect x=\"1497.9901953125002\" y=\"25.0\" width=\"81.538359375\" height=\"40\" stroke=\"black\" fill=\"white\" stroke-width=\"1\" /><text x=\"1538.759375\" y=\"45.0\" dominant-baseline=\"middle\" text-anchor=\"middle\" font-size=\"14px\" font-family=\"Arial\">Ry(theta12)</text><rect x=\"1497.9901953125002\" y=\"175.0\" width=\"81.538359375\" height=\"40\" stroke=\"black\" fill=\"white\" stroke-width=\"1\" /><text x=\"1538.759375\" y=\"195.0\" dominant-baseline=\"middle\" text-anchor=\"middle\" font-size=\"14px\" font-family=\"Arial\">Ry(theta15)</text></svg>",
      "text/plain": [
       "<cirq.contrib.svg.svg.SVGCircuit at 0x7f90782b3190>"
      ]
     },
     "execution_count": 8,
     "metadata": {},
     "output_type": "execute_result"
    }
   ],
   "source": [
    "SVGCircuit(model.NodeNet.model_circuit)"
   ]
  },
  {
   "cell_type": "code",
   "execution_count": 15,
   "metadata": {},
   "outputs": [
    {
     "name": "stdout",
     "output_type": "stream",
     "text": [
      "<tf.Variable 'Variable:0' shape=(1, 16) dtype=float32, numpy=\n",
      "array([[1.2840116 , 6.259226  , 4.592669  , 5.927728  , 2.6765127 ,\n",
      "        1.4148434 , 0.31373954, 3.9064088 , 1.3186707 , 1.3258561 ,\n",
      "        1.0584819 , 5.0238853 , 5.4778686 , 0.8245559 , 5.983012  ,\n",
      "        2.172463  ]], dtype=float32)>\n"
     ]
    }
   ],
   "source": [
    "initial_params=model.EdgeNet.params\n",
    "print(initial_params)"
   ]
  },
  {
   "cell_type": "code",
   "execution_count": 16,
   "metadata": {},
   "outputs": [
    {
     "data": {
      "text/plain": [
       "<tf.Tensor: shape=(10673, 1), dtype=float32, numpy=\n",
       "array([[0.40951154],\n",
       "       [0.42062593],\n",
       "       [0.4095669 ],\n",
       "       ...,\n",
       "       [0.39126736],\n",
       "       [0.42539468],\n",
       "       [0.38746244]], dtype=float32)>"
      ]
     },
     "execution_count": 16,
     "metadata": {},
     "output_type": "execute_result"
    }
   ],
   "source": [
    "model([map2angle(X_test), Ri_test, Ro_test])"
   ]
  },
  {
   "cell_type": "code",
   "execution_count": 17,
   "metadata": {},
   "outputs": [
    {
     "data": {
      "text/plain": [
       "<tf.Variable 'Variable:0' shape=(1, 16) dtype=float32, numpy=\n",
       "array([[1.2840116 , 6.259226  , 4.592669  , 5.927728  , 2.6765127 ,\n",
       "        1.4148434 , 0.31373954, 3.9064088 , 1.3186707 , 1.3258561 ,\n",
       "        1.0584819 , 5.0238853 , 5.4778686 , 0.8245559 , 5.983012  ,\n",
       "        2.172463  ]], dtype=float32)>"
      ]
     },
     "execution_count": 17,
     "metadata": {},
     "output_type": "execute_result"
    }
   ],
   "source": [
    "model.EdgeNet.params"
   ]
  },
  {
   "cell_type": "code",
   "execution_count": 18,
   "metadata": {},
   "outputs": [
    {
     "data": {
      "text/plain": [
       "[<tf.Variable 'GNN/InputNet/kernel:0' shape=(3, 4) dtype=float32, numpy=\n",
       " array([[-0.13783038, -0.03880394, -0.61459756, -0.39968383],\n",
       "        [-0.38154137,  0.65037763,  0.79290175, -0.40675366],\n",
       "        [ 0.6019714 , -0.05791521, -0.25345856, -0.76330894]],\n",
       "       dtype=float32)>,\n",
       " <tf.Variable 'GNN/InputNet/bias:0' shape=(4,) dtype=float32, numpy=array([0., 0., 0., 0.], dtype=float32)>,\n",
       " <tf.Variable 'Variable:0' shape=(1, 16) dtype=float32, numpy=\n",
       " array([[1.2840116 , 6.259226  , 4.592669  , 5.927728  , 2.6765127 ,\n",
       "         1.4148434 , 0.31373954, 3.9064088 , 1.3186707 , 1.3258561 ,\n",
       "         1.0584819 , 5.0238853 , 5.4778686 , 0.8245559 , 5.983012  ,\n",
       "         2.172463  ]], dtype=float32)>,\n",
       " <tf.Variable 'dense_2/kernel:0' shape=(14, 4) dtype=float32, numpy=\n",
       " array([[ 0.08548969,  0.32524806,  0.05196214, -0.55681604],\n",
       "        [-0.30323517, -0.17748973,  0.19112885,  0.32711112],\n",
       "        [-0.34103537,  0.04974419,  0.45772028, -0.0492785 ],\n",
       "        [ 0.3753084 , -0.34228224, -0.29875875, -0.40044695],\n",
       "        [-0.41043007,  0.12819594, -0.0129962 , -0.2020329 ],\n",
       "        [ 0.46867   ,  0.5159434 ,  0.40803635, -0.02806413],\n",
       "        [-0.39205146,  0.31245488, -0.53006756, -0.35902363],\n",
       "        [ 0.21918738, -0.32481182,  0.55282867, -0.48210788],\n",
       "        [-0.4587829 , -0.40337974,  0.24115264,  0.5711794 ],\n",
       "        [-0.45914572,  0.26636177, -0.17406744,  0.5763209 ],\n",
       "        [ 0.25863612, -0.22193146,  0.41690433,  0.5629946 ],\n",
       "        [ 0.1804707 ,  0.3341096 , -0.5489259 ,  0.14446545],\n",
       "        [-0.57156366,  0.06589669, -0.02133149, -0.25636086],\n",
       "        [ 0.16959077,  0.14317894, -0.55513006,  0.11446744]],\n",
       "       dtype=float32)>,\n",
       " <tf.Variable 'dense_2/bias:0' shape=(4,) dtype=float32, numpy=array([0., 0., 0., 0.], dtype=float32)>,\n",
       " <tf.Variable 'GNN/EdgeNet/dense_3/kernel:0' shape=(4, 1) dtype=float32, numpy=\n",
       " array([[ 0.7086731 ],\n",
       "        [-0.9007937 ],\n",
       "        [ 0.46955407],\n",
       "        [-0.4393059 ]], dtype=float32)>,\n",
       " <tf.Variable 'GNN/EdgeNet/dense_3/bias:0' shape=(1,) dtype=float32, numpy=array([0.], dtype=float32)>,\n",
       " <tf.Variable 'Variable:0' shape=(1, 16) dtype=float32, numpy=\n",
       " array([[4.6303368 , 5.2687335 , 0.91438067, 2.5848708 , 1.6472205 ,\n",
       "         5.307986  , 6.202259  , 3.2723885 , 4.391275  , 5.8210087 ,\n",
       "         3.0048864 , 0.7936201 , 1.422577  , 6.0645833 , 1.4162111 ,\n",
       "         1.5087517 ]], dtype=float32)>,\n",
       " <tf.Variable 'dense_4/kernel:0' shape=(21, 4) dtype=float32, numpy=\n",
       " array([[ 0.06195477, -0.07014728,  0.3739511 ,  0.14246657],\n",
       "        [-0.07357466, -0.23465264,  0.2818828 ,  0.45398965],\n",
       "        [-0.21590868, -0.10131755,  0.05290827,  0.1532689 ],\n",
       "        [ 0.0996376 , -0.31887102,  0.3165029 ,  0.06624427],\n",
       "        [ 0.361676  , -0.41075772, -0.0125618 ,  0.23861137],\n",
       "        [ 0.11313978,  0.43247154,  0.28156403,  0.42363128],\n",
       "        [ 0.14730677, -0.02508998, -0.4188089 , -0.13536614],\n",
       "        [ 0.10268155,  0.08313927, -0.48562792, -0.15161148],\n",
       "        [ 0.08660951, -0.4300635 ,  0.28114668, -0.09317011],\n",
       "        [-0.46645755, -0.28531963,  0.27387294,  0.36327222],\n",
       "        [ 0.08803096,  0.15595809,  0.3318157 ,  0.40315422],\n",
       "        [ 0.13825414, -0.22473904, -0.25357753,  0.14396665],\n",
       "        [-0.04356855, -0.05119061,  0.46638253,  0.22011104],\n",
       "        [-0.02830642,  0.415839  , -0.02128938, -0.02974847],\n",
       "        [ 0.01433918,  0.16555694, -0.4092865 , -0.04242495],\n",
       "        [ 0.27286413,  0.21738073,  0.40044674, -0.00829133],\n",
       "        [ 0.39928004, -0.36753908,  0.12971577, -0.4733648 ],\n",
       "        [-0.23542911, -0.06666416,  0.03172007,  0.46843228],\n",
       "        [-0.270594  , -0.17638037,  0.26485237,  0.31292853],\n",
       "        [ 0.14127907,  0.0664182 ,  0.11007586, -0.05214208],\n",
       "        [ 0.46166417,  0.30966863, -0.29971415, -0.08168486]],\n",
       "       dtype=float32)>,\n",
       " <tf.Variable 'dense_4/bias:0' shape=(4,) dtype=float32, numpy=array([0., 0., 0., 0.], dtype=float32)>,\n",
       " <tf.Variable 'dense_5/kernel:0' shape=(4, 4) dtype=float32, numpy=\n",
       " array([[-0.00428396, -0.62715596, -0.11521763, -0.525126  ],\n",
       "        [ 0.49193507, -0.35084534, -0.33530408,  0.6742446 ],\n",
       "        [ 0.47871464, -0.20443738,  0.70739394, -0.15343583],\n",
       "        [-0.55600023, -0.35906684, -0.223261  , -0.6185841 ]],\n",
       "       dtype=float32)>,\n",
       " <tf.Variable 'dense_5/bias:0' shape=(4,) dtype=float32, numpy=array([0., 0., 0., 0.], dtype=float32)>]"
      ]
     },
     "execution_count": 18,
     "metadata": {},
     "output_type": "execute_result"
    }
   ],
   "source": [
    "(model.trainable_variables)"
   ]
  },
  {
   "cell_type": "code",
   "execution_count": 19,
   "metadata": {},
   "outputs": [
    {
     "data": {
      "text/plain": [
       "<tf.Variable 'Variable:0' shape=(1, 16) dtype=float32, numpy=\n",
       "array([[1.2840116 , 6.259226  , 4.592669  , 5.927728  , 2.6765127 ,\n",
       "        1.4148434 , 0.31373954, 3.9064088 , 1.3186707 , 1.3258561 ,\n",
       "        1.0584819 , 5.0238853 , 5.4778686 , 0.8245559 , 5.983012  ,\n",
       "        2.172463  ]], dtype=float32)>"
      ]
     },
     "execution_count": 19,
     "metadata": {},
     "output_type": "execute_result"
    }
   ],
   "source": [
    "model.EdgeNet.params"
   ]
  },
  {
   "cell_type": "code",
   "execution_count": 20,
   "metadata": {},
   "outputs": [
    {
     "data": {
      "text/plain": [
       "(6217, 10673)"
      ]
     },
     "execution_count": 20,
     "metadata": {},
     "output_type": "execute_result"
    }
   ],
   "source": [
    "np.shape(Ri_test)"
   ]
  },
  {
   "cell_type": "code",
   "execution_count": 21,
   "metadata": {},
   "outputs": [
    {
     "data": {
      "text/plain": [
       "159"
      ]
     },
     "execution_count": 21,
     "metadata": {},
     "output_type": "execute_result"
    }
   ],
   "source": [
    "len(dir(EdgeNet))"
   ]
  },
  {
   "cell_type": "code",
   "execution_count": 22,
   "metadata": {},
   "outputs": [],
   "source": [
    "InputNet =  tf.keras.layers.Dense(\n",
    "            GNN.config['hid_dim'], input_shape=(3,),\n",
    "            activation='relu',name='InputNet'\n",
    "        )"
   ]
  },
  {
   "cell_type": "code",
   "execution_count": 23,
   "metadata": {},
   "outputs": [],
   "source": [
    "\n",
    "# execute InputNet to produce hidden dimensions\n",
    "H = InputNet(X_test)\n",
    "# add new dimensions to original X matrix\n",
    "H = tf.concat([H,X_test],axis=1)\n"
   ]
  },
  {
   "cell_type": "code",
   "execution_count": 24,
   "metadata": {},
   "outputs": [],
   "source": [
    "bo = tf.matmul(Ro_test,H,transpose_a=True)\n",
    "bi = tf.matmul(Ri_test,H,transpose_a=True)\n",
    "\n",
    "# Shape of B = N_edges x 6 (2x (3 coordinates))\n",
    "# each row consists of two node that are possibly connected.\n",
    "B  = tf.concat([bo, bi], axis=1) # n_edges x 6, 3-> r,phi,z "
   ]
  },
  {
   "cell_type": "code",
   "execution_count": 25,
   "metadata": {},
   "outputs": [
    {
     "data": {
      "text/plain": [
       "<tf.Tensor: shape=(7,), dtype=float32, numpy=\n",
       "array([ 0.        ,  0.33198527,  0.0964465 ,  0.09474768,  0.03149671,\n",
       "       -0.41214406,  0.0447477 ], dtype=float32)>"
      ]
     },
     "execution_count": 25,
     "metadata": {},
     "output_type": "execute_result"
    }
   ],
   "source": [
    "bi[0]"
   ]
  },
  {
   "cell_type": "code",
   "execution_count": 26,
   "metadata": {},
   "outputs": [],
   "source": [
    "hid_dim=4\n",
    "layer = tf.keras.Sequential([\n",
    "            tf.keras.Input(shape=(hid_dim+3)*2,),\n",
    "            tf.keras.layers.Dense(hid_dim, activation='tanh'),\n",
    "            tf.keras.layers.Dense(1, activation='sigmoid'),\n",
    "        ])"
   ]
  },
  {
   "cell_type": "code",
   "execution_count": 27,
   "metadata": {},
   "outputs": [
    {
     "data": {
      "text/plain": [
       "TensorShape([10673, 14])"
      ]
     },
     "execution_count": 27,
     "metadata": {},
     "output_type": "execute_result"
    }
   ],
   "source": [
    "np.shape(B)"
   ]
  },
  {
   "cell_type": "code",
   "execution_count": 28,
   "metadata": {},
   "outputs": [],
   "source": [
    "e=layer(B)"
   ]
  },
  {
   "cell_type": "code",
   "execution_count": null,
   "metadata": {},
   "outputs": [],
   "source": [
    "e"
   ]
  },
  {
   "cell_type": "code",
   "execution_count": null,
   "metadata": {},
   "outputs": [],
   "source": [
    "Rwo = Ro_test * e[:,0]\n",
    "Rwi = Ri_test * e[:,0]"
   ]
  },
  {
   "cell_type": "code",
   "execution_count": null,
   "metadata": {},
   "outputs": [],
   "source": [
    "mi = tf.matmul(Rwi, bi)\n",
    "mo = tf.matmul(Rwo, bo)"
   ]
  },
  {
   "cell_type": "code",
   "execution_count": null,
   "metadata": {},
   "outputs": [],
   "source": [
    "M = tf.concat([mi, mo, X_test], axis=1)"
   ]
  },
  {
   "cell_type": "code",
   "execution_count": null,
   "metadata": {},
   "outputs": [],
   "source": [
    "np.shape(M)"
   ]
  },
  {
   "cell_type": "code",
   "execution_count": null,
   "metadata": {},
   "outputs": [],
   "source": [
    "hid_dim=4\n",
    "node_layer = tf.keras.Sequential([\n",
    "            tf.keras.Input(shape=(hid_dim+3)*3,),\n",
    "            tf.keras.layers.Dense(hid_dim, activation='tanh'),\n",
    "            tf.keras.layers.Dropout(.2, input_shape=(hid_dim,)),\n",
    "            tf.keras.layers.Dense(hid_dim, activation='sigmoid'),\n",
    "        ])"
   ]
  },
  {
   "cell_type": "code",
   "execution_count": null,
   "metadata": {},
   "outputs": [],
   "source": [
    "\n",
    "bo  = tf.matmul(Ro_test, H, transpose_a=True)\n",
    "bi  = tf.matmul(Ri_test, H, transpose_a=True) \n",
    "Rwo = Ro_test * e[:,0]\n",
    "Rwi = Ri_test * e[:,0]\n",
    "\n",
    "# changin the order to test something !!!!!!!!! DONT FORGET TO LOOK BACK!!!\n",
    "mi = tf.matmul(Rwi, bo)\n",
    "mo = tf.matmul(Rwo, bi)\n",
    "# Shape of M = N_nodes x 9 (3x (3 coordinates))\n",
    "# each row consists of a node and its 2 possible neigbours\n",
    "M = tf.concat([mi, mo, H], axis=1)\n",
    "\n",
    "node_layer(M)"
   ]
  },
  {
   "cell_type": "code",
   "execution_count": null,
   "metadata": {},
   "outputs": [],
   "source": [
    "H[0]"
   ]
  },
  {
   "cell_type": "code",
   "execution_count": null,
   "metadata": {},
   "outputs": [],
   "source": [
    "M[0]"
   ]
  },
  {
   "cell_type": "code",
   "execution_count": null,
   "metadata": {},
   "outputs": [],
   "source": [
    "-0.808/-0.136"
   ]
  },
  {
   "cell_type": "code",
   "execution_count": null,
   "metadata": {},
   "outputs": [],
   "source": [
    "np.shape(mo)"
   ]
  },
  {
   "cell_type": "code",
   "execution_count": null,
   "metadata": {},
   "outputs": [],
   "source": [
    "np.shape(M)"
   ]
  },
  {
   "cell_type": "code",
   "execution_count": null,
   "metadata": {},
   "outputs": [],
   "source": [
    "EdgeNet  = EdgeNet(name='EdgeNet')"
   ]
  },
  {
   "cell_type": "code",
   "execution_count": null,
   "metadata": {},
   "outputs": [],
   "source": [
    "initial_params=EdgeNet.params"
   ]
  },
  {
   "cell_type": "code",
   "execution_count": null,
   "metadata": {},
   "outputs": [],
   "source": [
    "Trained_EdgeNet=EdgeNet(H, Ri_test, Ro_test)"
   ]
  },
  {
   "cell_type": "code",
   "execution_count": null,
   "metadata": {},
   "outputs": [],
   "source": [
    "Trained_EdgeNet"
   ]
  },
  {
   "cell_type": "code",
   "execution_count": null,
   "metadata": {},
   "outputs": [],
   "source": [
    "initial_params"
   ]
  },
  {
   "cell_type": "code",
   "execution_count": null,
   "metadata": {},
   "outputs": [],
   "source": [
    "model_test=GNN()"
   ]
  },
  {
   "cell_type": "code",
   "execution_count": null,
   "metadata": {},
   "outputs": [],
   "source": [
    "circuit= cirq.Circuit()\n",
    "qubits  = cirq.GridQubit.rect(n_qubits, 1)\n",
    "n_layers=1\n",
    "n_qubits=4\n",
    "symbol_offset=0\n",
    "params = sympy.symbols('theta{}:{}'.format(symbol_offset, symbol_offset + n_qubits*(1+n_layers)))"
   ]
  },
  {
   "cell_type": "code",
   "execution_count": null,
   "metadata": {},
   "outputs": [],
   "source": [
    "qc = QCircuit(IEC_id='simple_encoding_y',\n",
    "            PQC_id='10',\n",
    "            MC_id='measure_all',\n",
    "            n_layers=n_layers, \n",
    "            input_size=n_qubits,\n",
    "            p=0.01)\n",
    "qc_2= QCircuit(IEC_id='simple_encoding_y',\n",
    "            PQC_id='10nocz',\n",
    "            MC_id='measure_all',\n",
    "            n_layers=n_layers, \n",
    "            input_size=n_qubits,\n",
    "            p=0.01)"
   ]
  },
  {
   "cell_type": "code",
   "execution_count": null,
   "metadata": {},
   "outputs": [],
   "source": [
    "(qc.model_circuit())"
   ]
  },
  {
   "cell_type": "code",
   "execution_count": null,
   "metadata": {},
   "outputs": [],
   "source": [
    "qc_2.model_circuit()"
   ]
  },
  {
   "cell_type": "code",
   "execution_count": null,
   "metadata": {},
   "outputs": [],
   "source": [
    "model_test.EdgeNet.model_circuit=qc_2.model_circuit()[0]"
   ]
  },
  {
   "cell_type": "code",
   "execution_count": null,
   "metadata": {},
   "outputs": [],
   "source": [
    "model_test(X_test,Ri_test,Ro_test,y_test)"
   ]
  },
  {
   "cell_type": "code",
   "execution_count": null,
   "metadata": {},
   "outputs": [],
   "source": [
    "train_files=os.listdir('/Users/lucascurtin/Desktop/edge_data/train_graphs')\n",
    "valid_files=os.listdir('/Users/lucascurtin/Desktop/edge_data/valid_graphs')"
   ]
  },
  {
   "cell_type": "code",
   "execution_count": null,
   "metadata": {},
   "outputs": [],
   "source": [
    "\n",
    "fake_edges=0\n",
    "true_edges=0\n",
    "all_edges=0\n",
    "for i in range(len(train_files)):\n",
    "    if train_files[i]!='.DS_Store':\n",
    "        dir='/Users/lucascurtin/Desktop/edge_data/train_graphs/{}'.format(train_files[i])\n",
    "        X_f, Ri_f, Ro_f, y_f = load_graph(dir)\n",
    "        fake_edges+=y_f.tolist().count(0)\n",
    "        true_edges+=y_f.tolist().count(1)\n",
    "        all_edges+=len(y_f)\n",
    "        print(i)\n",
    "    \n",
    "for i in range(len(valid_files)):\n",
    "    if valid_files[i]!='.DS_Store':\n",
    "        dir='/Users/lucascurtin/Desktop/edge_data/valid_graphs/{}'.format(valid_files[i])\n",
    "        X_f, Ri_f, Ro_f, y_f = load_graph(dir)\n",
    "        fake_edges+=y_f.tolist().count(0)\n",
    "        true_edges+=y_f.tolist().count(1)\n",
    "        all_edges+=len(y_f)\n",
    "        print(i)\n"
   ]
  },
  {
   "cell_type": "code",
   "execution_count": null,
   "metadata": {},
   "outputs": [],
   "source": [
    "y_f.tolist().count(0)"
   ]
  },
  {
   "cell_type": "code",
   "execution_count": null,
   "metadata": {},
   "outputs": [],
   "source": [
    "train_files[16]"
   ]
  },
  {
   "cell_type": "code",
   "execution_count": null,
   "metadata": {},
   "outputs": [],
   "source": [
    "fake_edges,true_edges,all_edges"
   ]
  },
  {
   "cell_type": "code",
   "execution_count": 12,
   "metadata": {},
   "outputs": [],
   "source": [
    "class Rescale01(tf.keras.layers.Layer):\n",
    "    def __init__(self, name='Rescale01'):\n",
    "        super(Rescale01, self).__init__(name=name)\n",
    "\n",
    "    def call(self, X):\n",
    "        X = tf.divide(\n",
    "                tf.subtract(\n",
    "                    X, \n",
    "                    tf.reduce_min(X)\n",
    "                ), \n",
    "                tf.subtract(\n",
    "                    tf.reduce_max(X), \n",
    "                    tf.reduce_min(X)\n",
    "                ),\n",
    "            lambda: X\n",
    "        )\n",
    "        return X"
   ]
  },
  {
   "cell_type": "code",
   "execution_count": 13,
   "metadata": {},
   "outputs": [],
   "source": [
    "input_layer = tf.keras.Sequential([\n",
    "            tf.keras.layers.Dense(\n",
    "                4, \n",
    "                activation='relu'),\n",
    "            Rescale01()\n",
    "        ])"
   ]
  },
  {
   "cell_type": "code",
   "execution_count": 29,
   "metadata": {},
   "outputs": [
    {
     "ename": "InvalidArgumentError",
     "evalue": "cannot compute ConcatV2 as input #1(zero-based) was expected to be a float tensor but is a int32 tensor [Op:ConcatV2] name: concat",
     "output_type": "error",
     "traceback": [
      "\u001b[0;31m---------------------------------------------------------------------------\u001b[0m",
      "\u001b[0;31mInvalidArgumentError\u001b[0m                      Traceback (most recent call last)",
      "\u001b[1;32m/Users/lucascurtin/Desktop/QGNN Repos/qtrkx-gnn-tracking/circuit_examination.ipynb Cell 53\u001b[0m in \u001b[0;36m<cell line: 4>\u001b[0;34m()\u001b[0m\n\u001b[1;32m      <a href='vscode-notebook-cell:/Users/lucascurtin/Desktop/QGNN%20Repos/qtrkx-gnn-tracking/circuit_examination.ipynb#Y213sZmlsZQ%3D%3D?line=0'>1</a>\u001b[0m input_to_circuit \u001b[39m=\u001b[39m input_layer(B) \u001b[39m*\u001b[39m np\u001b[39m.\u001b[39mpi\n\u001b[1;32m      <a href='vscode-notebook-cell:/Users/lucascurtin/Desktop/QGNN%20Repos/qtrkx-gnn-tracking/circuit_examination.ipynb#Y213sZmlsZQ%3D%3D?line=2'>3</a>\u001b[0m         \u001b[39m# Combine input data with parameters in a single circuit_data matrix\u001b[39;00m\n\u001b[0;32m----> <a href='vscode-notebook-cell:/Users/lucascurtin/Desktop/QGNN%20Repos/qtrkx-gnn-tracking/circuit_examination.ipynb#Y213sZmlsZQ%3D%3D?line=3'>4</a>\u001b[0m circuit_data \u001b[39m=\u001b[39m tf\u001b[39m.\u001b[39;49mconcat(\n\u001b[1;32m      <a href='vscode-notebook-cell:/Users/lucascurtin/Desktop/QGNN%20Repos/qtrkx-gnn-tracking/circuit_examination.ipynb#Y213sZmlsZQ%3D%3D?line=4'>5</a>\u001b[0m     [\n\u001b[1;32m      <a href='vscode-notebook-cell:/Users/lucascurtin/Desktop/QGNN%20Repos/qtrkx-gnn-tracking/circuit_examination.ipynb#Y213sZmlsZQ%3D%3D?line=5'>6</a>\u001b[0m         input_to_circuit, \n\u001b[1;32m      <a href='vscode-notebook-cell:/Users/lucascurtin/Desktop/QGNN%20Repos/qtrkx-gnn-tracking/circuit_examination.ipynb#Y213sZmlsZQ%3D%3D?line=6'>7</a>\u001b[0m         tf\u001b[39m.\u001b[39;49mrepeat(\u001b[39m20\u001b[39;49m,repeats\u001b[39m=\u001b[39;49minput_to_circuit\u001b[39m.\u001b[39;49mshape[\u001b[39m0\u001b[39;49m],axis\u001b[39m=\u001b[39;49m\u001b[39m0\u001b[39;49m)\n\u001b[1;32m      <a href='vscode-notebook-cell:/Users/lucascurtin/Desktop/QGNN%20Repos/qtrkx-gnn-tracking/circuit_examination.ipynb#Y213sZmlsZQ%3D%3D?line=7'>8</a>\u001b[0m     ],\n\u001b[1;32m      <a href='vscode-notebook-cell:/Users/lucascurtin/Desktop/QGNN%20Repos/qtrkx-gnn-tracking/circuit_examination.ipynb#Y213sZmlsZQ%3D%3D?line=8'>9</a>\u001b[0m     axis\u001b[39m=\u001b[39;49m\u001b[39m1\u001b[39;49m\n\u001b[1;32m     <a href='vscode-notebook-cell:/Users/lucascurtin/Desktop/QGNN%20Repos/qtrkx-gnn-tracking/circuit_examination.ipynb#Y213sZmlsZQ%3D%3D?line=9'>10</a>\u001b[0m )\n",
      "File \u001b[0;32m~/opt/anaconda3/envs/qtrkx/lib/python3.8/site-packages/tensorflow/python/util/dispatch.py:201\u001b[0m, in \u001b[0;36madd_dispatch_support.<locals>.wrapper\u001b[0;34m(*args, **kwargs)\u001b[0m\n\u001b[1;32m    199\u001b[0m \u001b[39m\"\"\"Call target, and fall back on dispatchers if there is a TypeError.\"\"\"\u001b[39;00m\n\u001b[1;32m    200\u001b[0m \u001b[39mtry\u001b[39;00m:\n\u001b[0;32m--> 201\u001b[0m   \u001b[39mreturn\u001b[39;00m target(\u001b[39m*\u001b[39;49margs, \u001b[39m*\u001b[39;49m\u001b[39m*\u001b[39;49mkwargs)\n\u001b[1;32m    202\u001b[0m \u001b[39mexcept\u001b[39;00m (\u001b[39mTypeError\u001b[39;00m, \u001b[39mValueError\u001b[39;00m):\n\u001b[1;32m    203\u001b[0m   \u001b[39m# Note: convert_to_eager_tensor currently raises a ValueError, not a\u001b[39;00m\n\u001b[1;32m    204\u001b[0m   \u001b[39m# TypeError, when given unexpected types.  So we need to catch both.\u001b[39;00m\n\u001b[1;32m    205\u001b[0m   result \u001b[39m=\u001b[39m dispatch(wrapper, args, kwargs)\n",
      "File \u001b[0;32m~/opt/anaconda3/envs/qtrkx/lib/python3.8/site-packages/tensorflow/python/ops/array_ops.py:1654\u001b[0m, in \u001b[0;36mconcat\u001b[0;34m(values, axis, name)\u001b[0m\n\u001b[1;32m   1650\u001b[0m     ops\u001b[39m.\u001b[39mconvert_to_tensor(\n\u001b[1;32m   1651\u001b[0m         axis, name\u001b[39m=\u001b[39m\u001b[39m\"\u001b[39m\u001b[39mconcat_dim\u001b[39m\u001b[39m\"\u001b[39m,\n\u001b[1;32m   1652\u001b[0m         dtype\u001b[39m=\u001b[39mdtypes\u001b[39m.\u001b[39mint32)\u001b[39m.\u001b[39mget_shape()\u001b[39m.\u001b[39massert_has_rank(\u001b[39m0\u001b[39m)\n\u001b[1;32m   1653\u001b[0m     \u001b[39mreturn\u001b[39;00m identity(values[\u001b[39m0\u001b[39m], name\u001b[39m=\u001b[39mname)\n\u001b[0;32m-> 1654\u001b[0m \u001b[39mreturn\u001b[39;00m gen_array_ops\u001b[39m.\u001b[39;49mconcat_v2(values\u001b[39m=\u001b[39;49mvalues, axis\u001b[39m=\u001b[39;49maxis, name\u001b[39m=\u001b[39;49mname)\n",
      "File \u001b[0;32m~/opt/anaconda3/envs/qtrkx/lib/python3.8/site-packages/tensorflow/python/ops/gen_array_ops.py:1207\u001b[0m, in \u001b[0;36mconcat_v2\u001b[0;34m(values, axis, name)\u001b[0m\n\u001b[1;32m   1205\u001b[0m   \u001b[39mreturn\u001b[39;00m _result\n\u001b[1;32m   1206\u001b[0m \u001b[39mexcept\u001b[39;00m _core\u001b[39m.\u001b[39m_NotOkStatusException \u001b[39mas\u001b[39;00m e:\n\u001b[0;32m-> 1207\u001b[0m   _ops\u001b[39m.\u001b[39;49mraise_from_not_ok_status(e, name)\n\u001b[1;32m   1208\u001b[0m \u001b[39mexcept\u001b[39;00m _core\u001b[39m.\u001b[39m_FallbackException:\n\u001b[1;32m   1209\u001b[0m   \u001b[39mpass\u001b[39;00m\n",
      "File \u001b[0;32m~/opt/anaconda3/envs/qtrkx/lib/python3.8/site-packages/tensorflow/python/framework/ops.py:6843\u001b[0m, in \u001b[0;36mraise_from_not_ok_status\u001b[0;34m(e, name)\u001b[0m\n\u001b[1;32m   6841\u001b[0m message \u001b[39m=\u001b[39m e\u001b[39m.\u001b[39mmessage \u001b[39m+\u001b[39m (\u001b[39m\"\u001b[39m\u001b[39m name: \u001b[39m\u001b[39m\"\u001b[39m \u001b[39m+\u001b[39m name \u001b[39mif\u001b[39;00m name \u001b[39mis\u001b[39;00m \u001b[39mnot\u001b[39;00m \u001b[39mNone\u001b[39;00m \u001b[39melse\u001b[39;00m \u001b[39m\"\u001b[39m\u001b[39m\"\u001b[39m)\n\u001b[1;32m   6842\u001b[0m \u001b[39m# pylint: disable=protected-access\u001b[39;00m\n\u001b[0;32m-> 6843\u001b[0m six\u001b[39m.\u001b[39;49mraise_from(core\u001b[39m.\u001b[39;49m_status_to_exception(e\u001b[39m.\u001b[39;49mcode, message), \u001b[39mNone\u001b[39;49;00m)\n",
      "File \u001b[0;32m<string>:3\u001b[0m, in \u001b[0;36mraise_from\u001b[0;34m(value, from_value)\u001b[0m\n",
      "\u001b[0;31mInvalidArgumentError\u001b[0m: cannot compute ConcatV2 as input #1(zero-based) was expected to be a float tensor but is a int32 tensor [Op:ConcatV2] name: concat"
     ]
    }
   ],
   "source": [
    "input_to_circuit = input_layer(B) * np.pi\n",
    "\n",
    "        # Combine input data with parameters in a single circuit_data matrix\n",
    "circuit_data = tf.concat(\n",
    "    [\n",
    "        input_to_circuit, \n",
    "        tf.repeat(20,repeats=input_to_circuit.shape[0],axis=0)\n",
    "    ],\n",
    "    axis=1\n",
    ")        \n"
   ]
  },
  {
   "cell_type": "code",
   "execution_count": null,
   "metadata": {},
   "outputs": [],
   "source": []
  }
 ],
 "metadata": {
  "kernelspec": {
   "display_name": "qtrkx",
   "language": "python",
   "name": "python3"
  },
  "language_info": {
   "codemirror_mode": {
    "name": "ipython",
    "version": 3
   },
   "file_extension": ".py",
   "mimetype": "text/x-python",
   "name": "python",
   "nbconvert_exporter": "python",
   "pygments_lexer": "ipython3",
   "version": "3.8.5"
  },
  "orig_nbformat": 4
 },
 "nbformat": 4,
 "nbformat_minor": 2
}
